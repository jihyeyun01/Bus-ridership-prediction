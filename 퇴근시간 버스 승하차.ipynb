{
  "cells": [
    {
      "cell_type": "code",
      "source": [
        "from google.colab import drive\n",
        "drive.mount('/content/drive')"
      ],
      "metadata": {
        "colab": {
          "base_uri": "https://localhost:8080/"
        },
        "id": "GJrKNJMlaWNy",
        "outputId": "b34efb9e-ebfa-4e77-dc5d-40beab82ea47"
      },
      "id": "GJrKNJMlaWNy",
      "execution_count": null,
      "outputs": [
        {
          "output_type": "stream",
          "name": "stdout",
          "text": [
            "Drive already mounted at /content/drive; to attempt to forcibly remount, call drive.mount(\"/content/drive\", force_remount=True).\n"
          ]
        }
      ]
    },
    {
      "cell_type": "markdown",
      "metadata": {
        "id": "d2ff6132"
      },
      "source": [
        "## 필요함수 호출"
      ],
      "id": "d2ff6132"
    },
    {
      "cell_type": "code",
      "execution_count": null,
      "metadata": {
        "id": "f970afaf"
      },
      "outputs": [],
      "source": [
        "import pandas as pd\n",
        "import numpy as np\n",
        "import lightgbm as lgb\n",
        "from sklearn.model_selection import train_test_split\n",
        "from sklearn.model_selection import GridSearchCV\n",
        "import geopy.distance # 거리계산 패키지\n",
        "from collections import Counter # count 용도\n",
        "from pycaret.regression import * #최적의 모델찾기"
      ],
      "id": "f970afaf"
    },
    {
      "cell_type": "markdown",
      "metadata": {
        "id": "d978b756"
      },
      "source": [
        "## train, test데이터 불러오기"
      ],
      "id": "d978b756"
    },
    {
      "cell_type": "code",
      "execution_count": null,
      "metadata": {
        "id": "f2900272"
      },
      "outputs": [],
      "source": [
        "train=pd.read_csv('/content/drive/MyDrive/Lecture/jeju/train.csv')\n",
        "test=pd.read_csv('/content/drive/MyDrive/Lecture/jeju/test.csv')"
      ],
      "id": "f2900272"
    },
    {
      "cell_type": "code",
      "execution_count": null,
      "metadata": {
        "id": "uDby62HtSZal"
      },
      "outputs": [],
      "source": [
        "# 해당 주요 장소의 임의 지역 위도, 경도\n",
        "\n",
        "jeju=(33.51411, 126.52969) # 제주 측정소 근처\n",
        "gosan=(33.29382, 126.16283) #고산 측정소 근처\n",
        "seongsan=(33.38677, 126.8802) #성산 측정소 근처\n",
        "po=(33.24616, 126.5653) #서귀포 측정소 근처"
      ],
      "id": "uDby62HtSZal"
    },
    {
      "cell_type": "code",
      "execution_count": null,
      "metadata": {
        "colab": {
          "base_uri": "https://localhost:8080/"
        },
        "id": "EDU36yz4SaiQ",
        "outputId": "25c90d53-559f-44f2-bf62-6ef7a1d14ca0"
      },
      "outputs": [
        {
          "output_type": "stream",
          "name": "stderr",
          "text": [
            "/usr/local/lib/python3.7/dist-packages/ipykernel_launcher.py:4: FutureWarning: Indexing with multiple keys (implicitly converted to a tuple of keys) will be deprecated, use a list instead.\n",
            "  after removing the cwd from sys.path.\n"
          ]
        }
      ],
      "source": [
        "#정류장의 위치만 확인하기 위해 groupby를 실행함\n",
        "data=train[['latitude','longitude','station_name']].drop_duplicates(keep='first')\n",
        "\n",
        "data2=data.groupby(['station_name'])['latitude','longitude'].mean()\n",
        "\n",
        "data2.to_csv(\"folium.csv\")\n",
        "\n",
        "data2=pd.read_csv(\"folium.csv\")"
      ],
      "id": "EDU36yz4SaiQ"
    },
    {
      "cell_type": "code",
      "execution_count": null,
      "metadata": {
        "id": "PXBGhMTySeGa"
      },
      "outputs": [],
      "source": [
        "t1 = [geopy.distance.vincenty( (i,j), jeju).km for i,j in list( zip( train['latitude'],train['longitude'] )) ]\n",
        "t2 = [geopy.distance.vincenty( (i,j), gosan).km for i,j in list( zip( train['latitude'],train['longitude'] )) ]\n",
        "t3 = [geopy.distance.vincenty( (i,j), seongsan).km for i,j in list( zip( train['latitude'],train['longitude'] )) ]\n",
        "t4 = [geopy.distance.vincenty( (i,j), po).km for i,j in list( zip( train['latitude'],train['longitude'] )) ]\n",
        "\n",
        "train['dis_jeju']=t1\n",
        "train['dis_gosan']=t2\n",
        "train['dis_seongsan']=t3\n",
        "train['dis_po']=t4"
      ],
      "id": "PXBGhMTySeGa"
    },
    {
      "cell_type": "code",
      "execution_count": null,
      "metadata": {
        "colab": {
          "base_uri": "https://localhost:8080/"
        },
        "id": "UVtuJawxShE_",
        "outputId": "572e8554-26e0-4d62-9515-f7ea4018ea99"
      },
      "outputs": [
        {
          "output_type": "execute_result",
          "data": {
            "text/plain": [
              "Counter({0: 1479, 1: 659, 2: 597, 3: 828})"
            ]
          },
          "metadata": {},
          "execution_count": 179
        }
      ],
      "source": [
        "# 각측정소와 정류소의 거리를 계산한 다음, 해당 정류소에서\n",
        "# 가장 가까운 곳에 있는 측정소를 dist_name변수의 값으로 넣는다.\n",
        "total=pd.DataFrame( list(zip( t1,t2,t3,t4)),columns=['jeju','gosan','seongsan','po'] )\n",
        "train['dist_name'] = total.apply(lambda x: x.argmin(), axis=1)\n",
        "\n",
        "data22=train[['station_name','latitude','longitude','dist_name']].drop_duplicates(keep='first')\n",
        "\n",
        "Counter(data22['dist_name'])"
      ],
      "id": "UVtuJawxShE_"
    },
    {
      "cell_type": "code",
      "execution_count": null,
      "metadata": {
        "id": "K9bWd2KCSywr"
      },
      "outputs": [],
      "source": [
        "t1 = [geopy.distance.vincenty( (i,j), jeju).km for i,j in list( zip( test['latitude'],test['longitude'] )) ]\n",
        "t2 = [geopy.distance.vincenty( (i,j), gosan).km for i,j in list( zip( test['latitude'],test['longitude'] )) ]\n",
        "t3 = [geopy.distance.vincenty( (i,j), seongsan).km for i,j in list( zip( test['latitude'],test['longitude'] )) ]\n",
        "t4 = [geopy.distance.vincenty( (i,j), po).km for i,j in list( zip( test['latitude'],test['longitude'] )) ]\n",
        "\n",
        "test['dis_jeju']=t1\n",
        "test['dis_gosan']=t2\n",
        "test['dis_seongsan']=t3\n",
        "test['dis_po']=t4\n",
        "\n",
        "total=pd.DataFrame( list(zip( t1,t2,t3,t4)),columns=['jeju','gosan','seongsan','po'] )\n",
        "test['dist_name'] = total.apply(lambda x: x.argmin(), axis=1)"
      ],
      "id": "K9bWd2KCSywr"
    },
    {
      "cell_type": "markdown",
      "metadata": {
        "id": "HxLDTb4yQp4l"
      },
      "source": [
        "#날씨데이터 추가"
      ],
      "id": "HxLDTb4yQp4l"
    },
    {
      "cell_type": "code",
      "execution_count": null,
      "metadata": {
        "id": "MlPGirmNQuab"
      },
      "outputs": [],
      "source": [
        "weather = pd.read_csv(\"/content/drive/MyDrive/Lecture/jeju/train_weather.csv\",encoding='cp949')\n",
        "test_weather = pd.read_csv(\"/content/drive/MyDrive/Lecture/jeju/test_weather.csv\",encoding='cp949')"
      ],
      "id": "MlPGirmNQuab"
    },
    {
      "cell_type": "markdown",
      "source": [
        "Na값은 비가 안오는 날을 뜻하는 것이기 때문에 0으로 채워준다."
      ],
      "metadata": {
        "id": "P95UpcuqkwJp"
      },
      "id": "P95UpcuqkwJp"
    },
    {
      "cell_type": "code",
      "execution_count": null,
      "metadata": {
        "id": "5rBF5ihcQuGz"
      },
      "outputs": [],
      "source": [
        "weather = weather.fillna(0)\n",
        "test_weather = test_weather.fillna(0)"
      ],
      "id": "5rBF5ihcQuGz"
    },
    {
      "cell_type": "markdown",
      "source": [
        "비가 오면 1 안오면 0"
      ],
      "metadata": {
        "id": "O9qEpJ1vk3s_"
      },
      "id": "O9qEpJ1vk3s_"
    },
    {
      "cell_type": "code",
      "execution_count": null,
      "metadata": {
        "id": "acjRkUy-QuEZ"
      },
      "outputs": [],
      "source": [
        "def f(x):\n",
        "  if x == 0:\n",
        "    return 0\n",
        "  else:\n",
        "    return 1"
      ],
      "id": "acjRkUy-QuEZ"
    },
    {
      "cell_type": "code",
      "execution_count": null,
      "metadata": {
        "id": "4XaTRDeQRC3M"
      },
      "outputs": [],
      "source": [
        "weather['rain'] = weather['강수량(mm)'].apply(f)\n",
        "test_weather['rain'] = test_weather['강수량(mm)'].apply(f)"
      ],
      "id": "4XaTRDeQRC3M"
    },
    {
      "cell_type": "markdown",
      "source": [
        "Train과 test row이름과 같게 만들어줌"
      ],
      "metadata": {
        "id": "ArkCmJYrk6m2"
      },
      "id": "ArkCmJYrk6m2"
    },
    {
      "cell_type": "code",
      "execution_count": null,
      "metadata": {
        "id": "AJ6dp0GDRC0H"
      },
      "outputs": [],
      "source": [
        "weather = weather.rename(columns = {\"일시\":\"date\",\"지점\":\"dist_name\"})\n",
        "test_weather = test_weather.rename(columns = {\"일시\":\"date\",\"지점\":\"dist_name\"})"
      ],
      "id": "AJ6dp0GDRC0H"
    },
    {
      "cell_type": "code",
      "execution_count": null,
      "metadata": {
        "id": "68WRswvLRCxN"
      },
      "outputs": [],
      "source": [
        "weather_1 = weather[['dist_name','지점명','date','rain']]\n",
        "test_weather = test_weather[['dist_name','지점명','date','rain']]"
      ],
      "id": "68WRswvLRCxN"
    },
    {
      "cell_type": "markdown",
      "source": [
        "dist name 생성"
      ],
      "metadata": {
        "id": "aVJdmOdrlEwS"
      },
      "id": "aVJdmOdrlEwS"
    },
    {
      "cell_type": "code",
      "execution_count": null,
      "metadata": {
        "id": "tsiz6_HsRCue"
      },
      "outputs": [],
      "source": [
        "def f(x):\n",
        "  if x == 184:\n",
        "    return 0\n",
        "  if x == 185:\n",
        "    return 1\n",
        "  if x == 188:\n",
        "    return 2\n",
        "  else:\n",
        "    return 3"
      ],
      "id": "tsiz6_HsRCue"
    },
    {
      "cell_type": "code",
      "execution_count": null,
      "metadata": {
        "colab": {
          "base_uri": "https://localhost:8080/"
        },
        "id": "oVw3s22VRCrv",
        "outputId": "cc401e1f-8fc7-4226-ba15-a1b8792f874b"
      },
      "outputs": [
        {
          "output_type": "stream",
          "name": "stderr",
          "text": [
            "/usr/local/lib/python3.7/dist-packages/ipykernel_launcher.py:1: SettingWithCopyWarning: \n",
            "A value is trying to be set on a copy of a slice from a DataFrame.\n",
            "Try using .loc[row_indexer,col_indexer] = value instead\n",
            "\n",
            "See the caveats in the documentation: https://pandas.pydata.org/pandas-docs/stable/user_guide/indexing.html#returning-a-view-versus-a-copy\n",
            "  \"\"\"Entry point for launching an IPython kernel.\n"
          ]
        }
      ],
      "source": [
        "weather_1['dist_name'] = weather_1['dist_name'].apply(f)\n",
        "test_weather['dist_name'] = test_weather['dist_name'].apply(f)"
      ],
      "id": "oVw3s22VRCrv"
    },
    {
      "cell_type": "markdown",
      "source": [
        "매일 1시 rain을 가져옴"
      ],
      "metadata": {
        "id": "H76TiYtNlI85"
      },
      "id": "H76TiYtNlI85"
    },
    {
      "cell_type": "code",
      "execution_count": null,
      "metadata": {
        "id": "uS4UqemeQuAL"
      },
      "outputs": [],
      "source": [
        "numbers = range(0,2880,24)\n",
        "data_rain = []\n",
        "for x in numbers:\n",
        "  df = weather_1.loc[x]\n",
        "  data_rain.append(df)"
      ],
      "id": "uS4UqemeQuAL"
    },
    {
      "cell_type": "code",
      "execution_count": null,
      "metadata": {
        "colab": {
          "base_uri": "https://localhost:8080/",
          "height": 423
        },
        "id": "cXfIXIedR1A5",
        "outputId": "bee83379-001e-4fc2-c4e3-8e0bad320756"
      },
      "outputs": [
        {
          "output_type": "execute_result",
          "data": {
            "text/html": [
              "<div>\n",
              "<style scoped>\n",
              "    .dataframe tbody tr th:only-of-type {\n",
              "        vertical-align: middle;\n",
              "    }\n",
              "\n",
              "    .dataframe tbody tr th {\n",
              "        vertical-align: top;\n",
              "    }\n",
              "\n",
              "    .dataframe thead th {\n",
              "        text-align: right;\n",
              "    }\n",
              "</style>\n",
              "<table border=\"1\" class=\"dataframe\">\n",
              "  <thead>\n",
              "    <tr style=\"text-align: right;\">\n",
              "      <th></th>\n",
              "      <th>dist_name</th>\n",
              "      <th>지점명</th>\n",
              "      <th>date</th>\n",
              "      <th>rain</th>\n",
              "    </tr>\n",
              "  </thead>\n",
              "  <tbody>\n",
              "    <tr>\n",
              "      <th>0</th>\n",
              "      <td>0</td>\n",
              "      <td>제주</td>\n",
              "      <td>2019-09-01 00:00</td>\n",
              "      <td>0</td>\n",
              "    </tr>\n",
              "    <tr>\n",
              "      <th>24</th>\n",
              "      <td>0</td>\n",
              "      <td>제주</td>\n",
              "      <td>2019-09-02 00:00</td>\n",
              "      <td>1</td>\n",
              "    </tr>\n",
              "    <tr>\n",
              "      <th>48</th>\n",
              "      <td>0</td>\n",
              "      <td>제주</td>\n",
              "      <td>2019-09-03 00:00</td>\n",
              "      <td>0</td>\n",
              "    </tr>\n",
              "    <tr>\n",
              "      <th>72</th>\n",
              "      <td>0</td>\n",
              "      <td>제주</td>\n",
              "      <td>2019-09-04 00:00</td>\n",
              "      <td>0</td>\n",
              "    </tr>\n",
              "    <tr>\n",
              "      <th>96</th>\n",
              "      <td>0</td>\n",
              "      <td>제주</td>\n",
              "      <td>2019-09-05 00:00</td>\n",
              "      <td>0</td>\n",
              "    </tr>\n",
              "    <tr>\n",
              "      <th>...</th>\n",
              "      <td>...</td>\n",
              "      <td>...</td>\n",
              "      <td>...</td>\n",
              "      <td>...</td>\n",
              "    </tr>\n",
              "    <tr>\n",
              "      <th>2760</th>\n",
              "      <td>3</td>\n",
              "      <td>서귀포</td>\n",
              "      <td>2019-09-26 00:00</td>\n",
              "      <td>0</td>\n",
              "    </tr>\n",
              "    <tr>\n",
              "      <th>2784</th>\n",
              "      <td>3</td>\n",
              "      <td>서귀포</td>\n",
              "      <td>2019-09-27 00:00</td>\n",
              "      <td>0</td>\n",
              "    </tr>\n",
              "    <tr>\n",
              "      <th>2808</th>\n",
              "      <td>3</td>\n",
              "      <td>서귀포</td>\n",
              "      <td>2019-09-28 00:00</td>\n",
              "      <td>0</td>\n",
              "    </tr>\n",
              "    <tr>\n",
              "      <th>2832</th>\n",
              "      <td>3</td>\n",
              "      <td>서귀포</td>\n",
              "      <td>2019-09-29 00:00</td>\n",
              "      <td>0</td>\n",
              "    </tr>\n",
              "    <tr>\n",
              "      <th>2856</th>\n",
              "      <td>3</td>\n",
              "      <td>서귀포</td>\n",
              "      <td>2019-09-30 00:00</td>\n",
              "      <td>0</td>\n",
              "    </tr>\n",
              "  </tbody>\n",
              "</table>\n",
              "<p>120 rows × 4 columns</p>\n",
              "</div>"
            ],
            "text/plain": [
              "      dist_name  지점명              date  rain\n",
              "0             0   제주  2019-09-01 00:00     0\n",
              "24            0   제주  2019-09-02 00:00     1\n",
              "48            0   제주  2019-09-03 00:00     0\n",
              "72            0   제주  2019-09-04 00:00     0\n",
              "96            0   제주  2019-09-05 00:00     0\n",
              "...         ...  ...               ...   ...\n",
              "2760          3  서귀포  2019-09-26 00:00     0\n",
              "2784          3  서귀포  2019-09-27 00:00     0\n",
              "2808          3  서귀포  2019-09-28 00:00     0\n",
              "2832          3  서귀포  2019-09-29 00:00     0\n",
              "2856          3  서귀포  2019-09-30 00:00     0\n",
              "\n",
              "[120 rows x 4 columns]"
            ]
          },
          "metadata": {},
          "execution_count": 246
        }
      ],
      "source": [
        "df = pd.DataFrame(data_rain)"
      ],
      "id": "cXfIXIedR1A5"
    },
    {
      "cell_type": "code",
      "execution_count": null,
      "metadata": {
        "id": "Sjqfz6C5aL9B"
      },
      "outputs": [],
      "source": [
        "numbers = range(0,1536,24)\n",
        "test_rain = []\n",
        "for x in numbers:\n",
        "  df_1 = test_weather.loc[x]\n",
        "  test_rain.append(df_1)"
      ],
      "id": "Sjqfz6C5aL9B"
    },
    {
      "cell_type": "code",
      "execution_count": null,
      "metadata": {
        "colab": {
          "base_uri": "https://localhost:8080/",
          "height": 423
        },
        "id": "ewgG7kLfaL0X",
        "outputId": "6b4e6bfe-c137-475d-d521-8df53b011ab5"
      },
      "outputs": [
        {
          "output_type": "execute_result",
          "data": {
            "text/html": [
              "<div>\n",
              "<style scoped>\n",
              "    .dataframe tbody tr th:only-of-type {\n",
              "        vertical-align: middle;\n",
              "    }\n",
              "\n",
              "    .dataframe tbody tr th {\n",
              "        vertical-align: top;\n",
              "    }\n",
              "\n",
              "    .dataframe thead th {\n",
              "        text-align: right;\n",
              "    }\n",
              "</style>\n",
              "<table border=\"1\" class=\"dataframe\">\n",
              "  <thead>\n",
              "    <tr style=\"text-align: right;\">\n",
              "      <th></th>\n",
              "      <th>dist_name</th>\n",
              "      <th>지점명</th>\n",
              "      <th>date</th>\n",
              "      <th>rain</th>\n",
              "    </tr>\n",
              "  </thead>\n",
              "  <tbody>\n",
              "    <tr>\n",
              "      <th>0</th>\n",
              "      <td>0</td>\n",
              "      <td>제주</td>\n",
              "      <td>2019-10-01 00:00</td>\n",
              "      <td>0</td>\n",
              "    </tr>\n",
              "    <tr>\n",
              "      <th>24</th>\n",
              "      <td>0</td>\n",
              "      <td>제주</td>\n",
              "      <td>2019-10-02 00:00</td>\n",
              "      <td>1</td>\n",
              "    </tr>\n",
              "    <tr>\n",
              "      <th>48</th>\n",
              "      <td>0</td>\n",
              "      <td>제주</td>\n",
              "      <td>2019-10-03 00:00</td>\n",
              "      <td>1</td>\n",
              "    </tr>\n",
              "    <tr>\n",
              "      <th>72</th>\n",
              "      <td>0</td>\n",
              "      <td>제주</td>\n",
              "      <td>2019-10-04 00:00</td>\n",
              "      <td>0</td>\n",
              "    </tr>\n",
              "    <tr>\n",
              "      <th>96</th>\n",
              "      <td>0</td>\n",
              "      <td>제주</td>\n",
              "      <td>2019-10-05 00:00</td>\n",
              "      <td>0</td>\n",
              "    </tr>\n",
              "    <tr>\n",
              "      <th>...</th>\n",
              "      <td>...</td>\n",
              "      <td>...</td>\n",
              "      <td>...</td>\n",
              "      <td>...</td>\n",
              "    </tr>\n",
              "    <tr>\n",
              "      <th>1416</th>\n",
              "      <td>3</td>\n",
              "      <td>서귀포</td>\n",
              "      <td>2019-10-12 00:00</td>\n",
              "      <td>0</td>\n",
              "    </tr>\n",
              "    <tr>\n",
              "      <th>1440</th>\n",
              "      <td>3</td>\n",
              "      <td>서귀포</td>\n",
              "      <td>2019-10-13 00:00</td>\n",
              "      <td>0</td>\n",
              "    </tr>\n",
              "    <tr>\n",
              "      <th>1464</th>\n",
              "      <td>3</td>\n",
              "      <td>서귀포</td>\n",
              "      <td>2019-10-14 00:00</td>\n",
              "      <td>0</td>\n",
              "    </tr>\n",
              "    <tr>\n",
              "      <th>1488</th>\n",
              "      <td>3</td>\n",
              "      <td>서귀포</td>\n",
              "      <td>2019-10-15 00:00</td>\n",
              "      <td>0</td>\n",
              "    </tr>\n",
              "    <tr>\n",
              "      <th>1512</th>\n",
              "      <td>3</td>\n",
              "      <td>서귀포</td>\n",
              "      <td>2019-10-16 00:00</td>\n",
              "      <td>0</td>\n",
              "    </tr>\n",
              "  </tbody>\n",
              "</table>\n",
              "<p>64 rows × 4 columns</p>\n",
              "</div>"
            ],
            "text/plain": [
              "      dist_name  지점명              date  rain\n",
              "0             0   제주  2019-10-01 00:00     0\n",
              "24            0   제주  2019-10-02 00:00     1\n",
              "48            0   제주  2019-10-03 00:00     1\n",
              "72            0   제주  2019-10-04 00:00     0\n",
              "96            0   제주  2019-10-05 00:00     0\n",
              "...         ...  ...               ...   ...\n",
              "1416          3  서귀포  2019-10-12 00:00     0\n",
              "1440          3  서귀포  2019-10-13 00:00     0\n",
              "1464          3  서귀포  2019-10-14 00:00     0\n",
              "1488          3  서귀포  2019-10-15 00:00     0\n",
              "1512          3  서귀포  2019-10-16 00:00     0\n",
              "\n",
              "[64 rows x 4 columns]"
            ]
          },
          "metadata": {},
          "execution_count": 253
        }
      ],
      "source": [
        "test_df = pd.DataFrame(test_rain)"
      ],
      "id": "ewgG7kLfaL0X"
    },
    {
      "cell_type": "markdown",
      "source": [
        "필요없어서 지워줌"
      ],
      "metadata": {
        "id": "DfIhpa0WlPSa"
      },
      "id": "DfIhpa0WlPSa"
    },
    {
      "cell_type": "code",
      "execution_count": null,
      "metadata": {
        "id": "X3NTJJNDR0-g"
      },
      "outputs": [],
      "source": [
        "df = df.drop(columns = ['지점명'])\n",
        "test_df = test_df.drop(columns= ['지점명'])"
      ],
      "id": "X3NTJJNDR0-g"
    },
    {
      "cell_type": "markdown",
      "source": [
        "날짜만 나오도록 시간 없애줌"
      ],
      "metadata": {
        "id": "-am5c9milToW"
      },
      "id": "-am5c9milToW"
    },
    {
      "cell_type": "code",
      "execution_count": null,
      "metadata": {
        "id": "JgP4OkG0Y_do"
      },
      "outputs": [],
      "source": [
        "df_1 = pd.DataFrame({'date_1':df['date']})\n",
        "df_1['date_1'] = pd.to_datetime(df_1['date_1']).dt.date\n",
        "test_weather_1 = pd.DataFrame({'date_1':test_df['date']})\n",
        "test_weather_1['date_1'] = pd.to_datetime(test_weather_1['date_1']).dt.date"
      ],
      "id": "JgP4OkG0Y_do"
    },
    {
      "cell_type": "code",
      "execution_count": null,
      "metadata": {
        "colab": {
          "base_uri": "https://localhost:8080/",
          "height": 423
        },
        "id": "2en_i056jEK1",
        "outputId": "9588d3b6-e496-4b18-9164-ea7216d51d69"
      },
      "outputs": [
        {
          "output_type": "execute_result",
          "data": {
            "text/html": [
              "<div>\n",
              "<style scoped>\n",
              "    .dataframe tbody tr th:only-of-type {\n",
              "        vertical-align: middle;\n",
              "    }\n",
              "\n",
              "    .dataframe tbody tr th {\n",
              "        vertical-align: top;\n",
              "    }\n",
              "\n",
              "    .dataframe thead th {\n",
              "        text-align: right;\n",
              "    }\n",
              "</style>\n",
              "<table border=\"1\" class=\"dataframe\">\n",
              "  <thead>\n",
              "    <tr style=\"text-align: right;\">\n",
              "      <th></th>\n",
              "      <th>dist_name</th>\n",
              "      <th>date</th>\n",
              "      <th>rain</th>\n",
              "      <th>date_1</th>\n",
              "    </tr>\n",
              "  </thead>\n",
              "  <tbody>\n",
              "    <tr>\n",
              "      <th>0</th>\n",
              "      <td>0</td>\n",
              "      <td>2019-09-01 00:00</td>\n",
              "      <td>0</td>\n",
              "      <td>2019-09-01</td>\n",
              "    </tr>\n",
              "    <tr>\n",
              "      <th>24</th>\n",
              "      <td>0</td>\n",
              "      <td>2019-09-02 00:00</td>\n",
              "      <td>1</td>\n",
              "      <td>2019-09-02</td>\n",
              "    </tr>\n",
              "    <tr>\n",
              "      <th>48</th>\n",
              "      <td>0</td>\n",
              "      <td>2019-09-03 00:00</td>\n",
              "      <td>0</td>\n",
              "      <td>2019-09-03</td>\n",
              "    </tr>\n",
              "    <tr>\n",
              "      <th>72</th>\n",
              "      <td>0</td>\n",
              "      <td>2019-09-04 00:00</td>\n",
              "      <td>0</td>\n",
              "      <td>2019-09-04</td>\n",
              "    </tr>\n",
              "    <tr>\n",
              "      <th>96</th>\n",
              "      <td>0</td>\n",
              "      <td>2019-09-05 00:00</td>\n",
              "      <td>0</td>\n",
              "      <td>2019-09-05</td>\n",
              "    </tr>\n",
              "    <tr>\n",
              "      <th>...</th>\n",
              "      <td>...</td>\n",
              "      <td>...</td>\n",
              "      <td>...</td>\n",
              "      <td>...</td>\n",
              "    </tr>\n",
              "    <tr>\n",
              "      <th>2760</th>\n",
              "      <td>3</td>\n",
              "      <td>2019-09-26 00:00</td>\n",
              "      <td>0</td>\n",
              "      <td>2019-09-26</td>\n",
              "    </tr>\n",
              "    <tr>\n",
              "      <th>2784</th>\n",
              "      <td>3</td>\n",
              "      <td>2019-09-27 00:00</td>\n",
              "      <td>0</td>\n",
              "      <td>2019-09-27</td>\n",
              "    </tr>\n",
              "    <tr>\n",
              "      <th>2808</th>\n",
              "      <td>3</td>\n",
              "      <td>2019-09-28 00:00</td>\n",
              "      <td>0</td>\n",
              "      <td>2019-09-28</td>\n",
              "    </tr>\n",
              "    <tr>\n",
              "      <th>2832</th>\n",
              "      <td>3</td>\n",
              "      <td>2019-09-29 00:00</td>\n",
              "      <td>0</td>\n",
              "      <td>2019-09-29</td>\n",
              "    </tr>\n",
              "    <tr>\n",
              "      <th>2856</th>\n",
              "      <td>3</td>\n",
              "      <td>2019-09-30 00:00</td>\n",
              "      <td>0</td>\n",
              "      <td>2019-09-30</td>\n",
              "    </tr>\n",
              "  </tbody>\n",
              "</table>\n",
              "<p>120 rows × 4 columns</p>\n",
              "</div>"
            ],
            "text/plain": [
              "      dist_name              date  rain      date_1\n",
              "0             0  2019-09-01 00:00     0  2019-09-01\n",
              "24            0  2019-09-02 00:00     1  2019-09-02\n",
              "48            0  2019-09-03 00:00     0  2019-09-03\n",
              "72            0  2019-09-04 00:00     0  2019-09-04\n",
              "96            0  2019-09-05 00:00     0  2019-09-05\n",
              "...         ...               ...   ...         ...\n",
              "2760          3  2019-09-26 00:00     0  2019-09-26\n",
              "2784          3  2019-09-27 00:00     0  2019-09-27\n",
              "2808          3  2019-09-28 00:00     0  2019-09-28\n",
              "2832          3  2019-09-29 00:00     0  2019-09-29\n",
              "2856          3  2019-09-30 00:00     0  2019-09-30\n",
              "\n",
              "[120 rows x 4 columns]"
            ]
          },
          "metadata": {},
          "execution_count": 256
        }
      ],
      "source": [
        "df = pd.concat([df, df_1], axis =1 )"
      ],
      "id": "2en_i056jEK1"
    },
    {
      "cell_type": "code",
      "execution_count": null,
      "metadata": {
        "colab": {
          "base_uri": "https://localhost:8080/",
          "height": 206
        },
        "id": "nRtDc8BabxN8",
        "outputId": "0417af14-812e-4999-dad2-bfbf0fcaa8f5"
      },
      "outputs": [
        {
          "output_type": "execute_result",
          "data": {
            "text/html": [
              "<div>\n",
              "<style scoped>\n",
              "    .dataframe tbody tr th:only-of-type {\n",
              "        vertical-align: middle;\n",
              "    }\n",
              "\n",
              "    .dataframe tbody tr th {\n",
              "        vertical-align: top;\n",
              "    }\n",
              "\n",
              "    .dataframe thead th {\n",
              "        text-align: right;\n",
              "    }\n",
              "</style>\n",
              "<table border=\"1\" class=\"dataframe\">\n",
              "  <thead>\n",
              "    <tr style=\"text-align: right;\">\n",
              "      <th></th>\n",
              "      <th>dist_name</th>\n",
              "      <th>date</th>\n",
              "      <th>rain</th>\n",
              "      <th>date_1</th>\n",
              "    </tr>\n",
              "  </thead>\n",
              "  <tbody>\n",
              "    <tr>\n",
              "      <th>0</th>\n",
              "      <td>0</td>\n",
              "      <td>2019-10-01 00:00</td>\n",
              "      <td>0</td>\n",
              "      <td>2019-10-01</td>\n",
              "    </tr>\n",
              "    <tr>\n",
              "      <th>24</th>\n",
              "      <td>0</td>\n",
              "      <td>2019-10-02 00:00</td>\n",
              "      <td>1</td>\n",
              "      <td>2019-10-02</td>\n",
              "    </tr>\n",
              "    <tr>\n",
              "      <th>48</th>\n",
              "      <td>0</td>\n",
              "      <td>2019-10-03 00:00</td>\n",
              "      <td>1</td>\n",
              "      <td>2019-10-03</td>\n",
              "    </tr>\n",
              "    <tr>\n",
              "      <th>72</th>\n",
              "      <td>0</td>\n",
              "      <td>2019-10-04 00:00</td>\n",
              "      <td>0</td>\n",
              "      <td>2019-10-04</td>\n",
              "    </tr>\n",
              "    <tr>\n",
              "      <th>96</th>\n",
              "      <td>0</td>\n",
              "      <td>2019-10-05 00:00</td>\n",
              "      <td>0</td>\n",
              "      <td>2019-10-05</td>\n",
              "    </tr>\n",
              "  </tbody>\n",
              "</table>\n",
              "</div>"
            ],
            "text/plain": [
              "    dist_name              date  rain      date_1\n",
              "0           0  2019-10-01 00:00     0  2019-10-01\n",
              "24          0  2019-10-02 00:00     1  2019-10-02\n",
              "48          0  2019-10-03 00:00     1  2019-10-03\n",
              "72          0  2019-10-04 00:00     0  2019-10-04\n",
              "96          0  2019-10-05 00:00     0  2019-10-05"
            ]
          },
          "metadata": {},
          "execution_count": 257
        }
      ],
      "source": [
        "test_weather = pd.concat([test_df, test_weather_1], axis=1)"
      ],
      "id": "nRtDc8BabxN8"
    },
    {
      "cell_type": "code",
      "execution_count": null,
      "metadata": {
        "id": "I18dplMwUdWG"
      },
      "outputs": [],
      "source": [
        "df = df.drop(columns = ['date'])\n",
        "test_weather = test_weather.drop(columns= ['date'])"
      ],
      "id": "I18dplMwUdWG"
    },
    {
      "cell_type": "code",
      "execution_count": null,
      "metadata": {
        "id": "5w5Hvx3PSHsr"
      },
      "outputs": [],
      "source": [
        "df['date'] = pd.to_datetime(df['date_1'])\n",
        "test_weather['date'] = pd.to_datetime(test_weather['date_1'])"
      ],
      "id": "5w5Hvx3PSHsr"
    },
    {
      "cell_type": "markdown",
      "source": [
        "merge를 실행하기 위해 type 변경"
      ],
      "metadata": {
        "id": "cyjKx9_8lkjX"
      },
      "id": "cyjKx9_8lkjX"
    },
    {
      "cell_type": "code",
      "execution_count": null,
      "metadata": {
        "id": "bwSDiBXbR04b"
      },
      "outputs": [],
      "source": [
        "df.date=df.date.astype(str) #trian과 df의 date dtype이 달라서 merge실행이 안됨\n",
        "df.dist_name =df.dist_name.astype(str)\n",
        "#train.dist_name = train.dist_name.astype(str)\n",
        "test_weather.dist_name = test_weather.dist_name.astype(str)\n",
        "test_weather.date = test_weather.date.astype(str)"
      ],
      "id": "bwSDiBXbR04b"
    },
    {
      "cell_type": "code",
      "execution_count": null,
      "metadata": {
        "id": "zhYpxXinjOt_"
      },
      "outputs": [],
      "source": [
        "df = df.drop(columns = ['date_1'])\n",
        "test_weather = test_weather.drop(columns= ['date_1'])\n",
        "#test_weather = test_weather.drop(columns=['지점명'])"
      ],
      "id": "zhYpxXinjOt_"
    },
    {
      "cell_type": "markdown",
      "source": [
        "merge 실행"
      ],
      "metadata": {
        "id": "yV-BQrAMluWr"
      },
      "id": "yV-BQrAMluWr"
    },
    {
      "cell_type": "code",
      "execution_count": null,
      "metadata": {
        "id": "X-Maz1cdR0zS"
      },
      "outputs": [],
      "source": [
        "df_weather = pd.merge(train, df, left_on = 'date', right_on = 'date' ,how = 'outer') #outer join\n",
        "df_weather2 = pd.merge(test, test_weather, left_on = 'date', right_on = 'date', how = 'outer')"
      ],
      "id": "X-Maz1cdR0zS"
    },
    {
      "cell_type": "markdown",
      "metadata": {
        "id": "6yDCOnTloAeB"
      },
      "source": [
        "dist_nmae이 같은 것끼리만 남겨줌"
      ],
      "id": "6yDCOnTloAeB"
    },
    {
      "cell_type": "code",
      "source": [
        "df_weather = df_weather.dropna()"
      ],
      "metadata": {
        "id": "nsTqIyM3gq2D"
      },
      "id": "nsTqIyM3gq2D",
      "execution_count": null,
      "outputs": []
    },
    {
      "cell_type": "code",
      "source": [
        "df_weather['dist_name_y'] = df_weather['dist_name_y'].astype(str).astype(int)"
      ],
      "metadata": {
        "id": "m6TgzMyadVlx"
      },
      "id": "m6TgzMyadVlx",
      "execution_count": null,
      "outputs": []
    },
    {
      "cell_type": "code",
      "source": [
        "train = df_weather.loc[df_weather['dist_name_x'] == df_weather['dist_name_y']]"
      ],
      "metadata": {
        "id": "Q_37H83ibS5f"
      },
      "id": "Q_37H83ibS5f",
      "execution_count": null,
      "outputs": []
    },
    {
      "cell_type": "code",
      "source": [
        "df_weather2 = df_weather2.dropna()"
      ],
      "metadata": {
        "id": "Z01kP_T-ihUc"
      },
      "id": "Z01kP_T-ihUc",
      "execution_count": null,
      "outputs": []
    },
    {
      "cell_type": "code",
      "source": [
        "df_weather2['dist_name_y'] = df_weather2['dist_name_y'].astype(str).astype(int)"
      ],
      "metadata": {
        "id": "rewdJ4XPilCV"
      },
      "id": "rewdJ4XPilCV",
      "execution_count": null,
      "outputs": []
    },
    {
      "cell_type": "code",
      "execution_count": null,
      "metadata": {
        "id": "rzmrZBJKTzd_"
      },
      "outputs": [],
      "source": [
        "test = df_weather2.loc[df_weather2['dist_name_x']== df_weather2['dist_name_y']]"
      ],
      "id": "rzmrZBJKTzd_"
    },
    {
      "cell_type": "markdown",
      "metadata": {
        "id": "c6d7fdde"
      },
      "source": [
        "## train과 test데이터의 시작일, 끝일 확인"
      ],
      "id": "c6d7fdde"
    },
    {
      "cell_type": "code",
      "execution_count": null,
      "metadata": {
        "colab": {
          "base_uri": "https://localhost:8080/"
        },
        "id": "8cd69da5",
        "outputId": "f33f190b-81fe-45d5-d8d5-06ebc034dc0e"
      },
      "outputs": [
        {
          "output_type": "execute_result",
          "data": {
            "text/plain": [
              "('2019-09-01', '2019-09-30')"
            ]
          },
          "metadata": {},
          "execution_count": 365
        }
      ],
      "source": [
        "train['date'].min(),train['date'].max()"
      ],
      "id": "8cd69da5"
    },
    {
      "cell_type": "code",
      "execution_count": null,
      "metadata": {
        "colab": {
          "base_uri": "https://localhost:8080/"
        },
        "id": "382d094b",
        "outputId": "0b07a0a4-6245-4b47-d226-112721fb633c"
      },
      "outputs": [
        {
          "output_type": "execute_result",
          "data": {
            "text/plain": [
              "('2019-10-01', '2019-10-16')"
            ]
          },
          "metadata": {},
          "execution_count": 366
        }
      ],
      "source": [
        "test['date'].min(), test['date'].max()"
      ],
      "id": "382d094b"
    },
    {
      "cell_type": "markdown",
      "metadata": {
        "id": "efa782f7"
      },
      "source": [
        "## 데이터 결측값 확인  - 결측값 없음"
      ],
      "id": "efa782f7"
    },
    {
      "cell_type": "code",
      "execution_count": null,
      "metadata": {
        "colab": {
          "base_uri": "https://localhost:8080/"
        },
        "id": "ac0e9b4a",
        "outputId": "d123fbb4-7d8c-421f-a033-b277648a918d",
        "scrolled": true
      },
      "outputs": [
        {
          "output_type": "execute_result",
          "data": {
            "text/plain": [
              "id               0\n",
              "date             0\n",
              "bus_route_id     0\n",
              "in_out           0\n",
              "station_code     0\n",
              "station_name     0\n",
              "latitude         0\n",
              "longitude        0\n",
              "6~7_ride         0\n",
              "7~8_ride         0\n",
              "8~9_ride         0\n",
              "9~10_ride        0\n",
              "10~11_ride       0\n",
              "11~12_ride       0\n",
              "6~7_takeoff      0\n",
              "7~8_takeoff      0\n",
              "8~9_takeoff      0\n",
              "9~10_takeoff     0\n",
              "10~11_takeoff    0\n",
              "11~12_takeoff    0\n",
              "18~20_ride       0\n",
              "dis_jeju         0\n",
              "dis_gosan        0\n",
              "dis_seongsan     0\n",
              "dis_po           0\n",
              "dist_name_x      0\n",
              "dist_name_y      0\n",
              "rain             0\n",
              "dtype: int64"
            ]
          },
          "metadata": {},
          "execution_count": 369
        }
      ],
      "source": [
        "train.isnull().sum()"
      ],
      "id": "ac0e9b4a"
    },
    {
      "cell_type": "markdown",
      "metadata": {
        "id": "a6818cf4"
      },
      "source": [
        "## date를 날짜형식으로 바꾸기 - 요일별로 바꾸기 위해 사용"
      ],
      "id": "a6818cf4"
    },
    {
      "cell_type": "code",
      "execution_count": null,
      "metadata": {
        "id": "09b42a2b",
        "colab": {
          "base_uri": "https://localhost:8080/"
        },
        "outputId": "5980b669-3bd8-4bab-c911-4e975e52285a"
      },
      "outputs": [
        {
          "output_type": "stream",
          "name": "stderr",
          "text": [
            "/usr/local/lib/python3.7/dist-packages/ipykernel_launcher.py:1: SettingWithCopyWarning: \n",
            "A value is trying to be set on a copy of a slice from a DataFrame.\n",
            "Try using .loc[row_indexer,col_indexer] = value instead\n",
            "\n",
            "See the caveats in the documentation: https://pandas.pydata.org/pandas-docs/stable/user_guide/indexing.html#returning-a-view-versus-a-copy\n",
            "  \"\"\"Entry point for launching an IPython kernel.\n",
            "/usr/local/lib/python3.7/dist-packages/ipykernel_launcher.py:2: SettingWithCopyWarning: \n",
            "A value is trying to be set on a copy of a slice from a DataFrame.\n",
            "Try using .loc[row_indexer,col_indexer] = value instead\n",
            "\n",
            "See the caveats in the documentation: https://pandas.pydata.org/pandas-docs/stable/user_guide/indexing.html#returning-a-view-versus-a-copy\n",
            "  \n"
          ]
        }
      ],
      "source": [
        "train['date'] = pd.to_datetime(train['date'])\n",
        "test['date']=pd.to_datetime(test['date'])"
      ],
      "id": "09b42a2b"
    },
    {
      "cell_type": "code",
      "execution_count": null,
      "metadata": {
        "id": "e48acf51",
        "outputId": "f85cdd09-9b75-4b92-d31e-7b1a7b8f8c09",
        "scrolled": true,
        "colab": {
          "base_uri": "https://localhost:8080/"
        }
      },
      "outputs": [
        {
          "output_type": "execute_result",
          "data": {
            "text/plain": [
              "0   2019-09-01\n",
              "4   2019-09-01\n",
              "8   2019-09-01\n",
              "Name: date, dtype: datetime64[ns]"
            ]
          },
          "metadata": {},
          "execution_count": 371
        }
      ],
      "source": [
        "train['date'].head(3)"
      ],
      "id": "e48acf51"
    },
    {
      "cell_type": "markdown",
      "metadata": {
        "id": "45bd42f9"
      },
      "source": [
        "## date를 요일로 나누기\n",
        "## 9월달에는 추석, 10월달에는 한글날,개천절 열을 쉬는날로 빼기"
      ],
      "id": "45bd42f9"
    },
    {
      "cell_type": "code",
      "execution_count": null,
      "metadata": {
        "id": "3f622800",
        "outputId": "f7d3820d-29a9-432d-af22-2b08a90fb555",
        "colab": {
          "base_uri": "https://localhost:8080/"
        }
      },
      "outputs": [
        {
          "output_type": "stream",
          "name": "stderr",
          "text": [
            "/usr/local/lib/python3.7/dist-packages/ipykernel_launcher.py:1: SettingWithCopyWarning: \n",
            "A value is trying to be set on a copy of a slice from a DataFrame.\n",
            "Try using .loc[row_indexer,col_indexer] = value instead\n",
            "\n",
            "See the caveats in the documentation: https://pandas.pydata.org/pandas-docs/stable/user_guide/indexing.html#returning-a-view-versus-a-copy\n",
            "  \"\"\"Entry point for launching an IPython kernel.\n",
            "/usr/local/lib/python3.7/dist-packages/ipykernel_launcher.py:2: SettingWithCopyWarning: \n",
            "A value is trying to be set on a copy of a slice from a DataFrame.\n",
            "Try using .loc[row_indexer,col_indexer] = value instead\n",
            "\n",
            "See the caveats in the documentation: https://pandas.pydata.org/pandas-docs/stable/user_guide/indexing.html#returning-a-view-versus-a-copy\n",
            "  \n",
            "/usr/local/lib/python3.7/dist-packages/ipykernel_launcher.py:3: SettingWithCopyWarning: \n",
            "A value is trying to be set on a copy of a slice from a DataFrame\n",
            "\n",
            "See the caveats in the documentation: https://pandas.pydata.org/pandas-docs/stable/user_guide/indexing.html#returning-a-view-versus-a-copy\n",
            "  This is separate from the ipykernel package so we can avoid doing imports until\n",
            "/usr/local/lib/python3.7/dist-packages/pandas/core/series.py:1027: SettingWithCopyWarning: \n",
            "A value is trying to be set on a copy of a slice from a DataFrame\n",
            "\n",
            "See the caveats in the documentation: https://pandas.pydata.org/pandas-docs/stable/user_guide/indexing.html#returning-a-view-versus-a-copy\n",
            "  self._set_with(key, value)\n",
            "/usr/local/lib/python3.7/dist-packages/IPython/core/interactiveshell.py:2882: SettingWithCopyWarning: \n",
            "A value is trying to be set on a copy of a slice from a DataFrame\n",
            "\n",
            "See the caveats in the documentation: https://pandas.pydata.org/pandas-docs/stable/user_guide/indexing.html#returning-a-view-versus-a-copy\n",
            "  exec(code_obj, self.user_global_ns, self.user_ns)\n",
            "/usr/local/lib/python3.7/dist-packages/ipykernel_launcher.py:4: SettingWithCopyWarning: \n",
            "A value is trying to be set on a copy of a slice from a DataFrame\n",
            "\n",
            "See the caveats in the documentation: https://pandas.pydata.org/pandas-docs/stable/user_guide/indexing.html#returning-a-view-versus-a-copy\n",
            "  after removing the cwd from sys.path.\n",
            "/usr/local/lib/python3.7/dist-packages/ipykernel_launcher.py:5: SettingWithCopyWarning: \n",
            "A value is trying to be set on a copy of a slice from a DataFrame\n",
            "\n",
            "See the caveats in the documentation: https://pandas.pydata.org/pandas-docs/stable/user_guide/indexing.html#returning-a-view-versus-a-copy\n",
            "  \"\"\"\n"
          ]
        }
      ],
      "source": [
        "train['weekday'] = train['date'].dt.weekday\n",
        "test['weekday']=test['date'].dt.weekday\n",
        "train['weekday'][156277:176360]=7\n",
        "test['weekday'][28632:40327]=7\n",
        "test['weekday'][112356:125267]=7"
      ],
      "id": "3f622800"
    },
    {
      "cell_type": "markdown",
      "metadata": {
        "id": "5db15ba4"
      },
      "source": [
        "## 월화수목금토일 공휴일 순서"
      ],
      "id": "5db15ba4"
    },
    {
      "cell_type": "code",
      "execution_count": null,
      "metadata": {
        "id": "26a412cb",
        "outputId": "3cbf3980-4185-4f74-a9c3-0f8e8b9ecade",
        "colab": {
          "base_uri": "https://localhost:8080/"
        }
      },
      "outputs": [
        {
          "output_type": "execute_result",
          "data": {
            "text/plain": [
              "{0, 1, 2, 3, 4, 5, 6, 7}"
            ]
          },
          "metadata": {},
          "execution_count": 373
        }
      ],
      "source": [
        "set(train['weekday'])"
      ],
      "id": "26a412cb"
    },
    {
      "cell_type": "markdown",
      "metadata": {
        "id": "7b0c918f"
      },
      "source": [
        "## 평일 : 0 쉬는날 : 1로 변환하기\n",
        "### 쉬는날=공휴일, 주말\n",
        "### 0,1,2,3,4 = 0       -        5,6,7 =1"
      ],
      "id": "7b0c918f"
    },
    {
      "cell_type": "code",
      "execution_count": null,
      "metadata": {
        "id": "5fb8840a",
        "colab": {
          "base_uri": "https://localhost:8080/"
        },
        "outputId": "4712b6a5-6a28-439c-fad0-d885acc8f72a"
      },
      "outputs": [
        {
          "output_type": "stream",
          "name": "stderr",
          "text": [
            "/usr/local/lib/python3.7/dist-packages/ipykernel_launcher.py:1: SettingWithCopyWarning: \n",
            "A value is trying to be set on a copy of a slice from a DataFrame.\n",
            "Try using .loc[row_indexer,col_indexer] = value instead\n",
            "\n",
            "See the caveats in the documentation: https://pandas.pydata.org/pandas-docs/stable/user_guide/indexing.html#returning-a-view-versus-a-copy\n",
            "  \"\"\"Entry point for launching an IPython kernel.\n",
            "/usr/local/lib/python3.7/dist-packages/ipykernel_launcher.py:2: SettingWithCopyWarning: \n",
            "A value is trying to be set on a copy of a slice from a DataFrame.\n",
            "Try using .loc[row_indexer,col_indexer] = value instead\n",
            "\n",
            "See the caveats in the documentation: https://pandas.pydata.org/pandas-docs/stable/user_guide/indexing.html#returning-a-view-versus-a-copy\n",
            "  \n"
          ]
        }
      ],
      "source": [
        "train['weekday']=train['weekday'].map({0:0,1:0,2:0,3:0,4:0,5:1,6:1,7:1})\n",
        "test['weekday']=test['weekday'].map({0:0,1:0,2:0,3:0,4:0,5:1,6:1,7:1})"
      ],
      "id": "5fb8840a"
    },
    {
      "cell_type": "code",
      "execution_count": null,
      "metadata": {
        "id": "9106d4d2",
        "outputId": "d9f5f15c-7f90-43fe-c558-faadedf579be",
        "colab": {
          "base_uri": "https://localhost:8080/"
        }
      },
      "outputs": [
        {
          "output_type": "execute_result",
          "data": {
            "text/plain": [
              "({0, 1}, {0, 1})"
            ]
          },
          "metadata": {},
          "execution_count": 375
        }
      ],
      "source": [
        "set(train['weekday']),set(test['weekday'])"
      ],
      "id": "9106d4d2"
    },
    {
      "cell_type": "markdown",
      "metadata": {
        "id": "b9f21269"
      },
      "source": [
        "## 시내버스 : 0 시외버스 : 1로 변환하기"
      ],
      "id": "b9f21269"
    },
    {
      "cell_type": "code",
      "execution_count": null,
      "metadata": {
        "id": "c8edd156",
        "colab": {
          "base_uri": "https://localhost:8080/"
        },
        "outputId": "35f3d424-29f4-4c8f-d779-8a6d927bfac6"
      },
      "outputs": [
        {
          "output_type": "stream",
          "name": "stderr",
          "text": [
            "/usr/local/lib/python3.7/dist-packages/ipykernel_launcher.py:1: SettingWithCopyWarning: \n",
            "A value is trying to be set on a copy of a slice from a DataFrame.\n",
            "Try using .loc[row_indexer,col_indexer] = value instead\n",
            "\n",
            "See the caveats in the documentation: https://pandas.pydata.org/pandas-docs/stable/user_guide/indexing.html#returning-a-view-versus-a-copy\n",
            "  \"\"\"Entry point for launching an IPython kernel.\n",
            "/usr/local/lib/python3.7/dist-packages/ipykernel_launcher.py:2: SettingWithCopyWarning: \n",
            "A value is trying to be set on a copy of a slice from a DataFrame.\n",
            "Try using .loc[row_indexer,col_indexer] = value instead\n",
            "\n",
            "See the caveats in the documentation: https://pandas.pydata.org/pandas-docs/stable/user_guide/indexing.html#returning-a-view-versus-a-copy\n",
            "  \n"
          ]
        }
      ],
      "source": [
        "train['in_out'] = train['in_out'].map({'시내':0,'시외':1})\n",
        "test['in_out'] = test['in_out'].map({'시내':0,'시외':1})"
      ],
      "id": "c8edd156"
    },
    {
      "cell_type": "code",
      "execution_count": null,
      "metadata": {
        "id": "27255996",
        "outputId": "6058225e-b0d1-4ce3-b9f0-bad01ef43561",
        "colab": {
          "base_uri": "https://localhost:8080/"
        }
      },
      "outputs": [
        {
          "output_type": "execute_result",
          "data": {
            "text/plain": [
              "{0, 1}"
            ]
          },
          "metadata": {},
          "execution_count": 377
        }
      ],
      "source": [
        "set(train['in_out'])"
      ],
      "id": "27255996"
    },
    {
      "cell_type": "code",
      "source": [
        "plt.hist(train['in_out'],bins=2)"
      ],
      "metadata": {
        "id": "ZhNPeHsHGsPV"
      },
      "id": "ZhNPeHsHGsPV",
      "execution_count": null,
      "outputs": []
    },
    {
      "cell_type": "markdown",
      "metadata": {
        "id": "ea932f1b"
      },
      "source": [
        "## target변수 (18~20ride)와 맞게 시간을 2시간씩 묶기"
      ],
      "id": "ea932f1b"
    },
    {
      "cell_type": "code",
      "execution_count": null,
      "metadata": {
        "id": "0a82d29b",
        "colab": {
          "base_uri": "https://localhost:8080/"
        },
        "outputId": "a19c490a-70ee-45c1-f6a2-69a0847b319f"
      },
      "outputs": [
        {
          "output_type": "stream",
          "name": "stderr",
          "text": [
            "/usr/local/lib/python3.7/dist-packages/ipykernel_launcher.py:1: SettingWithCopyWarning: \n",
            "A value is trying to be set on a copy of a slice from a DataFrame.\n",
            "Try using .loc[row_indexer,col_indexer] = value instead\n",
            "\n",
            "See the caveats in the documentation: https://pandas.pydata.org/pandas-docs/stable/user_guide/indexing.html#returning-a-view-versus-a-copy\n",
            "  \"\"\"Entry point for launching an IPython kernel.\n",
            "/usr/local/lib/python3.7/dist-packages/ipykernel_launcher.py:2: SettingWithCopyWarning: \n",
            "A value is trying to be set on a copy of a slice from a DataFrame.\n",
            "Try using .loc[row_indexer,col_indexer] = value instead\n",
            "\n",
            "See the caveats in the documentation: https://pandas.pydata.org/pandas-docs/stable/user_guide/indexing.html#returning-a-view-versus-a-copy\n",
            "  \n",
            "/usr/local/lib/python3.7/dist-packages/ipykernel_launcher.py:3: SettingWithCopyWarning: \n",
            "A value is trying to be set on a copy of a slice from a DataFrame.\n",
            "Try using .loc[row_indexer,col_indexer] = value instead\n",
            "\n",
            "See the caveats in the documentation: https://pandas.pydata.org/pandas-docs/stable/user_guide/indexing.html#returning-a-view-versus-a-copy\n",
            "  This is separate from the ipykernel package so we can avoid doing imports until\n",
            "/usr/local/lib/python3.7/dist-packages/ipykernel_launcher.py:6: SettingWithCopyWarning: \n",
            "A value is trying to be set on a copy of a slice from a DataFrame.\n",
            "Try using .loc[row_indexer,col_indexer] = value instead\n",
            "\n",
            "See the caveats in the documentation: https://pandas.pydata.org/pandas-docs/stable/user_guide/indexing.html#returning-a-view-versus-a-copy\n",
            "  \n",
            "/usr/local/lib/python3.7/dist-packages/ipykernel_launcher.py:7: SettingWithCopyWarning: \n",
            "A value is trying to be set on a copy of a slice from a DataFrame.\n",
            "Try using .loc[row_indexer,col_indexer] = value instead\n",
            "\n",
            "See the caveats in the documentation: https://pandas.pydata.org/pandas-docs/stable/user_guide/indexing.html#returning-a-view-versus-a-copy\n",
            "  import sys\n",
            "/usr/local/lib/python3.7/dist-packages/ipykernel_launcher.py:8: SettingWithCopyWarning: \n",
            "A value is trying to be set on a copy of a slice from a DataFrame.\n",
            "Try using .loc[row_indexer,col_indexer] = value instead\n",
            "\n",
            "See the caveats in the documentation: https://pandas.pydata.org/pandas-docs/stable/user_guide/indexing.html#returning-a-view-versus-a-copy\n",
            "  \n"
          ]
        }
      ],
      "source": [
        "train['6~8_ride']=train['6~7_ride']+train['7~8_ride']\n",
        "train['8~10_ride']=train['8~9_ride']+train['9~10_ride']\n",
        "train['10~12_ride']=train['10~11_ride']+train['11~12_ride']\n",
        "\n",
        "\n",
        "test['6~8_ride']=test['6~7_ride']+test['7~8_ride']\n",
        "test['8~10_ride']=test['8~9_ride']+test['9~10_ride']\n",
        "test['10~12_ride']=test['10~11_ride']+test['11~12_ride']"
      ],
      "id": "0a82d29b"
    },
    {
      "cell_type": "markdown",
      "metadata": {
        "id": "68011761"
      },
      "source": [
        "## 더이상 사용하지 않을 변수 삭제하기\n",
        "\n",
        "#### id - index만 나타내기 때문에 삭제\n",
        "#### station_name - 카테고리변수로 넣어봤지만 효과 없음\n",
        "#### take_off - 0값이 너무 많아 확인해본 결과 하차태그를 안찍으면 0값이 나옴\n",
        "####                  분석에 방해가 되서 삭제\n",
        "#### ride - 2시간씩 묶은 변수를 사용"
      ],
      "id": "68011761"
    },
    {
      "cell_type": "code",
      "execution_count": null,
      "metadata": {
        "id": "c31db49e"
      },
      "outputs": [],
      "source": [
        "train_date=train.drop(['station_name','date','id','6~7_ride','7~8_ride','8~9_ride','9~10_ride','10~11_ride','11~12_ride','6~7_takeoff','7~8_takeoff','8~9_takeoff','9~10_takeoff','10~11_takeoff','11~12_takeoff'],axis=1)\n",
        "test_date=test.drop(['station_name','date','id','6~7_ride','7~8_ride','8~9_ride','9~10_ride','10~11_ride','11~12_ride','6~7_takeoff','7~8_takeoff','8~9_takeoff','9~10_takeoff','10~11_takeoff','11~12_takeoff'],axis=1)"
      ],
      "id": "c31db49e"
    },
    {
      "cell_type": "code",
      "source": [
        "train_final=train_date.drop(['dist_name_y'],axis=1)\n",
        "test_final=test_date.drop(['dist_name_y'],axis=1)"
      ],
      "metadata": {
        "id": "Ru-Ysmcx8xjH"
      },
      "id": "Ru-Ysmcx8xjH",
      "execution_count": null,
      "outputs": []
    },
    {
      "cell_type": "code",
      "source": [
        "train_final.head()"
      ],
      "metadata": {
        "id": "ArmfrfdfKiXU"
      },
      "id": "ArmfrfdfKiXU",
      "execution_count": null,
      "outputs": []
    },
    {
      "cell_type": "markdown",
      "metadata": {
        "id": "0426826c"
      },
      "source": [
        "## 최종 사용변수\n",
        "#### bus_route_id - 위경도별로 묶어놓은 값이라 중요한 역할을함\n",
        "#### in_out - 시내, 시외버스별로 나눠서 사용하면 좋음\n",
        "#### station_code - 정류장별로 나눠있어서 사용하면 좋음\n",
        "#### lon,lat - 위도, 경도에 따라 중요한 변수로 사용가능\n",
        "#### weekday - 쉬는날과 쉬지않는날로 부분해서 중요한 역할을 함\n",
        "#### ride - target에 맞게 2시간씩 묶어서 사용"
      ],
      "id": "0426826c"
    },
    {
      "cell_type": "markdown",
      "source": [
        "## Pycaret을 통해 최적의 모델 찾기"
      ],
      "metadata": {
        "id": "deh64CcwLaYb"
      },
      "id": "deh64CcwLaYb"
    },
    {
      "cell_type": "code",
      "source": [
        "data = setup(data = train_final, target ='18~20_ride',use_gpu=True)"
      ],
      "metadata": {
        "id": "sGyuBUjpLdVq"
      },
      "id": "sGyuBUjpLdVq",
      "execution_count": null,
      "outputs": []
    },
    {
      "cell_type": "code",
      "source": [
        "##사용하는 평가지표 이름을 넣으면 해당 평가지표 순서대로 모델 순위 보여줌\n",
        "model = compare_models(sort='RMSE')"
      ],
      "metadata": {
        "id": "-sLmpXk_LfyJ"
      },
      "id": "-sLmpXk_LfyJ",
      "execution_count": null,
      "outputs": []
    },
    {
      "cell_type": "markdown",
      "metadata": {
        "id": "5821cece"
      },
      "source": [
        "## x_train= train에서 예측값을 제외하고\n",
        "## x_label=train에서 target변수만 남기기"
      ],
      "id": "5821cece"
    },
    {
      "cell_type": "code",
      "execution_count": null,
      "metadata": {
        "id": "90b199a9"
      },
      "outputs": [],
      "source": [
        "x_train=train_date.drop(['18~20_ride'],axis=1)\n",
        "x_label=train_date['18~20_ride']"
      ],
      "id": "90b199a9"
    },
    {
      "cell_type": "markdown",
      "metadata": {
        "id": "8fc02091"
      },
      "source": [
        "### sklearn.model_selection - train_test_split사용\n",
        "### train과 val로 나누기 8:2비율"
      ],
      "id": "8fc02091"
    },
    {
      "cell_type": "code",
      "source": [
        "x_train,y_train=train_test_split(x_train,test_size=0.2,random_state=42)\n",
        "x_labels,y_labels=train_test_split(x_label,test_size=0.2,random_state=42)"
      ],
      "metadata": {
        "id": "zqKJWdIA383Q"
      },
      "id": "zqKJWdIA383Q",
      "execution_count": null,
      "outputs": []
    },
    {
      "cell_type": "markdown",
      "source": [
        "## Catboost모델 사용"
      ],
      "metadata": {
        "id": "A1qgGTL3KqrG"
      },
      "id": "A1qgGTL3KqrG"
    },
    {
      "cell_type": "code",
      "source": [
        "from catboost import CatBoostRegressor"
      ],
      "metadata": {
        "id": "1VsNuiFUoRvA"
      },
      "id": "1VsNuiFUoRvA",
      "execution_count": null,
      "outputs": []
    },
    {
      "cell_type": "markdown",
      "source": [
        "## Gridsearch를 통한 최적의 파라미터 찾기"
      ],
      "metadata": {
        "id": "k5PRc9xwMEOd"
      },
      "id": "k5PRc9xwMEOd"
    },
    {
      "cell_type": "code",
      "source": [
        "cat_bst=CatBoostRegressor()\n",
        "param_dist = {\"max_depth\": [8,10,12],\n",
        "              \"learning_rate\" : [0.1],\n",
        "              \"n_estimators\": [3000,5000,7000]\n",
        "             }\n",
        "grid_search = GridSearchCV(cat_bst, n_jobs=-1, param_grid=param_dist, cv = 3, verbose=5)\n",
        "grid_search.fit(x_train,x_label)"
      ],
      "metadata": {
        "id": "5sCimDTyMHBQ"
      },
      "id": "5sCimDTyMHBQ",
      "execution_count": null,
      "outputs": []
    },
    {
      "cell_type": "code",
      "source": [
        "grid_search.best_params_"
      ],
      "metadata": {
        "id": "8jd4uMkZMINp"
      },
      "id": "8jd4uMkZMINp",
      "execution_count": null,
      "outputs": []
    },
    {
      "cell_type": "markdown",
      "source": [
        "## 찾아낸 파라미터로 모델학습시키기"
      ],
      "metadata": {
        "id": "AqAXqLaIMKXv"
      },
      "id": "AqAXqLaIMKXv"
    },
    {
      "cell_type": "code",
      "source": [
        "params = {\"learning_rate\":0.1,\n",
        "                          \"n_estimators\":3500,\n",
        "                          \"depth\":10}\n",
        "cat_bst=CatBoostRegressor(**params,random_state=42)\n",
        "cat_bst.fit(x_train,x_labels,eval_set=(y_train,y_labels))"
      ],
      "metadata": {
        "colab": {
          "base_uri": "https://localhost:8080/",
          "height": 1000
        },
        "id": "uG6eGpuyoRsn",
        "outputId": "766085a9-da27-4672-c082-dabbae8b8040"
      },
      "id": "uG6eGpuyoRsn",
      "execution_count": null,
      "outputs": [
        {
          "output_type": "stream",
          "name": "stdout",
          "text": [
            "0:\tlearn: 4.5529307\ttest: 4.2550923\tbest: 4.2550923 (0)\ttotal: 133ms\tremaining: 7m 46s\n",
            "1:\tlearn: 4.3505486\ttest: 4.0737458\tbest: 4.0737458 (1)\ttotal: 259ms\tremaining: 7m 33s\n",
            "2:\tlearn: 4.1657908\ttest: 3.9099842\tbest: 3.9099842 (2)\ttotal: 389ms\tremaining: 7m 33s\n",
            "3:\tlearn: 4.0035178\ttest: 3.7652611\tbest: 3.7652611 (3)\ttotal: 514ms\tremaining: 7m 29s\n",
            "4:\tlearn: 3.8662090\ttest: 3.6463004\tbest: 3.6463004 (4)\ttotal: 650ms\tremaining: 7m 34s\n",
            "5:\tlearn: 3.7423959\ttest: 3.5435690\tbest: 3.5435690 (5)\ttotal: 783ms\tremaining: 7m 35s\n",
            "6:\tlearn: 3.6374411\ttest: 3.4535087\tbest: 3.4535087 (6)\ttotal: 924ms\tremaining: 7m 41s\n",
            "7:\tlearn: 3.5415470\ttest: 3.3692127\tbest: 3.3692127 (7)\ttotal: 1.05s\tremaining: 7m 38s\n",
            "8:\tlearn: 3.4629225\ttest: 3.3027309\tbest: 3.3027309 (8)\ttotal: 1.18s\tremaining: 7m 38s\n",
            "9:\tlearn: 3.3923144\ttest: 3.2459806\tbest: 3.2459806 (9)\ttotal: 1.32s\tremaining: 7m 40s\n",
            "10:\tlearn: 3.3134580\ttest: 3.1779672\tbest: 3.1779672 (10)\ttotal: 1.45s\tremaining: 7m 41s\n",
            "11:\tlearn: 3.2553698\ttest: 3.1274627\tbest: 3.1274627 (11)\ttotal: 1.58s\tremaining: 7m 40s\n",
            "12:\tlearn: 3.1990188\ttest: 3.0822978\tbest: 3.0822978 (12)\ttotal: 1.72s\tremaining: 7m 40s\n",
            "13:\tlearn: 3.1582248\ttest: 3.0510430\tbest: 3.0510430 (13)\ttotal: 1.87s\tremaining: 7m 46s\n",
            "14:\tlearn: 3.1205951\ttest: 3.0189891\tbest: 3.0189891 (14)\ttotal: 2.06s\tremaining: 7m 57s\n",
            "15:\tlearn: 3.0834147\ttest: 2.9915920\tbest: 2.9915920 (15)\ttotal: 2.19s\tremaining: 7m 57s\n",
            "16:\tlearn: 3.0473798\ttest: 2.9660380\tbest: 2.9660380 (16)\ttotal: 2.33s\tremaining: 7m 57s\n",
            "17:\tlearn: 3.0162217\ttest: 2.9422157\tbest: 2.9422157 (17)\ttotal: 2.46s\tremaining: 7m 56s\n",
            "18:\tlearn: 2.9917415\ttest: 2.9239081\tbest: 2.9239081 (18)\ttotal: 2.59s\tremaining: 7m 54s\n",
            "19:\tlearn: 2.9660412\ttest: 2.9060065\tbest: 2.9060065 (19)\ttotal: 2.72s\tremaining: 7m 53s\n",
            "20:\tlearn: 2.9430530\ttest: 2.8902334\tbest: 2.8902334 (20)\ttotal: 2.86s\tremaining: 7m 53s\n",
            "21:\tlearn: 2.9169779\ttest: 2.8705775\tbest: 2.8705775 (21)\ttotal: 2.99s\tremaining: 7m 52s\n",
            "22:\tlearn: 2.9013283\ttest: 2.8593458\tbest: 2.8593458 (22)\ttotal: 3.12s\tremaining: 7m 52s\n",
            "23:\tlearn: 2.8842226\ttest: 2.8468897\tbest: 2.8468897 (23)\ttotal: 3.25s\tremaining: 7m 51s\n",
            "24:\tlearn: 2.8685200\ttest: 2.8400215\tbest: 2.8400215 (24)\ttotal: 3.38s\tremaining: 7m 50s\n",
            "25:\tlearn: 2.8523750\ttest: 2.8290055\tbest: 2.8290055 (25)\ttotal: 3.51s\tremaining: 7m 49s\n",
            "26:\tlearn: 2.8375685\ttest: 2.8206529\tbest: 2.8206529 (26)\ttotal: 3.65s\tremaining: 7m 49s\n",
            "27:\tlearn: 2.8273996\ttest: 2.8151965\tbest: 2.8151965 (27)\ttotal: 3.77s\tremaining: 7m 48s\n",
            "28:\tlearn: 2.8157037\ttest: 2.8084793\tbest: 2.8084793 (28)\ttotal: 3.91s\tremaining: 7m 48s\n",
            "29:\tlearn: 2.8065002\ttest: 2.8022375\tbest: 2.8022375 (29)\ttotal: 4.04s\tremaining: 7m 47s\n",
            "30:\tlearn: 2.7977146\ttest: 2.7958253\tbest: 2.7958253 (30)\ttotal: 4.17s\tremaining: 7m 46s\n",
            "31:\tlearn: 2.7920176\ttest: 2.7933749\tbest: 2.7933749 (31)\ttotal: 4.3s\tremaining: 7m 46s\n",
            "32:\tlearn: 2.7823315\ttest: 2.7873621\tbest: 2.7873621 (32)\ttotal: 4.43s\tremaining: 7m 46s\n",
            "33:\tlearn: 2.7713951\ttest: 2.7807332\tbest: 2.7807332 (33)\ttotal: 4.56s\tremaining: 7m 45s\n",
            "34:\tlearn: 2.7640757\ttest: 2.7756943\tbest: 2.7756943 (34)\ttotal: 4.69s\tremaining: 7m 44s\n",
            "35:\tlearn: 2.7551569\ttest: 2.7706558\tbest: 2.7706558 (35)\ttotal: 4.83s\tremaining: 7m 44s\n",
            "36:\tlearn: 2.7498988\ttest: 2.7692755\tbest: 2.7692755 (36)\ttotal: 4.97s\tremaining: 7m 45s\n",
            "37:\tlearn: 2.7444519\ttest: 2.7674335\tbest: 2.7674335 (37)\ttotal: 5.1s\tremaining: 7m 44s\n",
            "38:\tlearn: 2.7364381\ttest: 2.7625656\tbest: 2.7625656 (38)\ttotal: 5.24s\tremaining: 7m 44s\n",
            "39:\tlearn: 2.7310562\ttest: 2.7598631\tbest: 2.7598631 (39)\ttotal: 5.37s\tremaining: 7m 44s\n",
            "40:\tlearn: 2.7246761\ttest: 2.7570983\tbest: 2.7570983 (40)\ttotal: 5.5s\tremaining: 7m 44s\n",
            "41:\tlearn: 2.7188412\ttest: 2.7550858\tbest: 2.7550858 (41)\ttotal: 5.63s\tremaining: 7m 43s\n",
            "42:\tlearn: 2.7120021\ttest: 2.7507143\tbest: 2.7507143 (42)\ttotal: 5.76s\tremaining: 7m 43s\n",
            "43:\tlearn: 2.7078771\ttest: 2.7494678\tbest: 2.7494678 (43)\ttotal: 5.91s\tremaining: 7m 43s\n",
            "44:\tlearn: 2.7034829\ttest: 2.7463558\tbest: 2.7463558 (44)\ttotal: 6.04s\tremaining: 7m 43s\n",
            "45:\tlearn: 2.7016365\ttest: 2.7461360\tbest: 2.7461360 (45)\ttotal: 6.17s\tremaining: 7m 43s\n",
            "46:\tlearn: 2.6983328\ttest: 2.7454741\tbest: 2.7454741 (46)\ttotal: 6.3s\tremaining: 7m 42s\n",
            "47:\tlearn: 2.6930051\ttest: 2.7429165\tbest: 2.7429165 (47)\ttotal: 6.44s\tremaining: 7m 42s\n",
            "48:\tlearn: 2.6874568\ttest: 2.7395267\tbest: 2.7395267 (48)\ttotal: 6.57s\tremaining: 7m 42s\n",
            "49:\tlearn: 2.6836775\ttest: 2.7363411\tbest: 2.7363411 (49)\ttotal: 6.7s\tremaining: 7m 42s\n",
            "50:\tlearn: 2.6814215\ttest: 2.7357168\tbest: 2.7357168 (50)\ttotal: 6.83s\tremaining: 7m 41s\n",
            "51:\tlearn: 2.6783289\ttest: 2.7359490\tbest: 2.7357168 (50)\ttotal: 6.96s\tremaining: 7m 41s\n",
            "52:\tlearn: 2.6737032\ttest: 2.7338718\tbest: 2.7338718 (52)\ttotal: 7.09s\tremaining: 7m 41s\n",
            "53:\tlearn: 2.6703126\ttest: 2.7319372\tbest: 2.7319372 (53)\ttotal: 7.23s\tremaining: 7m 41s\n",
            "54:\tlearn: 2.6650586\ttest: 2.7287927\tbest: 2.7287927 (54)\ttotal: 7.37s\tremaining: 7m 41s\n",
            "55:\tlearn: 2.6613216\ttest: 2.7264971\tbest: 2.7264971 (55)\ttotal: 7.5s\tremaining: 7m 41s\n",
            "56:\tlearn: 2.6576653\ttest: 2.7231191\tbest: 2.7231191 (56)\ttotal: 7.63s\tremaining: 7m 41s\n",
            "57:\tlearn: 2.6534045\ttest: 2.7200247\tbest: 2.7200247 (57)\ttotal: 7.76s\tremaining: 7m 40s\n",
            "58:\tlearn: 2.6491007\ttest: 2.7163180\tbest: 2.7163180 (58)\ttotal: 7.89s\tremaining: 7m 39s\n",
            "59:\tlearn: 2.6460089\ttest: 2.7148497\tbest: 2.7148497 (59)\ttotal: 8.02s\tremaining: 7m 40s\n",
            "60:\tlearn: 2.6438345\ttest: 2.7150333\tbest: 2.7148497 (59)\ttotal: 8.2s\tremaining: 7m 42s\n",
            "61:\tlearn: 2.6427854\ttest: 2.7149912\tbest: 2.7148497 (59)\ttotal: 8.35s\tremaining: 7m 43s\n",
            "62:\tlearn: 2.6398195\ttest: 2.7162148\tbest: 2.7148497 (59)\ttotal: 8.48s\tremaining: 7m 42s\n",
            "63:\tlearn: 2.6352229\ttest: 2.7134437\tbest: 2.7134437 (63)\ttotal: 8.62s\tremaining: 7m 42s\n",
            "64:\tlearn: 2.6297291\ttest: 2.7130127\tbest: 2.7130127 (64)\ttotal: 8.74s\tremaining: 7m 42s\n",
            "65:\tlearn: 2.6247028\ttest: 2.7089975\tbest: 2.7089975 (65)\ttotal: 8.87s\tremaining: 7m 41s\n",
            "66:\tlearn: 2.6206518\ttest: 2.7068985\tbest: 2.7068985 (66)\ttotal: 9.02s\tremaining: 7m 42s\n",
            "67:\tlearn: 2.6185735\ttest: 2.7051867\tbest: 2.7051867 (67)\ttotal: 9.15s\tremaining: 7m 41s\n",
            "68:\tlearn: 2.6151123\ttest: 2.7023529\tbest: 2.7023529 (68)\ttotal: 9.28s\tremaining: 7m 41s\n",
            "69:\tlearn: 2.6134903\ttest: 2.7023166\tbest: 2.7023166 (69)\ttotal: 9.41s\tremaining: 7m 41s\n",
            "70:\tlearn: 2.6125059\ttest: 2.7022826\tbest: 2.7022826 (70)\ttotal: 9.54s\tremaining: 7m 40s\n",
            "71:\tlearn: 2.6111990\ttest: 2.7017401\tbest: 2.7017401 (71)\ttotal: 9.67s\tremaining: 7m 40s\n",
            "72:\tlearn: 2.6085992\ttest: 2.6998160\tbest: 2.6998160 (72)\ttotal: 9.8s\tremaining: 7m 40s\n",
            "73:\tlearn: 2.6059025\ttest: 2.6974064\tbest: 2.6974064 (73)\ttotal: 9.93s\tremaining: 7m 39s\n",
            "74:\tlearn: 2.6016044\ttest: 2.6946275\tbest: 2.6946275 (74)\ttotal: 10.1s\tremaining: 7m 40s\n",
            "75:\tlearn: 2.6006296\ttest: 2.6946326\tbest: 2.6946275 (74)\ttotal: 10.2s\tremaining: 7m 39s\n",
            "76:\tlearn: 2.5988927\ttest: 2.6929953\tbest: 2.6929953 (76)\ttotal: 10.3s\tremaining: 7m 39s\n",
            "77:\tlearn: 2.5967614\ttest: 2.6934207\tbest: 2.6929953 (76)\ttotal: 10.5s\tremaining: 7m 39s\n",
            "78:\tlearn: 2.5947723\ttest: 2.6915792\tbest: 2.6915792 (78)\ttotal: 10.6s\tremaining: 7m 38s\n",
            "79:\tlearn: 2.5920001\ttest: 2.6908120\tbest: 2.6908120 (79)\ttotal: 10.7s\tremaining: 7m 38s\n",
            "80:\tlearn: 2.5890344\ttest: 2.6896034\tbest: 2.6896034 (80)\ttotal: 10.9s\tremaining: 7m 38s\n",
            "81:\tlearn: 2.5875384\ttest: 2.6892125\tbest: 2.6892125 (81)\ttotal: 11s\tremaining: 7m 37s\n",
            "82:\tlearn: 2.5847779\ttest: 2.6870904\tbest: 2.6870904 (82)\ttotal: 11.1s\tremaining: 7m 38s\n",
            "83:\tlearn: 2.5836591\ttest: 2.6872764\tbest: 2.6870904 (82)\ttotal: 11.3s\tremaining: 7m 37s\n",
            "84:\tlearn: 2.5806536\ttest: 2.6846400\tbest: 2.6846400 (84)\ttotal: 11.4s\tremaining: 7m 37s\n",
            "85:\tlearn: 2.5774648\ttest: 2.6825525\tbest: 2.6825525 (85)\ttotal: 11.5s\tremaining: 7m 37s\n",
            "86:\tlearn: 2.5756505\ttest: 2.6832427\tbest: 2.6825525 (85)\ttotal: 11.7s\tremaining: 7m 37s\n",
            "87:\tlearn: 2.5732890\ttest: 2.6818656\tbest: 2.6818656 (87)\ttotal: 11.8s\tremaining: 7m 36s\n",
            "88:\tlearn: 2.5697780\ttest: 2.6787548\tbest: 2.6787548 (88)\ttotal: 11.9s\tremaining: 7m 36s\n",
            "89:\tlearn: 2.5664549\ttest: 2.6754550\tbest: 2.6754550 (89)\ttotal: 12.1s\tremaining: 7m 36s\n",
            "90:\tlearn: 2.5640480\ttest: 2.6745708\tbest: 2.6745708 (90)\ttotal: 12.2s\tremaining: 7m 36s\n",
            "91:\tlearn: 2.5614293\ttest: 2.6731821\tbest: 2.6731821 (91)\ttotal: 12.3s\tremaining: 7m 36s\n",
            "92:\tlearn: 2.5596142\ttest: 2.6721557\tbest: 2.6721557 (92)\ttotal: 12.5s\tremaining: 7m 36s\n",
            "93:\tlearn: 2.5559575\ttest: 2.6704312\tbest: 2.6704312 (93)\ttotal: 12.6s\tremaining: 7m 35s\n",
            "94:\tlearn: 2.5528033\ttest: 2.6688653\tbest: 2.6688653 (94)\ttotal: 12.7s\tremaining: 7m 35s\n",
            "95:\tlearn: 2.5485294\ttest: 2.6680632\tbest: 2.6680632 (95)\ttotal: 12.8s\tremaining: 7m 35s\n",
            "96:\tlearn: 2.5439501\ttest: 2.6672387\tbest: 2.6672387 (96)\ttotal: 13s\tremaining: 7m 34s\n",
            "97:\tlearn: 2.5404124\ttest: 2.6655512\tbest: 2.6655512 (97)\ttotal: 13.1s\tremaining: 7m 34s\n",
            "98:\tlearn: 2.5376603\ttest: 2.6633470\tbest: 2.6633470 (98)\ttotal: 13.2s\tremaining: 7m 34s\n",
            "99:\tlearn: 2.5336999\ttest: 2.6604985\tbest: 2.6604985 (99)\ttotal: 13.4s\tremaining: 7m 34s\n",
            "100:\tlearn: 2.5303334\ttest: 2.6583496\tbest: 2.6583496 (100)\ttotal: 13.5s\tremaining: 7m 34s\n",
            "101:\tlearn: 2.5282945\ttest: 2.6564636\tbest: 2.6564636 (101)\ttotal: 13.6s\tremaining: 7m 34s\n",
            "102:\tlearn: 2.5261876\ttest: 2.6565491\tbest: 2.6564636 (101)\ttotal: 13.8s\tremaining: 7m 33s\n",
            "103:\tlearn: 2.5234255\ttest: 2.6544921\tbest: 2.6544921 (103)\ttotal: 13.9s\tremaining: 7m 33s\n",
            "104:\tlearn: 2.5196260\ttest: 2.6529939\tbest: 2.6529939 (104)\ttotal: 14s\tremaining: 7m 33s\n",
            "105:\tlearn: 2.5167478\ttest: 2.6507711\tbest: 2.6507711 (105)\ttotal: 14.2s\tremaining: 7m 33s\n",
            "106:\tlearn: 2.5150053\ttest: 2.6527182\tbest: 2.6507711 (105)\ttotal: 14.3s\tremaining: 7m 33s\n",
            "107:\tlearn: 2.5126878\ttest: 2.6511096\tbest: 2.6507711 (105)\ttotal: 14.4s\tremaining: 7m 32s\n",
            "108:\tlearn: 2.5104795\ttest: 2.6493946\tbest: 2.6493946 (108)\ttotal: 14.6s\tremaining: 7m 32s\n",
            "109:\tlearn: 2.5079371\ttest: 2.6478814\tbest: 2.6478814 (109)\ttotal: 14.7s\tremaining: 7m 32s\n",
            "110:\tlearn: 2.5065301\ttest: 2.6472354\tbest: 2.6472354 (110)\ttotal: 14.8s\tremaining: 7m 32s\n",
            "111:\tlearn: 2.5044582\ttest: 2.6458178\tbest: 2.6458178 (111)\ttotal: 14.9s\tremaining: 7m 32s\n",
            "112:\tlearn: 2.5028794\ttest: 2.6447836\tbest: 2.6447836 (112)\ttotal: 15.1s\tremaining: 7m 32s\n",
            "113:\tlearn: 2.5003873\ttest: 2.6439936\tbest: 2.6439936 (113)\ttotal: 15.2s\tremaining: 7m 32s\n",
            "114:\tlearn: 2.4996632\ttest: 2.6440970\tbest: 2.6439936 (113)\ttotal: 15.4s\tremaining: 7m 32s\n",
            "115:\tlearn: 2.4980760\ttest: 2.6431644\tbest: 2.6431644 (115)\ttotal: 15.5s\tremaining: 7m 31s\n",
            "116:\tlearn: 2.4960605\ttest: 2.6423445\tbest: 2.6423445 (116)\ttotal: 15.6s\tremaining: 7m 31s\n",
            "117:\tlearn: 2.4952392\ttest: 2.6425955\tbest: 2.6423445 (116)\ttotal: 15.7s\tremaining: 7m 31s\n",
            "118:\tlearn: 2.4941548\ttest: 2.6426606\tbest: 2.6423445 (116)\ttotal: 15.9s\tremaining: 7m 31s\n",
            "119:\tlearn: 2.4926840\ttest: 2.6430555\tbest: 2.6423445 (116)\ttotal: 16s\tremaining: 7m 30s\n",
            "120:\tlearn: 2.4924253\ttest: 2.6431323\tbest: 2.6423445 (116)\ttotal: 16.1s\tremaining: 7m 30s\n",
            "121:\tlearn: 2.4899960\ttest: 2.6416701\tbest: 2.6416701 (121)\ttotal: 16.3s\tremaining: 7m 30s\n",
            "122:\tlearn: 2.4871584\ttest: 2.6389316\tbest: 2.6389316 (122)\ttotal: 16.4s\tremaining: 7m 30s\n",
            "123:\tlearn: 2.4846638\ttest: 2.6387558\tbest: 2.6387558 (123)\ttotal: 16.5s\tremaining: 7m 30s\n",
            "124:\tlearn: 2.4842575\ttest: 2.6388071\tbest: 2.6387558 (123)\ttotal: 16.7s\tremaining: 7m 30s\n",
            "125:\tlearn: 2.4827366\ttest: 2.6375903\tbest: 2.6375903 (125)\ttotal: 16.8s\tremaining: 7m 29s\n",
            "126:\tlearn: 2.4819202\ttest: 2.6373862\tbest: 2.6373862 (126)\ttotal: 16.9s\tremaining: 7m 30s\n",
            "127:\tlearn: 2.4806609\ttest: 2.6372838\tbest: 2.6372838 (127)\ttotal: 17.1s\tremaining: 7m 30s\n",
            "128:\tlearn: 2.4778002\ttest: 2.6360919\tbest: 2.6360919 (128)\ttotal: 17.2s\tremaining: 7m 30s\n",
            "129:\tlearn: 2.4753847\ttest: 2.6341001\tbest: 2.6341001 (129)\ttotal: 17.4s\tremaining: 7m 30s\n",
            "130:\tlearn: 2.4738224\ttest: 2.6328667\tbest: 2.6328667 (130)\ttotal: 17.5s\tremaining: 7m 29s\n",
            "131:\tlearn: 2.4717359\ttest: 2.6309052\tbest: 2.6309052 (131)\ttotal: 17.6s\tremaining: 7m 30s\n",
            "132:\tlearn: 2.4691268\ttest: 2.6292184\tbest: 2.6292184 (132)\ttotal: 17.8s\tremaining: 7m 29s\n",
            "133:\tlearn: 2.4661458\ttest: 2.6269128\tbest: 2.6269128 (133)\ttotal: 17.9s\tremaining: 7m 29s\n",
            "134:\tlearn: 2.4654341\ttest: 2.6265037\tbest: 2.6265037 (134)\ttotal: 18s\tremaining: 7m 29s\n",
            "135:\tlearn: 2.4631725\ttest: 2.6248332\tbest: 2.6248332 (135)\ttotal: 18.2s\tremaining: 7m 29s\n",
            "136:\tlearn: 2.4610517\ttest: 2.6235425\tbest: 2.6235425 (136)\ttotal: 18.3s\tremaining: 7m 29s\n",
            "137:\tlearn: 2.4603693\ttest: 2.6232077\tbest: 2.6232077 (137)\ttotal: 18.4s\tremaining: 7m 29s\n",
            "138:\tlearn: 2.4585556\ttest: 2.6229470\tbest: 2.6229470 (138)\ttotal: 18.6s\tremaining: 7m 28s\n",
            "139:\tlearn: 2.4555849\ttest: 2.6215681\tbest: 2.6215681 (139)\ttotal: 18.7s\tremaining: 7m 28s\n",
            "140:\tlearn: 2.4533776\ttest: 2.6219454\tbest: 2.6215681 (139)\ttotal: 18.8s\tremaining: 7m 28s\n",
            "141:\tlearn: 2.4514410\ttest: 2.6206135\tbest: 2.6206135 (141)\ttotal: 19s\tremaining: 7m 28s\n",
            "142:\tlearn: 2.4497416\ttest: 2.6202208\tbest: 2.6202208 (142)\ttotal: 19.1s\tremaining: 7m 27s\n",
            "143:\tlearn: 2.4476500\ttest: 2.6182441\tbest: 2.6182441 (143)\ttotal: 19.2s\tremaining: 7m 28s\n",
            "144:\tlearn: 2.4446236\ttest: 2.6168937\tbest: 2.6168937 (144)\ttotal: 19.4s\tremaining: 7m 27s\n",
            "145:\tlearn: 2.4425002\ttest: 2.6150129\tbest: 2.6150129 (145)\ttotal: 19.5s\tremaining: 7m 27s\n",
            "146:\tlearn: 2.4401872\ttest: 2.6144587\tbest: 2.6144587 (146)\ttotal: 19.6s\tremaining: 7m 27s\n",
            "147:\tlearn: 2.4389527\ttest: 2.6143366\tbest: 2.6143366 (147)\ttotal: 19.7s\tremaining: 7m 27s\n",
            "148:\tlearn: 2.4362775\ttest: 2.6128299\tbest: 2.6128299 (148)\ttotal: 19.9s\tremaining: 7m 27s\n",
            "149:\tlearn: 2.4358167\ttest: 2.6128840\tbest: 2.6128299 (148)\ttotal: 20s\tremaining: 7m 26s\n",
            "150:\tlearn: 2.4352271\ttest: 2.6127163\tbest: 2.6127163 (150)\ttotal: 20.1s\tremaining: 7m 26s\n",
            "151:\tlearn: 2.4346090\ttest: 2.6127371\tbest: 2.6127163 (150)\ttotal: 20.3s\tremaining: 7m 26s\n",
            "152:\tlearn: 2.4324941\ttest: 2.6127510\tbest: 2.6127163 (150)\ttotal: 20.4s\tremaining: 7m 26s\n",
            "153:\tlearn: 2.4315909\ttest: 2.6127659\tbest: 2.6127163 (150)\ttotal: 20.5s\tremaining: 7m 26s\n",
            "154:\tlearn: 2.4289761\ttest: 2.6106726\tbest: 2.6106726 (154)\ttotal: 20.7s\tremaining: 7m 26s\n",
            "155:\tlearn: 2.4272231\ttest: 2.6095423\tbest: 2.6095423 (155)\ttotal: 20.8s\tremaining: 7m 25s\n",
            "156:\tlearn: 2.4247392\ttest: 2.6069476\tbest: 2.6069476 (156)\ttotal: 20.9s\tremaining: 7m 25s\n",
            "157:\tlearn: 2.4243220\ttest: 2.6069190\tbest: 2.6069190 (157)\ttotal: 21.1s\tremaining: 7m 25s\n",
            "158:\tlearn: 2.4234959\ttest: 2.6071413\tbest: 2.6069190 (157)\ttotal: 21.2s\tremaining: 7m 25s\n",
            "159:\tlearn: 2.4210379\ttest: 2.6048490\tbest: 2.6048490 (159)\ttotal: 21.3s\tremaining: 7m 25s\n",
            "160:\tlearn: 2.4185935\ttest: 2.6029776\tbest: 2.6029776 (160)\ttotal: 21.5s\tremaining: 7m 25s\n",
            "161:\tlearn: 2.4166010\ttest: 2.6018031\tbest: 2.6018031 (161)\ttotal: 21.6s\tremaining: 7m 24s\n",
            "162:\tlearn: 2.4142236\ttest: 2.6001286\tbest: 2.6001286 (162)\ttotal: 21.7s\tremaining: 7m 24s\n",
            "163:\tlearn: 2.4120552\ttest: 2.5989058\tbest: 2.5989058 (163)\ttotal: 21.9s\tremaining: 7m 24s\n",
            "164:\tlearn: 2.4111050\ttest: 2.5982596\tbest: 2.5982596 (164)\ttotal: 22s\tremaining: 7m 24s\n",
            "165:\tlearn: 2.4099139\ttest: 2.5976249\tbest: 2.5976249 (165)\ttotal: 22.1s\tremaining: 7m 24s\n",
            "166:\tlearn: 2.4083324\ttest: 2.5976472\tbest: 2.5976249 (165)\ttotal: 22.3s\tremaining: 7m 24s\n",
            "167:\tlearn: 2.4066909\ttest: 2.5974486\tbest: 2.5974486 (167)\ttotal: 22.4s\tremaining: 7m 24s\n",
            "168:\tlearn: 2.4045489\ttest: 2.5963847\tbest: 2.5963847 (168)\ttotal: 22.5s\tremaining: 7m 23s\n",
            "169:\tlearn: 2.4030379\ttest: 2.5953456\tbest: 2.5953456 (169)\ttotal: 22.6s\tremaining: 7m 23s\n",
            "170:\tlearn: 2.4014850\ttest: 2.5944056\tbest: 2.5944056 (170)\ttotal: 22.8s\tremaining: 7m 23s\n",
            "171:\tlearn: 2.4007386\ttest: 2.5947103\tbest: 2.5944056 (170)\ttotal: 22.9s\tremaining: 7m 23s\n",
            "172:\tlearn: 2.4003135\ttest: 2.5947267\tbest: 2.5944056 (170)\ttotal: 23s\tremaining: 7m 23s\n",
            "173:\tlearn: 2.3994346\ttest: 2.5941746\tbest: 2.5941746 (173)\ttotal: 23.2s\tremaining: 7m 22s\n",
            "174:\tlearn: 2.3970977\ttest: 2.5927573\tbest: 2.5927573 (174)\ttotal: 23.3s\tremaining: 7m 22s\n",
            "175:\tlearn: 2.3960493\ttest: 2.5929816\tbest: 2.5927573 (174)\ttotal: 23.4s\tremaining: 7m 22s\n",
            "176:\tlearn: 2.3939764\ttest: 2.5922751\tbest: 2.5922751 (176)\ttotal: 23.6s\tremaining: 7m 22s\n",
            "177:\tlearn: 2.3935790\ttest: 2.5922332\tbest: 2.5922332 (177)\ttotal: 23.7s\tremaining: 7m 22s\n",
            "178:\tlearn: 2.3915744\ttest: 2.5909171\tbest: 2.5909171 (178)\ttotal: 23.8s\tremaining: 7m 22s\n",
            "179:\tlearn: 2.3911920\ttest: 2.5907743\tbest: 2.5907743 (179)\ttotal: 24s\tremaining: 7m 21s\n",
            "180:\tlearn: 2.3898673\ttest: 2.5899527\tbest: 2.5899527 (180)\ttotal: 24.1s\tremaining: 7m 21s\n",
            "181:\tlearn: 2.3891768\ttest: 2.5904492\tbest: 2.5899527 (180)\ttotal: 24.2s\tremaining: 7m 21s\n",
            "182:\tlearn: 2.3878996\ttest: 2.5901770\tbest: 2.5899527 (180)\ttotal: 24.4s\tremaining: 7m 21s\n",
            "183:\tlearn: 2.3873200\ttest: 2.5906396\tbest: 2.5899527 (180)\ttotal: 24.5s\tremaining: 7m 21s\n",
            "184:\tlearn: 2.3861231\ttest: 2.5905506\tbest: 2.5899527 (180)\ttotal: 24.6s\tremaining: 7m 21s\n",
            "185:\tlearn: 2.3846155\ttest: 2.5894595\tbest: 2.5894595 (185)\ttotal: 24.8s\tremaining: 7m 21s\n",
            "186:\tlearn: 2.3825612\ttest: 2.5891637\tbest: 2.5891637 (186)\ttotal: 24.9s\tremaining: 7m 20s\n",
            "187:\tlearn: 2.3802621\ttest: 2.5889130\tbest: 2.5889130 (187)\ttotal: 25s\tremaining: 7m 20s\n",
            "188:\tlearn: 2.3784886\ttest: 2.5873062\tbest: 2.5873062 (188)\ttotal: 25.2s\tremaining: 7m 20s\n",
            "189:\tlearn: 2.3784285\ttest: 2.5873239\tbest: 2.5873062 (188)\ttotal: 25.3s\tremaining: 7m 20s\n",
            "190:\tlearn: 2.3770757\ttest: 2.5868501\tbest: 2.5868501 (190)\ttotal: 25.4s\tremaining: 7m 20s\n",
            "191:\tlearn: 2.3749366\ttest: 2.5848704\tbest: 2.5848704 (191)\ttotal: 25.6s\tremaining: 7m 20s\n",
            "192:\tlearn: 2.3741842\ttest: 2.5851791\tbest: 2.5848704 (191)\ttotal: 25.7s\tremaining: 7m 20s\n",
            "193:\tlearn: 2.3715849\ttest: 2.5837411\tbest: 2.5837411 (193)\ttotal: 25.8s\tremaining: 7m 19s\n",
            "194:\tlearn: 2.3683606\ttest: 2.5816381\tbest: 2.5816381 (194)\ttotal: 26s\tremaining: 7m 19s\n",
            "195:\tlearn: 2.3666442\ttest: 2.5805902\tbest: 2.5805902 (195)\ttotal: 26.1s\tremaining: 7m 19s\n",
            "196:\tlearn: 2.3649553\ttest: 2.5795953\tbest: 2.5795953 (196)\ttotal: 26.2s\tremaining: 7m 19s\n",
            "197:\tlearn: 2.3636681\ttest: 2.5787233\tbest: 2.5787233 (197)\ttotal: 26.4s\tremaining: 7m 19s\n",
            "198:\tlearn: 2.3610364\ttest: 2.5774407\tbest: 2.5774407 (198)\ttotal: 26.5s\tremaining: 7m 19s\n",
            "199:\tlearn: 2.3601531\ttest: 2.5777808\tbest: 2.5774407 (198)\ttotal: 26.6s\tremaining: 7m 19s\n",
            "200:\tlearn: 2.3582006\ttest: 2.5761261\tbest: 2.5761261 (200)\ttotal: 26.8s\tremaining: 7m 19s\n",
            "201:\tlearn: 2.3559482\ttest: 2.5746479\tbest: 2.5746479 (201)\ttotal: 26.9s\tremaining: 7m 18s\n",
            "202:\tlearn: 2.3545232\ttest: 2.5742679\tbest: 2.5742679 (202)\ttotal: 27s\tremaining: 7m 18s\n",
            "203:\tlearn: 2.3523229\ttest: 2.5722876\tbest: 2.5722876 (203)\ttotal: 27.2s\tremaining: 7m 18s\n",
            "204:\tlearn: 2.3517401\ttest: 2.5725279\tbest: 2.5722876 (203)\ttotal: 27.3s\tremaining: 7m 18s\n",
            "205:\tlearn: 2.3501883\ttest: 2.5717020\tbest: 2.5717020 (205)\ttotal: 27.4s\tremaining: 7m 18s\n",
            "206:\tlearn: 2.3491701\ttest: 2.5712500\tbest: 2.5712500 (206)\ttotal: 27.6s\tremaining: 7m 18s\n",
            "207:\tlearn: 2.3477755\ttest: 2.5704168\tbest: 2.5704168 (207)\ttotal: 27.7s\tremaining: 7m 18s\n",
            "208:\tlearn: 2.3462564\ttest: 2.5697710\tbest: 2.5697710 (208)\ttotal: 27.8s\tremaining: 7m 18s\n",
            "209:\tlearn: 2.3448340\ttest: 2.5685642\tbest: 2.5685642 (209)\ttotal: 27.9s\tremaining: 7m 17s\n",
            "210:\tlearn: 2.3422360\ttest: 2.5680263\tbest: 2.5680263 (210)\ttotal: 28.1s\tremaining: 7m 17s\n",
            "211:\tlearn: 2.3407433\ttest: 2.5669340\tbest: 2.5669340 (211)\ttotal: 28.2s\tremaining: 7m 17s\n",
            "212:\tlearn: 2.3388205\ttest: 2.5654394\tbest: 2.5654394 (212)\ttotal: 28.3s\tremaining: 7m 17s\n",
            "213:\tlearn: 2.3366933\ttest: 2.5640259\tbest: 2.5640259 (213)\ttotal: 28.5s\tremaining: 7m 17s\n",
            "214:\tlearn: 2.3362103\ttest: 2.5640121\tbest: 2.5640121 (214)\ttotal: 28.6s\tremaining: 7m 17s\n",
            "215:\tlearn: 2.3348914\ttest: 2.5632822\tbest: 2.5632822 (215)\ttotal: 28.7s\tremaining: 7m 17s\n",
            "216:\tlearn: 2.3332384\ttest: 2.5630340\tbest: 2.5630340 (216)\ttotal: 28.9s\tremaining: 7m 16s\n",
            "217:\tlearn: 2.3324524\ttest: 2.5624511\tbest: 2.5624511 (217)\ttotal: 29s\tremaining: 7m 16s\n",
            "218:\tlearn: 2.3320020\ttest: 2.5627444\tbest: 2.5624511 (217)\ttotal: 29.1s\tremaining: 7m 16s\n",
            "219:\tlearn: 2.3306919\ttest: 2.5618490\tbest: 2.5618490 (219)\ttotal: 29.3s\tremaining: 7m 16s\n",
            "220:\tlearn: 2.3283538\ttest: 2.5598137\tbest: 2.5598137 (220)\ttotal: 29.4s\tremaining: 7m 16s\n",
            "221:\tlearn: 2.3264641\ttest: 2.5584865\tbest: 2.5584865 (221)\ttotal: 29.5s\tremaining: 7m 16s\n",
            "222:\tlearn: 2.3254818\ttest: 2.5584713\tbest: 2.5584713 (222)\ttotal: 29.7s\tremaining: 7m 16s\n",
            "223:\tlearn: 2.3245703\ttest: 2.5588464\tbest: 2.5584713 (222)\ttotal: 29.8s\tremaining: 7m 15s\n",
            "224:\tlearn: 2.3237401\ttest: 2.5595891\tbest: 2.5584713 (222)\ttotal: 29.9s\tremaining: 7m 15s\n",
            "225:\tlearn: 2.3219181\ttest: 2.5586826\tbest: 2.5584713 (222)\ttotal: 30.1s\tremaining: 7m 15s\n",
            "226:\tlearn: 2.3210285\ttest: 2.5597093\tbest: 2.5584713 (222)\ttotal: 30.2s\tremaining: 7m 15s\n",
            "227:\tlearn: 2.3201807\ttest: 2.5593997\tbest: 2.5584713 (222)\ttotal: 30.3s\tremaining: 7m 15s\n",
            "228:\tlearn: 2.3175040\ttest: 2.5574582\tbest: 2.5574582 (228)\ttotal: 30.5s\tremaining: 7m 15s\n",
            "229:\tlearn: 2.3156152\ttest: 2.5576161\tbest: 2.5574582 (228)\ttotal: 30.6s\tremaining: 7m 15s\n",
            "230:\tlearn: 2.3142020\ttest: 2.5567693\tbest: 2.5567693 (230)\ttotal: 30.7s\tremaining: 7m 15s\n",
            "231:\tlearn: 2.3125518\ttest: 2.5555556\tbest: 2.5555556 (231)\ttotal: 30.9s\tremaining: 7m 14s\n",
            "232:\tlearn: 2.3116641\ttest: 2.5556055\tbest: 2.5555556 (231)\ttotal: 31s\tremaining: 7m 14s\n",
            "233:\tlearn: 2.3106842\ttest: 2.5554370\tbest: 2.5554370 (233)\ttotal: 31.1s\tremaining: 7m 14s\n",
            "234:\tlearn: 2.3090109\ttest: 2.5546163\tbest: 2.5546163 (234)\ttotal: 31.3s\tremaining: 7m 14s\n",
            "235:\tlearn: 2.3082055\ttest: 2.5547014\tbest: 2.5546163 (234)\ttotal: 31.4s\tremaining: 7m 14s\n",
            "236:\tlearn: 2.3057875\ttest: 2.5533151\tbest: 2.5533151 (236)\ttotal: 31.5s\tremaining: 7m 14s\n",
            "237:\tlearn: 2.3050653\ttest: 2.5534226\tbest: 2.5533151 (236)\ttotal: 31.7s\tremaining: 7m 13s\n",
            "238:\tlearn: 2.3034551\ttest: 2.5521193\tbest: 2.5521193 (238)\ttotal: 31.8s\tremaining: 7m 13s\n",
            "239:\tlearn: 2.3015638\ttest: 2.5507641\tbest: 2.5507641 (239)\ttotal: 31.9s\tremaining: 7m 13s\n",
            "240:\tlearn: 2.3001269\ttest: 2.5496499\tbest: 2.5496499 (240)\ttotal: 32.1s\tremaining: 7m 13s\n",
            "241:\tlearn: 2.2987805\ttest: 2.5489789\tbest: 2.5489789 (241)\ttotal: 32.2s\tremaining: 7m 13s\n",
            "242:\tlearn: 2.2964171\ttest: 2.5480275\tbest: 2.5480275 (242)\ttotal: 32.3s\tremaining: 7m 13s\n",
            "243:\tlearn: 2.2961766\ttest: 2.5481063\tbest: 2.5480275 (242)\ttotal: 32.5s\tremaining: 7m 13s\n",
            "244:\tlearn: 2.2945417\ttest: 2.5472133\tbest: 2.5472133 (244)\ttotal: 32.6s\tremaining: 7m 13s\n",
            "245:\tlearn: 2.2940360\ttest: 2.5473669\tbest: 2.5472133 (244)\ttotal: 32.7s\tremaining: 7m 13s\n",
            "246:\tlearn: 2.2935679\ttest: 2.5474488\tbest: 2.5472133 (244)\ttotal: 32.9s\tremaining: 7m 13s\n",
            "247:\tlearn: 2.2923880\ttest: 2.5471849\tbest: 2.5471849 (247)\ttotal: 33s\tremaining: 7m 12s\n",
            "248:\tlearn: 2.2912330\ttest: 2.5466976\tbest: 2.5466976 (248)\ttotal: 33.1s\tremaining: 7m 12s\n",
            "249:\tlearn: 2.2903742\ttest: 2.5472649\tbest: 2.5466976 (248)\ttotal: 33.3s\tremaining: 7m 12s\n",
            "250:\tlearn: 2.2897663\ttest: 2.5469337\tbest: 2.5466976 (248)\ttotal: 33.4s\tremaining: 7m 12s\n",
            "251:\tlearn: 2.2877452\ttest: 2.5455983\tbest: 2.5455983 (251)\ttotal: 33.5s\tremaining: 7m 12s\n",
            "252:\tlearn: 2.2868354\ttest: 2.5447184\tbest: 2.5447184 (252)\ttotal: 33.7s\tremaining: 7m 12s\n",
            "253:\tlearn: 2.2867171\ttest: 2.5446474\tbest: 2.5446474 (253)\ttotal: 33.8s\tremaining: 7m 12s\n",
            "254:\tlearn: 2.2847058\ttest: 2.5440859\tbest: 2.5440859 (254)\ttotal: 33.9s\tremaining: 7m 12s\n",
            "255:\tlearn: 2.2835499\ttest: 2.5434140\tbest: 2.5434140 (255)\ttotal: 34.1s\tremaining: 7m 11s\n",
            "256:\tlearn: 2.2819298\ttest: 2.5424241\tbest: 2.5424241 (256)\ttotal: 34.2s\tremaining: 7m 11s\n",
            "257:\tlearn: 2.2818250\ttest: 2.5423648\tbest: 2.5423648 (257)\ttotal: 34.3s\tremaining: 7m 11s\n",
            "258:\tlearn: 2.2801029\ttest: 2.5415943\tbest: 2.5415943 (258)\ttotal: 34.5s\tremaining: 7m 11s\n",
            "259:\tlearn: 2.2786321\ttest: 2.5407453\tbest: 2.5407453 (259)\ttotal: 34.6s\tremaining: 7m 11s\n",
            "260:\tlearn: 2.2785087\ttest: 2.5405694\tbest: 2.5405694 (260)\ttotal: 34.8s\tremaining: 7m 11s\n",
            "261:\tlearn: 2.2767694\ttest: 2.5379180\tbest: 2.5379180 (261)\ttotal: 34.9s\tremaining: 7m 11s\n",
            "262:\tlearn: 2.2763991\ttest: 2.5379770\tbest: 2.5379180 (261)\ttotal: 35s\tremaining: 7m 10s\n",
            "263:\tlearn: 2.2751408\ttest: 2.5372009\tbest: 2.5372009 (263)\ttotal: 35.1s\tremaining: 7m 10s\n",
            "264:\tlearn: 2.2739733\ttest: 2.5365383\tbest: 2.5365383 (264)\ttotal: 35.3s\tremaining: 7m 10s\n",
            "265:\tlearn: 2.2731883\ttest: 2.5364077\tbest: 2.5364077 (265)\ttotal: 35.4s\tremaining: 7m 10s\n",
            "266:\tlearn: 2.2721550\ttest: 2.5353381\tbest: 2.5353381 (266)\ttotal: 35.6s\tremaining: 7m 10s\n",
            "267:\tlearn: 2.2706950\ttest: 2.5352520\tbest: 2.5352520 (267)\ttotal: 35.7s\tremaining: 7m 10s\n",
            "268:\tlearn: 2.2693959\ttest: 2.5345876\tbest: 2.5345876 (268)\ttotal: 35.8s\tremaining: 7m 10s\n",
            "269:\tlearn: 2.2682681\ttest: 2.5337242\tbest: 2.5337242 (269)\ttotal: 36s\tremaining: 7m 10s\n",
            "270:\tlearn: 2.2665742\ttest: 2.5326098\tbest: 2.5326098 (270)\ttotal: 36.1s\tremaining: 7m 10s\n",
            "271:\tlearn: 2.2658503\ttest: 2.5328998\tbest: 2.5326098 (270)\ttotal: 36.2s\tremaining: 7m 9s\n",
            "272:\tlearn: 2.2647109\ttest: 2.5324104\tbest: 2.5324104 (272)\ttotal: 36.4s\tremaining: 7m 9s\n",
            "273:\tlearn: 2.2629705\ttest: 2.5317247\tbest: 2.5317247 (273)\ttotal: 36.5s\tremaining: 7m 9s\n",
            "274:\tlearn: 2.2616856\ttest: 2.5309964\tbest: 2.5309964 (274)\ttotal: 36.6s\tremaining: 7m 9s\n",
            "275:\tlearn: 2.2611612\ttest: 2.5313480\tbest: 2.5309964 (274)\ttotal: 36.8s\tremaining: 7m 9s\n",
            "276:\tlearn: 2.2598494\ttest: 2.5305165\tbest: 2.5305165 (276)\ttotal: 36.9s\tremaining: 7m 9s\n",
            "277:\tlearn: 2.2592175\ttest: 2.5305705\tbest: 2.5305165 (276)\ttotal: 37s\tremaining: 7m 9s\n",
            "278:\tlearn: 2.2587523\ttest: 2.5306138\tbest: 2.5305165 (276)\ttotal: 37.2s\tremaining: 7m 9s\n",
            "279:\tlearn: 2.2577878\ttest: 2.5298814\tbest: 2.5298814 (279)\ttotal: 37.3s\tremaining: 7m 8s\n",
            "280:\tlearn: 2.2570761\ttest: 2.5298099\tbest: 2.5298099 (280)\ttotal: 37.4s\tremaining: 7m 8s\n",
            "281:\tlearn: 2.2556672\ttest: 2.5284049\tbest: 2.5284049 (281)\ttotal: 37.6s\tremaining: 7m 8s\n",
            "282:\tlearn: 2.2539777\ttest: 2.5277451\tbest: 2.5277451 (282)\ttotal: 37.7s\tremaining: 7m 8s\n",
            "283:\tlearn: 2.2533151\ttest: 2.5272260\tbest: 2.5272260 (283)\ttotal: 37.8s\tremaining: 7m 8s\n",
            "284:\tlearn: 2.2516387\ttest: 2.5270525\tbest: 2.5270525 (284)\ttotal: 38s\tremaining: 7m 8s\n",
            "285:\tlearn: 2.2505705\ttest: 2.5269366\tbest: 2.5269366 (285)\ttotal: 38.1s\tremaining: 7m 8s\n",
            "286:\tlearn: 2.2498913\ttest: 2.5265175\tbest: 2.5265175 (286)\ttotal: 38.2s\tremaining: 7m 7s\n",
            "287:\tlearn: 2.2484752\ttest: 2.5255478\tbest: 2.5255478 (287)\ttotal: 38.4s\tremaining: 7m 7s\n",
            "288:\tlearn: 2.2479870\ttest: 2.5264867\tbest: 2.5255478 (287)\ttotal: 38.5s\tremaining: 7m 7s\n",
            "289:\tlearn: 2.2469149\ttest: 2.5261333\tbest: 2.5255478 (287)\ttotal: 38.6s\tremaining: 7m 7s\n",
            "290:\tlearn: 2.2466259\ttest: 2.5262624\tbest: 2.5255478 (287)\ttotal: 38.8s\tremaining: 7m 7s\n",
            "291:\tlearn: 2.2462663\ttest: 2.5262741\tbest: 2.5255478 (287)\ttotal: 38.9s\tremaining: 7m 7s\n",
            "292:\tlearn: 2.2444604\ttest: 2.5251289\tbest: 2.5251289 (292)\ttotal: 39s\tremaining: 7m 7s\n",
            "293:\tlearn: 2.2430453\ttest: 2.5247461\tbest: 2.5247461 (293)\ttotal: 39.2s\tremaining: 7m 7s\n",
            "294:\tlearn: 2.2420272\ttest: 2.5244371\tbest: 2.5244371 (294)\ttotal: 39.3s\tremaining: 7m 6s\n",
            "295:\tlearn: 2.2409873\ttest: 2.5243547\tbest: 2.5243547 (295)\ttotal: 39.4s\tremaining: 7m 6s\n",
            "296:\tlearn: 2.2405409\ttest: 2.5243003\tbest: 2.5243003 (296)\ttotal: 39.6s\tremaining: 7m 6s\n",
            "297:\tlearn: 2.2394724\ttest: 2.5237297\tbest: 2.5237297 (297)\ttotal: 39.7s\tremaining: 7m 6s\n",
            "298:\tlearn: 2.2384375\ttest: 2.5235481\tbest: 2.5235481 (298)\ttotal: 39.8s\tremaining: 7m 6s\n",
            "299:\tlearn: 2.2376141\ttest: 2.5232789\tbest: 2.5232789 (299)\ttotal: 40s\tremaining: 7m 6s\n",
            "300:\tlearn: 2.2364024\ttest: 2.5225127\tbest: 2.5225127 (300)\ttotal: 40.1s\tremaining: 7m 5s\n",
            "301:\tlearn: 2.2353073\ttest: 2.5217766\tbest: 2.5217766 (301)\ttotal: 40.2s\tremaining: 7m 5s\n",
            "302:\tlearn: 2.2342590\ttest: 2.5206920\tbest: 2.5206920 (302)\ttotal: 40.3s\tremaining: 7m 5s\n",
            "303:\tlearn: 2.2331316\ttest: 2.5197865\tbest: 2.5197865 (303)\ttotal: 40.5s\tremaining: 7m 5s\n",
            "304:\tlearn: 2.2318410\ttest: 2.5191937\tbest: 2.5191937 (304)\ttotal: 40.6s\tremaining: 7m 5s\n",
            "305:\tlearn: 2.2304672\ttest: 2.5189406\tbest: 2.5189406 (305)\ttotal: 40.7s\tremaining: 7m 5s\n",
            "306:\tlearn: 2.2281241\ttest: 2.5176852\tbest: 2.5176852 (306)\ttotal: 40.9s\tremaining: 7m 5s\n",
            "307:\tlearn: 2.2269768\ttest: 2.5171772\tbest: 2.5171772 (307)\ttotal: 41s\tremaining: 7m 4s\n",
            "308:\tlearn: 2.2252989\ttest: 2.5170218\tbest: 2.5170218 (308)\ttotal: 41.1s\tremaining: 7m 4s\n",
            "309:\tlearn: 2.2244865\ttest: 2.5169386\tbest: 2.5169386 (309)\ttotal: 41.3s\tremaining: 7m 4s\n",
            "310:\tlearn: 2.2238373\ttest: 2.5165151\tbest: 2.5165151 (310)\ttotal: 41.4s\tremaining: 7m 4s\n",
            "311:\tlearn: 2.2231553\ttest: 2.5158939\tbest: 2.5158939 (311)\ttotal: 41.5s\tremaining: 7m 4s\n",
            "312:\tlearn: 2.2222793\ttest: 2.5155889\tbest: 2.5155889 (312)\ttotal: 41.7s\tremaining: 7m 4s\n",
            "313:\tlearn: 2.2212434\ttest: 2.5155578\tbest: 2.5155578 (313)\ttotal: 41.8s\tremaining: 7m 4s\n",
            "314:\tlearn: 2.2198003\ttest: 2.5151053\tbest: 2.5151053 (314)\ttotal: 41.9s\tremaining: 7m 4s\n",
            "315:\tlearn: 2.2184517\ttest: 2.5140662\tbest: 2.5140662 (315)\ttotal: 42.1s\tremaining: 7m 3s\n",
            "316:\tlearn: 2.2171110\ttest: 2.5129983\tbest: 2.5129983 (316)\ttotal: 42.2s\tremaining: 7m 3s\n",
            "317:\tlearn: 2.2157641\ttest: 2.5121659\tbest: 2.5121659 (317)\ttotal: 42.3s\tremaining: 7m 3s\n",
            "318:\tlearn: 2.2146373\ttest: 2.5117856\tbest: 2.5117856 (318)\ttotal: 42.5s\tremaining: 7m 3s\n",
            "319:\tlearn: 2.2139282\ttest: 2.5123909\tbest: 2.5117856 (318)\ttotal: 42.6s\tremaining: 7m 3s\n",
            "320:\tlearn: 2.2130317\ttest: 2.5121775\tbest: 2.5117856 (318)\ttotal: 42.7s\tremaining: 7m 3s\n",
            "321:\tlearn: 2.2126045\ttest: 2.5123023\tbest: 2.5117856 (318)\ttotal: 42.9s\tremaining: 7m 3s\n",
            "322:\tlearn: 2.2119473\ttest: 2.5120174\tbest: 2.5117856 (318)\ttotal: 43s\tremaining: 7m 3s\n",
            "323:\tlearn: 2.2108521\ttest: 2.5113882\tbest: 2.5113882 (323)\ttotal: 43.1s\tremaining: 7m 2s\n",
            "324:\tlearn: 2.2095348\ttest: 2.5109091\tbest: 2.5109091 (324)\ttotal: 43.3s\tremaining: 7m 2s\n",
            "325:\tlearn: 2.2085319\ttest: 2.5103422\tbest: 2.5103422 (325)\ttotal: 43.4s\tremaining: 7m 2s\n",
            "326:\tlearn: 2.2082474\ttest: 2.5103399\tbest: 2.5103399 (326)\ttotal: 43.5s\tremaining: 7m 2s\n",
            "327:\tlearn: 2.2073138\ttest: 2.5099490\tbest: 2.5099490 (327)\ttotal: 43.7s\tremaining: 7m 2s\n",
            "328:\tlearn: 2.2071229\ttest: 2.5100183\tbest: 2.5099490 (327)\ttotal: 43.8s\tremaining: 7m 2s\n",
            "329:\tlearn: 2.2056201\ttest: 2.5090828\tbest: 2.5090828 (329)\ttotal: 43.9s\tremaining: 7m 1s\n",
            "330:\tlearn: 2.2053365\ttest: 2.5091411\tbest: 2.5090828 (329)\ttotal: 44.1s\tremaining: 7m 1s\n",
            "331:\tlearn: 2.2044384\ttest: 2.5086974\tbest: 2.5086974 (331)\ttotal: 44.2s\tremaining: 7m 1s\n",
            "332:\tlearn: 2.2040109\ttest: 2.5086675\tbest: 2.5086675 (332)\ttotal: 44.3s\tremaining: 7m 1s\n",
            "333:\tlearn: 2.2031495\ttest: 2.5087276\tbest: 2.5086675 (332)\ttotal: 44.5s\tremaining: 7m 1s\n",
            "334:\tlearn: 2.2019022\ttest: 2.5080566\tbest: 2.5080566 (334)\ttotal: 44.6s\tremaining: 7m 1s\n",
            "335:\tlearn: 2.2007392\ttest: 2.5080775\tbest: 2.5080566 (334)\ttotal: 44.7s\tremaining: 7m 1s\n",
            "336:\tlearn: 2.1994586\ttest: 2.5081752\tbest: 2.5080566 (334)\ttotal: 44.9s\tremaining: 7m 1s\n",
            "337:\tlearn: 2.1987412\ttest: 2.5078381\tbest: 2.5078381 (337)\ttotal: 45s\tremaining: 7m 1s\n",
            "338:\tlearn: 2.1977674\ttest: 2.5071943\tbest: 2.5071943 (338)\ttotal: 45.1s\tremaining: 7m\n",
            "339:\tlearn: 2.1963972\ttest: 2.5058375\tbest: 2.5058375 (339)\ttotal: 45.3s\tremaining: 7m\n",
            "340:\tlearn: 2.1953521\ttest: 2.5050375\tbest: 2.5050375 (340)\ttotal: 45.4s\tremaining: 7m\n",
            "341:\tlearn: 2.1941390\ttest: 2.5040034\tbest: 2.5040034 (341)\ttotal: 45.5s\tremaining: 7m\n",
            "342:\tlearn: 2.1937282\ttest: 2.5053908\tbest: 2.5040034 (341)\ttotal: 45.7s\tremaining: 7m\n",
            "343:\tlearn: 2.1934074\ttest: 2.5058919\tbest: 2.5040034 (341)\ttotal: 45.8s\tremaining: 7m\n",
            "344:\tlearn: 2.1929480\ttest: 2.5063198\tbest: 2.5040034 (341)\ttotal: 45.9s\tremaining: 7m\n",
            "345:\tlearn: 2.1923931\ttest: 2.5063853\tbest: 2.5040034 (341)\ttotal: 46.1s\tremaining: 6m 59s\n",
            "346:\tlearn: 2.1913170\ttest: 2.5066256\tbest: 2.5040034 (341)\ttotal: 46.2s\tremaining: 6m 59s\n",
            "347:\tlearn: 2.1909899\ttest: 2.5067061\tbest: 2.5040034 (341)\ttotal: 46.3s\tremaining: 6m 59s\n",
            "348:\tlearn: 2.1904369\ttest: 2.5067299\tbest: 2.5040034 (341)\ttotal: 46.5s\tremaining: 6m 59s\n",
            "349:\tlearn: 2.1898095\ttest: 2.5062443\tbest: 2.5040034 (341)\ttotal: 46.6s\tremaining: 6m 59s\n",
            "350:\tlearn: 2.1889367\ttest: 2.5059455\tbest: 2.5040034 (341)\ttotal: 46.7s\tremaining: 6m 59s\n",
            "351:\tlearn: 2.1876186\ttest: 2.5059892\tbest: 2.5040034 (341)\ttotal: 46.9s\tremaining: 6m 59s\n",
            "352:\tlearn: 2.1872500\ttest: 2.5060122\tbest: 2.5040034 (341)\ttotal: 47s\tremaining: 6m 59s\n",
            "353:\tlearn: 2.1869426\ttest: 2.5059303\tbest: 2.5040034 (341)\ttotal: 47.1s\tremaining: 6m 58s\n",
            "354:\tlearn: 2.1861850\ttest: 2.5056838\tbest: 2.5040034 (341)\ttotal: 47.3s\tremaining: 6m 58s\n",
            "355:\tlearn: 2.1841725\ttest: 2.5050097\tbest: 2.5040034 (341)\ttotal: 47.4s\tremaining: 6m 58s\n",
            "356:\tlearn: 2.1833251\ttest: 2.5045094\tbest: 2.5040034 (341)\ttotal: 47.5s\tremaining: 6m 58s\n",
            "357:\tlearn: 2.1824535\ttest: 2.5041077\tbest: 2.5040034 (341)\ttotal: 47.7s\tremaining: 6m 58s\n",
            "358:\tlearn: 2.1814906\ttest: 2.5038055\tbest: 2.5038055 (358)\ttotal: 47.8s\tremaining: 6m 58s\n",
            "359:\tlearn: 2.1812392\ttest: 2.5038984\tbest: 2.5038055 (358)\ttotal: 47.9s\tremaining: 6m 58s\n",
            "360:\tlearn: 2.1807519\ttest: 2.5038517\tbest: 2.5038055 (358)\ttotal: 48.1s\tremaining: 6m 57s\n",
            "361:\tlearn: 2.1796999\ttest: 2.5031822\tbest: 2.5031822 (361)\ttotal: 48.2s\tremaining: 6m 57s\n",
            "362:\tlearn: 2.1790258\ttest: 2.5028002\tbest: 2.5028002 (362)\ttotal: 48.3s\tremaining: 6m 57s\n",
            "363:\tlearn: 2.1788088\ttest: 2.5029904\tbest: 2.5028002 (362)\ttotal: 48.5s\tremaining: 6m 57s\n",
            "364:\tlearn: 2.1770936\ttest: 2.5019987\tbest: 2.5019987 (364)\ttotal: 48.6s\tremaining: 6m 57s\n",
            "365:\tlearn: 2.1763892\ttest: 2.5013541\tbest: 2.5013541 (365)\ttotal: 48.7s\tremaining: 6m 57s\n",
            "366:\tlearn: 2.1754009\ttest: 2.5006173\tbest: 2.5006173 (366)\ttotal: 48.9s\tremaining: 6m 57s\n",
            "367:\tlearn: 2.1745562\ttest: 2.4998799\tbest: 2.4998799 (367)\ttotal: 49s\tremaining: 6m 56s\n",
            "368:\tlearn: 2.1728138\ttest: 2.4991994\tbest: 2.4991994 (368)\ttotal: 49.1s\tremaining: 6m 56s\n",
            "369:\tlearn: 2.1705611\ttest: 2.4991013\tbest: 2.4991013 (369)\ttotal: 49.3s\tremaining: 6m 56s\n",
            "370:\tlearn: 2.1688937\ttest: 2.4982543\tbest: 2.4982543 (370)\ttotal: 49.4s\tremaining: 6m 56s\n",
            "371:\tlearn: 2.1679502\ttest: 2.4975768\tbest: 2.4975768 (371)\ttotal: 49.5s\tremaining: 6m 56s\n",
            "372:\tlearn: 2.1677663\ttest: 2.4976642\tbest: 2.4975768 (371)\ttotal: 49.7s\tremaining: 6m 56s\n",
            "373:\tlearn: 2.1674853\ttest: 2.4988136\tbest: 2.4975768 (371)\ttotal: 49.8s\tremaining: 6m 56s\n",
            "374:\tlearn: 2.1669572\ttest: 2.4987410\tbest: 2.4975768 (371)\ttotal: 49.9s\tremaining: 6m 56s\n",
            "375:\tlearn: 2.1667036\ttest: 2.4998530\tbest: 2.4975768 (371)\ttotal: 50.1s\tremaining: 6m 55s\n",
            "376:\tlearn: 2.1664584\ttest: 2.4998942\tbest: 2.4975768 (371)\ttotal: 50.2s\tremaining: 6m 55s\n",
            "377:\tlearn: 2.1656434\ttest: 2.4994033\tbest: 2.4975768 (371)\ttotal: 50.3s\tremaining: 6m 55s\n",
            "378:\tlearn: 2.1645682\ttest: 2.4990636\tbest: 2.4975768 (371)\ttotal: 50.5s\tremaining: 6m 55s\n",
            "379:\tlearn: 2.1634561\ttest: 2.4988861\tbest: 2.4975768 (371)\ttotal: 50.6s\tremaining: 6m 55s\n",
            "380:\tlearn: 2.1626834\ttest: 2.4990959\tbest: 2.4975768 (371)\ttotal: 50.7s\tremaining: 6m 55s\n",
            "381:\tlearn: 2.1619137\ttest: 2.4994378\tbest: 2.4975768 (371)\ttotal: 50.9s\tremaining: 6m 55s\n",
            "382:\tlearn: 2.1612423\ttest: 2.4992799\tbest: 2.4975768 (371)\ttotal: 51s\tremaining: 6m 54s\n",
            "383:\tlearn: 2.1599940\ttest: 2.4994153\tbest: 2.4975768 (371)\ttotal: 51.1s\tremaining: 6m 54s\n",
            "384:\tlearn: 2.1597232\ttest: 2.4994686\tbest: 2.4975768 (371)\ttotal: 51.3s\tremaining: 6m 54s\n",
            "385:\tlearn: 2.1588046\ttest: 2.4990633\tbest: 2.4975768 (371)\ttotal: 51.4s\tremaining: 6m 54s\n",
            "386:\tlearn: 2.1584741\ttest: 2.4990247\tbest: 2.4975768 (371)\ttotal: 51.5s\tremaining: 6m 54s\n",
            "387:\tlearn: 2.1582153\ttest: 2.4987543\tbest: 2.4975768 (371)\ttotal: 51.6s\tremaining: 6m 54s\n",
            "388:\tlearn: 2.1569907\ttest: 2.4986475\tbest: 2.4975768 (371)\ttotal: 51.8s\tremaining: 6m 54s\n",
            "389:\tlearn: 2.1567182\ttest: 2.4986977\tbest: 2.4975768 (371)\ttotal: 51.9s\tremaining: 6m 54s\n",
            "390:\tlearn: 2.1560418\ttest: 2.4982303\tbest: 2.4975768 (371)\ttotal: 52.1s\tremaining: 6m 53s\n",
            "391:\tlearn: 2.1558274\ttest: 2.4982486\tbest: 2.4975768 (371)\ttotal: 52.2s\tremaining: 6m 53s\n",
            "392:\tlearn: 2.1546722\ttest: 2.4973011\tbest: 2.4973011 (392)\ttotal: 52.3s\tremaining: 6m 53s\n",
            "393:\tlearn: 2.1535453\ttest: 2.4970599\tbest: 2.4970599 (393)\ttotal: 52.5s\tremaining: 6m 53s\n",
            "394:\tlearn: 2.1529725\ttest: 2.4971363\tbest: 2.4970599 (393)\ttotal: 52.6s\tremaining: 6m 53s\n",
            "395:\tlearn: 2.1525719\ttest: 2.4971525\tbest: 2.4970599 (393)\ttotal: 52.7s\tremaining: 6m 53s\n",
            "396:\tlearn: 2.1523310\ttest: 2.4973574\tbest: 2.4970599 (393)\ttotal: 52.9s\tremaining: 6m 53s\n",
            "397:\tlearn: 2.1518453\ttest: 2.4974718\tbest: 2.4970599 (393)\ttotal: 53s\tremaining: 6m 52s\n",
            "398:\tlearn: 2.1504628\ttest: 2.4962779\tbest: 2.4962779 (398)\ttotal: 53.1s\tremaining: 6m 52s\n",
            "399:\tlearn: 2.1494504\ttest: 2.4953913\tbest: 2.4953913 (399)\ttotal: 53.2s\tremaining: 6m 52s\n",
            "400:\tlearn: 2.1481217\ttest: 2.4945463\tbest: 2.4945463 (400)\ttotal: 53.4s\tremaining: 6m 52s\n",
            "401:\tlearn: 2.1462252\ttest: 2.4932368\tbest: 2.4932368 (401)\ttotal: 53.5s\tremaining: 6m 52s\n",
            "402:\tlearn: 2.1451279\ttest: 2.4928414\tbest: 2.4928414 (402)\ttotal: 53.6s\tremaining: 6m 52s\n",
            "403:\tlearn: 2.1446092\ttest: 2.4924943\tbest: 2.4924943 (403)\ttotal: 53.8s\tremaining: 6m 52s\n",
            "404:\tlearn: 2.1431427\ttest: 2.4924028\tbest: 2.4924028 (404)\ttotal: 53.9s\tremaining: 6m 51s\n",
            "405:\tlearn: 2.1422173\ttest: 2.4921004\tbest: 2.4921004 (405)\ttotal: 54s\tremaining: 6m 51s\n",
            "406:\tlearn: 2.1414377\ttest: 2.4921701\tbest: 2.4921004 (405)\ttotal: 54.2s\tremaining: 6m 51s\n",
            "407:\tlearn: 2.1408054\ttest: 2.4918373\tbest: 2.4918373 (407)\ttotal: 54.3s\tremaining: 6m 51s\n",
            "408:\tlearn: 2.1395732\ttest: 2.4909740\tbest: 2.4909740 (408)\ttotal: 54.4s\tremaining: 6m 51s\n",
            "409:\tlearn: 2.1387970\ttest: 2.4906363\tbest: 2.4906363 (409)\ttotal: 54.6s\tremaining: 6m 51s\n",
            "410:\tlearn: 2.1380717\ttest: 2.4902209\tbest: 2.4902209 (410)\ttotal: 54.7s\tremaining: 6m 51s\n",
            "411:\tlearn: 2.1373942\ttest: 2.4904916\tbest: 2.4902209 (410)\ttotal: 54.8s\tremaining: 6m 50s\n",
            "412:\tlearn: 2.1368108\ttest: 2.4899687\tbest: 2.4899687 (412)\ttotal: 55s\tremaining: 6m 50s\n",
            "413:\tlearn: 2.1358641\ttest: 2.4894444\tbest: 2.4894444 (413)\ttotal: 55.1s\tremaining: 6m 50s\n",
            "414:\tlearn: 2.1347926\ttest: 2.4886202\tbest: 2.4886202 (414)\ttotal: 55.2s\tremaining: 6m 50s\n",
            "415:\tlearn: 2.1343989\ttest: 2.4886296\tbest: 2.4886202 (414)\ttotal: 55.4s\tremaining: 6m 50s\n",
            "416:\tlearn: 2.1336386\ttest: 2.4879699\tbest: 2.4879699 (416)\ttotal: 55.5s\tremaining: 6m 50s\n",
            "417:\tlearn: 2.1324649\ttest: 2.4872646\tbest: 2.4872646 (417)\ttotal: 55.6s\tremaining: 6m 50s\n",
            "418:\tlearn: 2.1323687\ttest: 2.4871933\tbest: 2.4871933 (418)\ttotal: 55.7s\tremaining: 6m 49s\n",
            "419:\tlearn: 2.1317233\ttest: 2.4868098\tbest: 2.4868098 (419)\ttotal: 55.9s\tremaining: 6m 49s\n",
            "420:\tlearn: 2.1316567\ttest: 2.4868717\tbest: 2.4868098 (419)\ttotal: 56s\tremaining: 6m 49s\n",
            "421:\tlearn: 2.1309655\ttest: 2.4863235\tbest: 2.4863235 (421)\ttotal: 56.2s\tremaining: 6m 49s\n",
            "422:\tlearn: 2.1299052\ttest: 2.4851486\tbest: 2.4851486 (422)\ttotal: 56.3s\tremaining: 6m 49s\n",
            "423:\tlearn: 2.1292653\ttest: 2.4854589\tbest: 2.4851486 (422)\ttotal: 56.4s\tremaining: 6m 49s\n",
            "424:\tlearn: 2.1280757\ttest: 2.4844689\tbest: 2.4844689 (424)\ttotal: 56.6s\tremaining: 6m 49s\n",
            "425:\tlearn: 2.1274840\ttest: 2.4841768\tbest: 2.4841768 (425)\ttotal: 56.7s\tremaining: 6m 49s\n",
            "426:\tlearn: 2.1270289\ttest: 2.4838407\tbest: 2.4838407 (426)\ttotal: 56.8s\tremaining: 6m 48s\n",
            "427:\tlearn: 2.1261257\ttest: 2.4835363\tbest: 2.4835363 (427)\ttotal: 57s\tremaining: 6m 48s\n",
            "428:\tlearn: 2.1251458\ttest: 2.4828456\tbest: 2.4828456 (428)\ttotal: 57.1s\tremaining: 6m 48s\n",
            "429:\tlearn: 2.1242061\ttest: 2.4825623\tbest: 2.4825623 (429)\ttotal: 57.2s\tremaining: 6m 48s\n",
            "430:\tlearn: 2.1227757\ttest: 2.4824464\tbest: 2.4824464 (430)\ttotal: 57.3s\tremaining: 6m 48s\n",
            "431:\tlearn: 2.1218312\ttest: 2.4819260\tbest: 2.4819260 (431)\ttotal: 57.5s\tremaining: 6m 48s\n",
            "432:\tlearn: 2.1212975\ttest: 2.4818643\tbest: 2.4818643 (432)\ttotal: 57.6s\tremaining: 6m 48s\n",
            "433:\tlearn: 2.1210006\ttest: 2.4819213\tbest: 2.4818643 (432)\ttotal: 57.7s\tremaining: 6m 47s\n",
            "434:\tlearn: 2.1204589\ttest: 2.4815741\tbest: 2.4815741 (434)\ttotal: 57.9s\tremaining: 6m 47s\n",
            "435:\tlearn: 2.1200720\ttest: 2.4817052\tbest: 2.4815741 (434)\ttotal: 58s\tremaining: 6m 47s\n",
            "436:\tlearn: 2.1198387\ttest: 2.4817039\tbest: 2.4815741 (434)\ttotal: 58.1s\tremaining: 6m 47s\n",
            "437:\tlearn: 2.1194002\ttest: 2.4814146\tbest: 2.4814146 (437)\ttotal: 58.3s\tremaining: 6m 47s\n",
            "438:\tlearn: 2.1188493\ttest: 2.4808827\tbest: 2.4808827 (438)\ttotal: 58.4s\tremaining: 6m 47s\n",
            "439:\tlearn: 2.1179628\ttest: 2.4807196\tbest: 2.4807196 (439)\ttotal: 58.5s\tremaining: 6m 47s\n",
            "440:\tlearn: 2.1169959\ttest: 2.4797404\tbest: 2.4797404 (440)\ttotal: 58.7s\tremaining: 6m 46s\n",
            "441:\tlearn: 2.1163631\ttest: 2.4800441\tbest: 2.4797404 (440)\ttotal: 58.8s\tremaining: 6m 46s\n",
            "442:\tlearn: 2.1157883\ttest: 2.4798728\tbest: 2.4797404 (440)\ttotal: 58.9s\tremaining: 6m 46s\n",
            "443:\tlearn: 2.1151421\ttest: 2.4798220\tbest: 2.4797404 (440)\ttotal: 59.1s\tremaining: 6m 46s\n",
            "444:\tlearn: 2.1143952\ttest: 2.4796876\tbest: 2.4796876 (444)\ttotal: 59.2s\tremaining: 6m 46s\n",
            "445:\tlearn: 2.1134988\ttest: 2.4788412\tbest: 2.4788412 (445)\ttotal: 59.3s\tremaining: 6m 46s\n",
            "446:\tlearn: 2.1129581\ttest: 2.4791157\tbest: 2.4788412 (445)\ttotal: 59.5s\tremaining: 6m 46s\n",
            "447:\tlearn: 2.1113941\ttest: 2.4789526\tbest: 2.4788412 (445)\ttotal: 59.6s\tremaining: 6m 45s\n",
            "448:\tlearn: 2.1105323\ttest: 2.4788327\tbest: 2.4788327 (448)\ttotal: 59.7s\tremaining: 6m 45s\n",
            "449:\tlearn: 2.1101346\ttest: 2.4785994\tbest: 2.4785994 (449)\ttotal: 59.8s\tremaining: 6m 45s\n",
            "450:\tlearn: 2.1093304\ttest: 2.4783478\tbest: 2.4783478 (450)\ttotal: 60s\tremaining: 6m 45s\n",
            "451:\tlearn: 2.1087199\ttest: 2.4791707\tbest: 2.4783478 (450)\ttotal: 1m\tremaining: 6m 45s\n",
            "452:\tlearn: 2.1080679\ttest: 2.4785108\tbest: 2.4783478 (450)\ttotal: 1m\tremaining: 6m 45s\n",
            "453:\tlearn: 2.1074551\ttest: 2.4783214\tbest: 2.4783214 (453)\ttotal: 1m\tremaining: 6m 45s\n",
            "454:\tlearn: 2.1065610\ttest: 2.4772030\tbest: 2.4772030 (454)\ttotal: 1m\tremaining: 6m 44s\n",
            "455:\tlearn: 2.1061766\ttest: 2.4770884\tbest: 2.4770884 (455)\ttotal: 1m\tremaining: 6m 44s\n",
            "456:\tlearn: 2.1055862\ttest: 2.4768809\tbest: 2.4768809 (456)\ttotal: 1m\tremaining: 6m 44s\n",
            "457:\tlearn: 2.1050636\ttest: 2.4766002\tbest: 2.4766002 (457)\ttotal: 1m\tremaining: 6m 44s\n",
            "458:\tlearn: 2.1043896\ttest: 2.4763194\tbest: 2.4763194 (458)\ttotal: 1m 1s\tremaining: 6m 44s\n",
            "459:\tlearn: 2.1038963\ttest: 2.4761099\tbest: 2.4761099 (459)\ttotal: 1m 1s\tremaining: 6m 44s\n",
            "460:\tlearn: 2.1025972\ttest: 2.4754576\tbest: 2.4754576 (460)\ttotal: 1m 1s\tremaining: 6m 44s\n",
            "461:\tlearn: 2.1021527\ttest: 2.4756547\tbest: 2.4754576 (460)\ttotal: 1m 1s\tremaining: 6m 43s\n",
            "462:\tlearn: 2.1017238\ttest: 2.4752743\tbest: 2.4752743 (462)\ttotal: 1m 1s\tremaining: 6m 43s\n",
            "463:\tlearn: 2.1003771\ttest: 2.4749746\tbest: 2.4749746 (463)\ttotal: 1m 1s\tremaining: 6m 43s\n",
            "464:\tlearn: 2.0993327\ttest: 2.4748828\tbest: 2.4748828 (464)\ttotal: 1m 1s\tremaining: 6m 43s\n",
            "465:\tlearn: 2.0985938\ttest: 2.4743659\tbest: 2.4743659 (465)\ttotal: 1m 1s\tremaining: 6m 43s\n",
            "466:\tlearn: 2.0979283\ttest: 2.4739997\tbest: 2.4739997 (466)\ttotal: 1m 2s\tremaining: 6m 43s\n",
            "467:\tlearn: 2.0968549\ttest: 2.4734657\tbest: 2.4734657 (467)\ttotal: 1m 2s\tremaining: 6m 43s\n",
            "468:\tlearn: 2.0959436\ttest: 2.4731101\tbest: 2.4731101 (468)\ttotal: 1m 2s\tremaining: 6m 43s\n",
            "469:\tlearn: 2.0950426\ttest: 2.4728059\tbest: 2.4728059 (469)\ttotal: 1m 2s\tremaining: 6m 42s\n",
            "470:\tlearn: 2.0943290\ttest: 2.4726216\tbest: 2.4726216 (470)\ttotal: 1m 2s\tremaining: 6m 42s\n",
            "471:\tlearn: 2.0931691\ttest: 2.4721228\tbest: 2.4721228 (471)\ttotal: 1m 2s\tremaining: 6m 42s\n",
            "472:\tlearn: 2.0924476\ttest: 2.4718022\tbest: 2.4718022 (472)\ttotal: 1m 2s\tremaining: 6m 42s\n",
            "473:\tlearn: 2.0917671\ttest: 2.4724631\tbest: 2.4718022 (472)\ttotal: 1m 3s\tremaining: 6m 42s\n",
            "474:\tlearn: 2.0909781\ttest: 2.4720550\tbest: 2.4718022 (472)\ttotal: 1m 3s\tremaining: 6m 42s\n",
            "475:\tlearn: 2.0901164\ttest: 2.4724729\tbest: 2.4718022 (472)\ttotal: 1m 3s\tremaining: 6m 42s\n",
            "476:\tlearn: 2.0896470\ttest: 2.4727022\tbest: 2.4718022 (472)\ttotal: 1m 3s\tremaining: 6m 42s\n",
            "477:\tlearn: 2.0888398\ttest: 2.4724371\tbest: 2.4718022 (472)\ttotal: 1m 3s\tremaining: 6m 41s\n",
            "478:\tlearn: 2.0886515\ttest: 2.4726985\tbest: 2.4718022 (472)\ttotal: 1m 3s\tremaining: 6m 41s\n",
            "479:\tlearn: 2.0878405\ttest: 2.4725162\tbest: 2.4718022 (472)\ttotal: 1m 3s\tremaining: 6m 41s\n",
            "480:\tlearn: 2.0868929\ttest: 2.4723380\tbest: 2.4718022 (472)\ttotal: 1m 3s\tremaining: 6m 41s\n",
            "481:\tlearn: 2.0856622\ttest: 2.4723614\tbest: 2.4718022 (472)\ttotal: 1m 4s\tremaining: 6m 41s\n",
            "482:\tlearn: 2.0852189\ttest: 2.4720342\tbest: 2.4718022 (472)\ttotal: 1m 4s\tremaining: 6m 41s\n",
            "483:\tlearn: 2.0850099\ttest: 2.4718230\tbest: 2.4718022 (472)\ttotal: 1m 4s\tremaining: 6m 41s\n",
            "484:\tlearn: 2.0841698\ttest: 2.4712411\tbest: 2.4712411 (484)\ttotal: 1m 4s\tremaining: 6m 41s\n",
            "485:\tlearn: 2.0834175\ttest: 2.4721944\tbest: 2.4712411 (484)\ttotal: 1m 4s\tremaining: 6m 40s\n",
            "486:\tlearn: 2.0824459\ttest: 2.4720797\tbest: 2.4712411 (484)\ttotal: 1m 4s\tremaining: 6m 40s\n",
            "487:\tlearn: 2.0822922\ttest: 2.4722100\tbest: 2.4712411 (484)\ttotal: 1m 4s\tremaining: 6m 40s\n",
            "488:\tlearn: 2.0815218\ttest: 2.4720413\tbest: 2.4712411 (484)\ttotal: 1m 5s\tremaining: 6m 40s\n",
            "489:\tlearn: 2.0804526\ttest: 2.4709897\tbest: 2.4709897 (489)\ttotal: 1m 5s\tremaining: 6m 40s\n",
            "490:\tlearn: 2.0795619\ttest: 2.4705911\tbest: 2.4705911 (490)\ttotal: 1m 5s\tremaining: 6m 40s\n",
            "491:\tlearn: 2.0781151\ttest: 2.4702289\tbest: 2.4702289 (491)\ttotal: 1m 5s\tremaining: 6m 40s\n",
            "492:\tlearn: 2.0776359\ttest: 2.4701077\tbest: 2.4701077 (492)\ttotal: 1m 5s\tremaining: 6m 39s\n",
            "493:\tlearn: 2.0767253\ttest: 2.4698245\tbest: 2.4698245 (493)\ttotal: 1m 5s\tremaining: 6m 39s\n",
            "494:\tlearn: 2.0755097\ttest: 2.4697933\tbest: 2.4697933 (494)\ttotal: 1m 5s\tremaining: 6m 39s\n",
            "495:\tlearn: 2.0749914\ttest: 2.4694477\tbest: 2.4694477 (495)\ttotal: 1m 5s\tremaining: 6m 39s\n",
            "496:\tlearn: 2.0742149\ttest: 2.4691093\tbest: 2.4691093 (496)\ttotal: 1m 6s\tremaining: 6m 39s\n",
            "497:\tlearn: 2.0725168\ttest: 2.4685460\tbest: 2.4685460 (497)\ttotal: 1m 6s\tremaining: 6m 39s\n",
            "498:\tlearn: 2.0720098\ttest: 2.4685083\tbest: 2.4685083 (498)\ttotal: 1m 6s\tremaining: 6m 39s\n",
            "499:\tlearn: 2.0706856\ttest: 2.4683360\tbest: 2.4683360 (499)\ttotal: 1m 6s\tremaining: 6m 38s\n",
            "500:\tlearn: 2.0700820\ttest: 2.4688081\tbest: 2.4683360 (499)\ttotal: 1m 6s\tremaining: 6m 38s\n",
            "501:\tlearn: 2.0684252\ttest: 2.4682233\tbest: 2.4682233 (501)\ttotal: 1m 6s\tremaining: 6m 38s\n",
            "502:\tlearn: 2.0674530\ttest: 2.4675058\tbest: 2.4675058 (502)\ttotal: 1m 6s\tremaining: 6m 38s\n",
            "503:\tlearn: 2.0667072\ttest: 2.4670728\tbest: 2.4670728 (503)\ttotal: 1m 7s\tremaining: 6m 38s\n",
            "504:\tlearn: 2.0660294\ttest: 2.4666001\tbest: 2.4666001 (504)\ttotal: 1m 7s\tremaining: 6m 38s\n",
            "505:\tlearn: 2.0657076\ttest: 2.4669860\tbest: 2.4666001 (504)\ttotal: 1m 7s\tremaining: 6m 38s\n",
            "506:\tlearn: 2.0648761\ttest: 2.4664527\tbest: 2.4664527 (506)\ttotal: 1m 7s\tremaining: 6m 38s\n",
            "507:\tlearn: 2.0645932\ttest: 2.4661529\tbest: 2.4661529 (507)\ttotal: 1m 7s\tremaining: 6m 37s\n",
            "508:\tlearn: 2.0637546\ttest: 2.4658031\tbest: 2.4658031 (508)\ttotal: 1m 7s\tremaining: 6m 37s\n",
            "509:\tlearn: 2.0629010\ttest: 2.4648854\tbest: 2.4648854 (509)\ttotal: 1m 7s\tremaining: 6m 37s\n",
            "510:\tlearn: 2.0623559\ttest: 2.4645733\tbest: 2.4645733 (510)\ttotal: 1m 7s\tremaining: 6m 37s\n",
            "511:\tlearn: 2.0613989\ttest: 2.4645499\tbest: 2.4645499 (511)\ttotal: 1m 8s\tremaining: 6m 37s\n",
            "512:\tlearn: 2.0606493\ttest: 2.4640686\tbest: 2.4640686 (512)\ttotal: 1m 8s\tremaining: 6m 37s\n",
            "513:\tlearn: 2.0600190\ttest: 2.4639640\tbest: 2.4639640 (513)\ttotal: 1m 8s\tremaining: 6m 37s\n",
            "514:\tlearn: 2.0595859\ttest: 2.4636920\tbest: 2.4636920 (514)\ttotal: 1m 8s\tremaining: 6m 36s\n",
            "515:\tlearn: 2.0584625\ttest: 2.4636275\tbest: 2.4636275 (515)\ttotal: 1m 8s\tremaining: 6m 36s\n",
            "516:\tlearn: 2.0583478\ttest: 2.4637463\tbest: 2.4636275 (515)\ttotal: 1m 8s\tremaining: 6m 36s\n",
            "517:\tlearn: 2.0581998\ttest: 2.4638144\tbest: 2.4636275 (515)\ttotal: 1m 8s\tremaining: 6m 36s\n",
            "518:\tlearn: 2.0576509\ttest: 2.4637065\tbest: 2.4636275 (515)\ttotal: 1m 9s\tremaining: 6m 36s\n",
            "519:\tlearn: 2.0565344\ttest: 2.4634731\tbest: 2.4634731 (519)\ttotal: 1m 9s\tremaining: 6m 36s\n",
            "520:\tlearn: 2.0555364\ttest: 2.4628875\tbest: 2.4628875 (520)\ttotal: 1m 9s\tremaining: 6m 36s\n",
            "521:\tlearn: 2.0553998\ttest: 2.4629575\tbest: 2.4628875 (520)\ttotal: 1m 9s\tremaining: 6m 35s\n",
            "522:\tlearn: 2.0549064\ttest: 2.4639748\tbest: 2.4628875 (520)\ttotal: 1m 9s\tremaining: 6m 35s\n",
            "523:\tlearn: 2.0539735\ttest: 2.4633683\tbest: 2.4628875 (520)\ttotal: 1m 9s\tremaining: 6m 35s\n",
            "524:\tlearn: 2.0530683\ttest: 2.4634646\tbest: 2.4628875 (520)\ttotal: 1m 9s\tremaining: 6m 35s\n",
            "525:\tlearn: 2.0525502\ttest: 2.4631974\tbest: 2.4628875 (520)\ttotal: 1m 9s\tremaining: 6m 35s\n",
            "526:\tlearn: 2.0520144\ttest: 2.4629256\tbest: 2.4628875 (520)\ttotal: 1m 10s\tremaining: 6m 35s\n",
            "527:\tlearn: 2.0512025\ttest: 2.4623827\tbest: 2.4623827 (527)\ttotal: 1m 10s\tremaining: 6m 35s\n",
            "528:\tlearn: 2.0500393\ttest: 2.4619615\tbest: 2.4619615 (528)\ttotal: 1m 10s\tremaining: 6m 34s\n",
            "529:\tlearn: 2.0492855\ttest: 2.4620060\tbest: 2.4619615 (528)\ttotal: 1m 10s\tremaining: 6m 34s\n",
            "530:\tlearn: 2.0486490\ttest: 2.4614414\tbest: 2.4614414 (530)\ttotal: 1m 10s\tremaining: 6m 34s\n",
            "531:\tlearn: 2.0480642\ttest: 2.4613903\tbest: 2.4613903 (531)\ttotal: 1m 10s\tremaining: 6m 34s\n",
            "532:\tlearn: 2.0472853\ttest: 2.4609529\tbest: 2.4609529 (532)\ttotal: 1m 10s\tremaining: 6m 34s\n",
            "533:\tlearn: 2.0463231\ttest: 2.4605933\tbest: 2.4605933 (533)\ttotal: 1m 10s\tremaining: 6m 34s\n",
            "534:\tlearn: 2.0455838\ttest: 2.4607573\tbest: 2.4605933 (533)\ttotal: 1m 11s\tremaining: 6m 34s\n",
            "535:\tlearn: 2.0449152\ttest: 2.4606627\tbest: 2.4605933 (533)\ttotal: 1m 11s\tremaining: 6m 33s\n",
            "536:\tlearn: 2.0435984\ttest: 2.4600778\tbest: 2.4600778 (536)\ttotal: 1m 11s\tremaining: 6m 33s\n",
            "537:\tlearn: 2.0421338\ttest: 2.4598671\tbest: 2.4598671 (537)\ttotal: 1m 11s\tremaining: 6m 33s\n",
            "538:\tlearn: 2.0412530\ttest: 2.4600631\tbest: 2.4598671 (537)\ttotal: 1m 11s\tremaining: 6m 33s\n",
            "539:\tlearn: 2.0405396\ttest: 2.4597564\tbest: 2.4597564 (539)\ttotal: 1m 11s\tremaining: 6m 33s\n",
            "540:\tlearn: 2.0399979\ttest: 2.4593660\tbest: 2.4593660 (540)\ttotal: 1m 11s\tremaining: 6m 33s\n",
            "541:\tlearn: 2.0397145\ttest: 2.4591378\tbest: 2.4591378 (541)\ttotal: 1m 12s\tremaining: 6m 33s\n",
            "542:\tlearn: 2.0388841\ttest: 2.4587209\tbest: 2.4587209 (542)\ttotal: 1m 12s\tremaining: 6m 33s\n",
            "543:\tlearn: 2.0380715\ttest: 2.4586044\tbest: 2.4586044 (543)\ttotal: 1m 12s\tremaining: 6m 32s\n",
            "544:\tlearn: 2.0373247\ttest: 2.4582834\tbest: 2.4582834 (544)\ttotal: 1m 12s\tremaining: 6m 32s\n",
            "545:\tlearn: 2.0366584\ttest: 2.4578290\tbest: 2.4578290 (545)\ttotal: 1m 12s\tremaining: 6m 32s\n",
            "546:\tlearn: 2.0361628\ttest: 2.4579745\tbest: 2.4578290 (545)\ttotal: 1m 12s\tremaining: 6m 32s\n",
            "547:\tlearn: 2.0354966\ttest: 2.4573924\tbest: 2.4573924 (547)\ttotal: 1m 12s\tremaining: 6m 32s\n",
            "548:\tlearn: 2.0350063\ttest: 2.4573390\tbest: 2.4573390 (548)\ttotal: 1m 12s\tremaining: 6m 32s\n",
            "549:\tlearn: 2.0344412\ttest: 2.4572209\tbest: 2.4572209 (549)\ttotal: 1m 13s\tremaining: 6m 32s\n",
            "550:\tlearn: 2.0331348\ttest: 2.4569790\tbest: 2.4569790 (550)\ttotal: 1m 13s\tremaining: 6m 31s\n",
            "551:\tlearn: 2.0326371\ttest: 2.4566799\tbest: 2.4566799 (551)\ttotal: 1m 13s\tremaining: 6m 31s\n",
            "552:\tlearn: 2.0319818\ttest: 2.4561163\tbest: 2.4561163 (552)\ttotal: 1m 13s\tremaining: 6m 31s\n",
            "553:\tlearn: 2.0307026\ttest: 2.4556358\tbest: 2.4556358 (553)\ttotal: 1m 13s\tremaining: 6m 31s\n",
            "554:\tlearn: 2.0294996\ttest: 2.4555856\tbest: 2.4555856 (554)\ttotal: 1m 13s\tremaining: 6m 31s\n",
            "555:\tlearn: 2.0292157\ttest: 2.4556789\tbest: 2.4555856 (554)\ttotal: 1m 13s\tremaining: 6m 31s\n",
            "556:\tlearn: 2.0277398\ttest: 2.4558724\tbest: 2.4555856 (554)\ttotal: 1m 14s\tremaining: 6m 31s\n",
            "557:\tlearn: 2.0270989\ttest: 2.4556296\tbest: 2.4555856 (554)\ttotal: 1m 14s\tremaining: 6m 31s\n",
            "558:\tlearn: 2.0265670\ttest: 2.4556408\tbest: 2.4555856 (554)\ttotal: 1m 14s\tremaining: 6m 30s\n",
            "559:\tlearn: 2.0259561\ttest: 2.4552447\tbest: 2.4552447 (559)\ttotal: 1m 14s\tremaining: 6m 30s\n",
            "560:\tlearn: 2.0253634\ttest: 2.4554919\tbest: 2.4552447 (559)\ttotal: 1m 14s\tremaining: 6m 30s\n",
            "561:\tlearn: 2.0246740\ttest: 2.4548066\tbest: 2.4548066 (561)\ttotal: 1m 14s\tremaining: 6m 30s\n",
            "562:\tlearn: 2.0244615\ttest: 2.4546561\tbest: 2.4546561 (562)\ttotal: 1m 14s\tremaining: 6m 30s\n",
            "563:\tlearn: 2.0238061\ttest: 2.4543529\tbest: 2.4543529 (563)\ttotal: 1m 14s\tremaining: 6m 30s\n",
            "564:\tlearn: 2.0231033\ttest: 2.4544227\tbest: 2.4543529 (563)\ttotal: 1m 15s\tremaining: 6m 30s\n",
            "565:\tlearn: 2.0224726\ttest: 2.4542437\tbest: 2.4542437 (565)\ttotal: 1m 15s\tremaining: 6m 30s\n",
            "566:\tlearn: 2.0220000\ttest: 2.4541233\tbest: 2.4541233 (566)\ttotal: 1m 15s\tremaining: 6m 29s\n",
            "567:\tlearn: 2.0217628\ttest: 2.4539500\tbest: 2.4539500 (567)\ttotal: 1m 15s\tremaining: 6m 29s\n",
            "568:\tlearn: 2.0210132\ttest: 2.4537223\tbest: 2.4537223 (568)\ttotal: 1m 15s\tremaining: 6m 29s\n",
            "569:\tlearn: 2.0203593\ttest: 2.4531937\tbest: 2.4531937 (569)\ttotal: 1m 15s\tremaining: 6m 29s\n",
            "570:\tlearn: 2.0194307\ttest: 2.4532431\tbest: 2.4531937 (569)\ttotal: 1m 15s\tremaining: 6m 29s\n",
            "571:\tlearn: 2.0191349\ttest: 2.4529184\tbest: 2.4529184 (571)\ttotal: 1m 16s\tremaining: 6m 29s\n",
            "572:\tlearn: 2.0188982\ttest: 2.4534443\tbest: 2.4529184 (571)\ttotal: 1m 16s\tremaining: 6m 29s\n",
            "573:\tlearn: 2.0184590\ttest: 2.4530769\tbest: 2.4529184 (571)\ttotal: 1m 16s\tremaining: 6m 28s\n",
            "574:\tlearn: 2.0174245\ttest: 2.4525196\tbest: 2.4525196 (574)\ttotal: 1m 16s\tremaining: 6m 28s\n",
            "575:\tlearn: 2.0160596\ttest: 2.4517500\tbest: 2.4517500 (575)\ttotal: 1m 16s\tremaining: 6m 28s\n",
            "576:\tlearn: 2.0159460\ttest: 2.4518600\tbest: 2.4517500 (575)\ttotal: 1m 16s\tremaining: 6m 28s\n",
            "577:\tlearn: 2.0156669\ttest: 2.4518995\tbest: 2.4517500 (575)\ttotal: 1m 16s\tremaining: 6m 28s\n",
            "578:\tlearn: 2.0145535\ttest: 2.4511843\tbest: 2.4511843 (578)\ttotal: 1m 16s\tremaining: 6m 28s\n",
            "579:\tlearn: 2.0140329\ttest: 2.4521465\tbest: 2.4511843 (578)\ttotal: 1m 17s\tremaining: 6m 28s\n",
            "580:\tlearn: 2.0139474\ttest: 2.4522627\tbest: 2.4511843 (578)\ttotal: 1m 17s\tremaining: 6m 28s\n",
            "581:\tlearn: 2.0133489\ttest: 2.4519294\tbest: 2.4511843 (578)\ttotal: 1m 17s\tremaining: 6m 27s\n",
            "582:\tlearn: 2.0128686\ttest: 2.4516525\tbest: 2.4511843 (578)\ttotal: 1m 17s\tremaining: 6m 27s\n",
            "583:\tlearn: 2.0123431\ttest: 2.4516277\tbest: 2.4511843 (578)\ttotal: 1m 17s\tremaining: 6m 27s\n",
            "584:\tlearn: 2.0111910\ttest: 2.4509881\tbest: 2.4509881 (584)\ttotal: 1m 17s\tremaining: 6m 27s\n",
            "585:\tlearn: 2.0100123\ttest: 2.4498144\tbest: 2.4498144 (585)\ttotal: 1m 17s\tremaining: 6m 27s\n",
            "586:\tlearn: 2.0093308\ttest: 2.4494677\tbest: 2.4494677 (586)\ttotal: 1m 18s\tremaining: 6m 27s\n",
            "587:\tlearn: 2.0087901\ttest: 2.4500657\tbest: 2.4494677 (586)\ttotal: 1m 18s\tremaining: 6m 27s\n",
            "588:\tlearn: 2.0083529\ttest: 2.4500193\tbest: 2.4494677 (586)\ttotal: 1m 18s\tremaining: 6m 27s\n",
            "589:\tlearn: 2.0080983\ttest: 2.4501679\tbest: 2.4494677 (586)\ttotal: 1m 18s\tremaining: 6m 26s\n",
            "590:\tlearn: 2.0076161\ttest: 2.4504556\tbest: 2.4494677 (586)\ttotal: 1m 18s\tremaining: 6m 26s\n",
            "591:\tlearn: 2.0066656\ttest: 2.4500139\tbest: 2.4494677 (586)\ttotal: 1m 18s\tremaining: 6m 26s\n",
            "592:\tlearn: 2.0065651\ttest: 2.4501199\tbest: 2.4494677 (586)\ttotal: 1m 18s\tremaining: 6m 26s\n",
            "593:\tlearn: 2.0059291\ttest: 2.4500541\tbest: 2.4494677 (586)\ttotal: 1m 18s\tremaining: 6m 26s\n",
            "594:\tlearn: 2.0054549\ttest: 2.4497686\tbest: 2.4494677 (586)\ttotal: 1m 19s\tremaining: 6m 26s\n",
            "595:\tlearn: 2.0050722\ttest: 2.4497674\tbest: 2.4494677 (586)\ttotal: 1m 19s\tremaining: 6m 26s\n",
            "596:\tlearn: 2.0045589\ttest: 2.4501685\tbest: 2.4494677 (586)\ttotal: 1m 19s\tremaining: 6m 26s\n",
            "597:\tlearn: 2.0040871\ttest: 2.4505698\tbest: 2.4494677 (586)\ttotal: 1m 19s\tremaining: 6m 25s\n",
            "598:\tlearn: 2.0037371\ttest: 2.4504898\tbest: 2.4494677 (586)\ttotal: 1m 19s\tremaining: 6m 25s\n",
            "599:\tlearn: 2.0032021\ttest: 2.4507009\tbest: 2.4494677 (586)\ttotal: 1m 19s\tremaining: 6m 25s\n",
            "600:\tlearn: 2.0028089\ttest: 2.4508784\tbest: 2.4494677 (586)\ttotal: 1m 19s\tremaining: 6m 25s\n",
            "601:\tlearn: 2.0022712\ttest: 2.4509181\tbest: 2.4494677 (586)\ttotal: 1m 20s\tremaining: 6m 25s\n",
            "602:\tlearn: 2.0018631\ttest: 2.4507673\tbest: 2.4494677 (586)\ttotal: 1m 20s\tremaining: 6m 25s\n",
            "603:\tlearn: 2.0016186\ttest: 2.4507799\tbest: 2.4494677 (586)\ttotal: 1m 20s\tremaining: 6m 25s\n",
            "604:\tlearn: 2.0005465\ttest: 2.4506265\tbest: 2.4494677 (586)\ttotal: 1m 20s\tremaining: 6m 25s\n",
            "605:\tlearn: 2.0004160\ttest: 2.4507608\tbest: 2.4494677 (586)\ttotal: 1m 20s\tremaining: 6m 24s\n",
            "606:\tlearn: 1.9997387\ttest: 2.4503503\tbest: 2.4494677 (586)\ttotal: 1m 20s\tremaining: 6m 24s\n",
            "607:\tlearn: 1.9987156\ttest: 2.4505673\tbest: 2.4494677 (586)\ttotal: 1m 20s\tremaining: 6m 24s\n",
            "608:\tlearn: 1.9985444\ttest: 2.4514083\tbest: 2.4494677 (586)\ttotal: 1m 20s\tremaining: 6m 24s\n",
            "609:\tlearn: 1.9978515\ttest: 2.4509459\tbest: 2.4494677 (586)\ttotal: 1m 21s\tremaining: 6m 24s\n",
            "610:\tlearn: 1.9971686\ttest: 2.4503912\tbest: 2.4494677 (586)\ttotal: 1m 21s\tremaining: 6m 24s\n",
            "611:\tlearn: 1.9960817\ttest: 2.4500767\tbest: 2.4494677 (586)\ttotal: 1m 21s\tremaining: 6m 24s\n",
            "612:\tlearn: 1.9958221\ttest: 2.4500917\tbest: 2.4494677 (586)\ttotal: 1m 21s\tremaining: 6m 24s\n",
            "613:\tlearn: 1.9952735\ttest: 2.4499520\tbest: 2.4494677 (586)\ttotal: 1m 21s\tremaining: 6m 23s\n",
            "614:\tlearn: 1.9949848\ttest: 2.4496965\tbest: 2.4494677 (586)\ttotal: 1m 21s\tremaining: 6m 23s\n",
            "615:\tlearn: 1.9942812\ttest: 2.4493355\tbest: 2.4493355 (615)\ttotal: 1m 21s\tremaining: 6m 23s\n",
            "616:\tlearn: 1.9939388\ttest: 2.4491981\tbest: 2.4491981 (616)\ttotal: 1m 22s\tremaining: 6m 23s\n",
            "617:\tlearn: 1.9930077\ttest: 2.4491498\tbest: 2.4491498 (617)\ttotal: 1m 22s\tremaining: 6m 23s\n",
            "618:\tlearn: 1.9917611\ttest: 2.4486520\tbest: 2.4486520 (618)\ttotal: 1m 22s\tremaining: 6m 23s\n",
            "619:\tlearn: 1.9911063\ttest: 2.4481559\tbest: 2.4481559 (619)\ttotal: 1m 22s\tremaining: 6m 23s\n",
            "620:\tlearn: 1.9904787\ttest: 2.4476568\tbest: 2.4476568 (620)\ttotal: 1m 22s\tremaining: 6m 23s\n",
            "621:\tlearn: 1.9899395\ttest: 2.4474830\tbest: 2.4474830 (621)\ttotal: 1m 22s\tremaining: 6m 22s\n",
            "622:\tlearn: 1.9897728\ttest: 2.4475702\tbest: 2.4474830 (621)\ttotal: 1m 22s\tremaining: 6m 22s\n",
            "623:\tlearn: 1.9896191\ttest: 2.4476564\tbest: 2.4474830 (621)\ttotal: 1m 23s\tremaining: 6m 22s\n",
            "624:\tlearn: 1.9894539\ttest: 2.4476964\tbest: 2.4474830 (621)\ttotal: 1m 23s\tremaining: 6m 22s\n",
            "625:\tlearn: 1.9889728\ttest: 2.4477343\tbest: 2.4474830 (621)\ttotal: 1m 23s\tremaining: 6m 22s\n",
            "626:\tlearn: 1.9884798\ttest: 2.4475386\tbest: 2.4474830 (621)\ttotal: 1m 23s\tremaining: 6m 22s\n",
            "627:\tlearn: 1.9878553\ttest: 2.4474570\tbest: 2.4474570 (627)\ttotal: 1m 23s\tremaining: 6m 22s\n",
            "628:\tlearn: 1.9867057\ttest: 2.4471806\tbest: 2.4471806 (628)\ttotal: 1m 23s\tremaining: 6m 21s\n",
            "629:\tlearn: 1.9861138\ttest: 2.4467426\tbest: 2.4467426 (629)\ttotal: 1m 23s\tremaining: 6m 21s\n",
            "630:\tlearn: 1.9855842\ttest: 2.4466678\tbest: 2.4466678 (630)\ttotal: 1m 23s\tremaining: 6m 21s\n",
            "631:\tlearn: 1.9851146\ttest: 2.4466812\tbest: 2.4466678 (630)\ttotal: 1m 24s\tremaining: 6m 21s\n",
            "632:\tlearn: 1.9836506\ttest: 2.4461016\tbest: 2.4461016 (632)\ttotal: 1m 24s\tremaining: 6m 21s\n",
            "633:\tlearn: 1.9831262\ttest: 2.4459622\tbest: 2.4459622 (633)\ttotal: 1m 24s\tremaining: 6m 21s\n",
            "634:\tlearn: 1.9820680\ttest: 2.4454913\tbest: 2.4454913 (634)\ttotal: 1m 24s\tremaining: 6m 21s\n",
            "635:\tlearn: 1.9815364\ttest: 2.4449784\tbest: 2.4449784 (635)\ttotal: 1m 24s\tremaining: 6m 21s\n",
            "636:\tlearn: 1.9811421\ttest: 2.4450868\tbest: 2.4449784 (635)\ttotal: 1m 24s\tremaining: 6m 21s\n",
            "637:\tlearn: 1.9806106\ttest: 2.4448602\tbest: 2.4448602 (637)\ttotal: 1m 24s\tremaining: 6m 20s\n",
            "638:\tlearn: 1.9794898\ttest: 2.4447372\tbest: 2.4447372 (638)\ttotal: 1m 25s\tremaining: 6m 20s\n",
            "639:\tlearn: 1.9787641\ttest: 2.4440366\tbest: 2.4440366 (639)\ttotal: 1m 25s\tremaining: 6m 20s\n",
            "640:\tlearn: 1.9783337\ttest: 2.4438803\tbest: 2.4438803 (640)\ttotal: 1m 25s\tremaining: 6m 20s\n",
            "641:\tlearn: 1.9777898\ttest: 2.4434193\tbest: 2.4434193 (641)\ttotal: 1m 25s\tremaining: 6m 20s\n",
            "642:\tlearn: 1.9771355\ttest: 2.4435346\tbest: 2.4434193 (641)\ttotal: 1m 25s\tremaining: 6m 20s\n",
            "643:\tlearn: 1.9767242\ttest: 2.4433969\tbest: 2.4433969 (643)\ttotal: 1m 25s\tremaining: 6m 20s\n",
            "644:\tlearn: 1.9763352\ttest: 2.4433768\tbest: 2.4433768 (644)\ttotal: 1m 25s\tremaining: 6m 20s\n",
            "645:\tlearn: 1.9754479\ttest: 2.4430631\tbest: 2.4430631 (645)\ttotal: 1m 25s\tremaining: 6m 19s\n",
            "646:\tlearn: 1.9754226\ttest: 2.4430473\tbest: 2.4430473 (646)\ttotal: 1m 26s\tremaining: 6m 19s\n",
            "647:\tlearn: 1.9744725\ttest: 2.4425413\tbest: 2.4425413 (647)\ttotal: 1m 26s\tremaining: 6m 19s\n",
            "648:\tlearn: 1.9742624\ttest: 2.4425591\tbest: 2.4425413 (647)\ttotal: 1m 26s\tremaining: 6m 19s\n",
            "649:\tlearn: 1.9742186\ttest: 2.4425360\tbest: 2.4425360 (649)\ttotal: 1m 26s\tremaining: 6m 19s\n",
            "650:\tlearn: 1.9737270\ttest: 2.4422859\tbest: 2.4422859 (650)\ttotal: 1m 26s\tremaining: 6m 18s\n",
            "651:\tlearn: 1.9732954\ttest: 2.4421387\tbest: 2.4421387 (651)\ttotal: 1m 26s\tremaining: 6m 18s\n",
            "652:\tlearn: 1.9728687\ttest: 2.4418806\tbest: 2.4418806 (652)\ttotal: 1m 26s\tremaining: 6m 18s\n",
            "653:\tlearn: 1.9728478\ttest: 2.4418629\tbest: 2.4418629 (653)\ttotal: 1m 26s\tremaining: 6m 18s\n",
            "654:\tlearn: 1.9721393\ttest: 2.4424454\tbest: 2.4418629 (653)\ttotal: 1m 27s\tremaining: 6m 18s\n",
            "655:\tlearn: 1.9716973\ttest: 2.4422721\tbest: 2.4418629 (653)\ttotal: 1m 27s\tremaining: 6m 17s\n",
            "656:\tlearn: 1.9715944\ttest: 2.4422353\tbest: 2.4418629 (653)\ttotal: 1m 27s\tremaining: 6m 17s\n",
            "657:\tlearn: 1.9708291\ttest: 2.4417873\tbest: 2.4417873 (657)\ttotal: 1m 27s\tremaining: 6m 17s\n",
            "658:\tlearn: 1.9695642\ttest: 2.4412067\tbest: 2.4412067 (658)\ttotal: 1m 27s\tremaining: 6m 17s\n",
            "659:\tlearn: 1.9692185\ttest: 2.4409352\tbest: 2.4409352 (659)\ttotal: 1m 27s\tremaining: 6m 17s\n",
            "660:\tlearn: 1.9680518\ttest: 2.4403346\tbest: 2.4403346 (660)\ttotal: 1m 27s\tremaining: 6m 17s\n",
            "661:\tlearn: 1.9677025\ttest: 2.4402872\tbest: 2.4402872 (661)\ttotal: 1m 27s\tremaining: 6m 17s\n",
            "662:\tlearn: 1.9673745\ttest: 2.4401282\tbest: 2.4401282 (662)\ttotal: 1m 28s\tremaining: 6m 17s\n",
            "663:\tlearn: 1.9665932\ttest: 2.4398673\tbest: 2.4398673 (663)\ttotal: 1m 28s\tremaining: 6m 16s\n",
            "664:\tlearn: 1.9659875\ttest: 2.4394372\tbest: 2.4394372 (664)\ttotal: 1m 28s\tremaining: 6m 16s\n",
            "665:\tlearn: 1.9654262\ttest: 2.4393737\tbest: 2.4393737 (665)\ttotal: 1m 28s\tremaining: 6m 16s\n",
            "666:\tlearn: 1.9647477\ttest: 2.4393614\tbest: 2.4393614 (666)\ttotal: 1m 28s\tremaining: 6m 16s\n",
            "667:\tlearn: 1.9639132\ttest: 2.4390988\tbest: 2.4390988 (667)\ttotal: 1m 28s\tremaining: 6m 16s\n",
            "668:\tlearn: 1.9629994\ttest: 2.4387899\tbest: 2.4387899 (668)\ttotal: 1m 28s\tremaining: 6m 16s\n",
            "669:\tlearn: 1.9624037\ttest: 2.4387567\tbest: 2.4387567 (669)\ttotal: 1m 29s\tremaining: 6m 16s\n",
            "670:\tlearn: 1.9615926\ttest: 2.4388212\tbest: 2.4387567 (669)\ttotal: 1m 29s\tremaining: 6m 16s\n",
            "671:\tlearn: 1.9608536\ttest: 2.4382979\tbest: 2.4382979 (671)\ttotal: 1m 29s\tremaining: 6m 15s\n",
            "672:\tlearn: 1.9600387\ttest: 2.4379161\tbest: 2.4379161 (672)\ttotal: 1m 29s\tremaining: 6m 15s\n",
            "673:\tlearn: 1.9593152\ttest: 2.4377249\tbest: 2.4377249 (673)\ttotal: 1m 29s\tremaining: 6m 15s\n",
            "674:\tlearn: 1.9586711\ttest: 2.4373691\tbest: 2.4373691 (674)\ttotal: 1m 29s\tremaining: 6m 15s\n",
            "675:\tlearn: 1.9578195\ttest: 2.4371519\tbest: 2.4371519 (675)\ttotal: 1m 29s\tremaining: 6m 15s\n",
            "676:\tlearn: 1.9576916\ttest: 2.4372223\tbest: 2.4371519 (675)\ttotal: 1m 29s\tremaining: 6m 15s\n",
            "677:\tlearn: 1.9574496\ttest: 2.4373078\tbest: 2.4371519 (675)\ttotal: 1m 30s\tremaining: 6m 15s\n",
            "678:\tlearn: 1.9567416\ttest: 2.4367170\tbest: 2.4367170 (678)\ttotal: 1m 30s\tremaining: 6m 14s\n",
            "679:\tlearn: 1.9563399\ttest: 2.4364836\tbest: 2.4364836 (679)\ttotal: 1m 30s\tremaining: 6m 14s\n",
            "680:\tlearn: 1.9558589\ttest: 2.4363692\tbest: 2.4363692 (680)\ttotal: 1m 30s\tremaining: 6m 14s\n",
            "681:\tlearn: 1.9551559\ttest: 2.4361909\tbest: 2.4361909 (681)\ttotal: 1m 30s\tremaining: 6m 14s\n",
            "682:\tlearn: 1.9546400\ttest: 2.4362679\tbest: 2.4361909 (681)\ttotal: 1m 30s\tremaining: 6m 14s\n",
            "683:\tlearn: 1.9541977\ttest: 2.4365318\tbest: 2.4361909 (681)\ttotal: 1m 30s\tremaining: 6m 14s\n",
            "684:\tlearn: 1.9534484\ttest: 2.4363549\tbest: 2.4361909 (681)\ttotal: 1m 31s\tremaining: 6m 14s\n",
            "685:\tlearn: 1.9529742\ttest: 2.4364194\tbest: 2.4361909 (681)\ttotal: 1m 31s\tremaining: 6m 14s\n",
            "686:\tlearn: 1.9526726\ttest: 2.4361863\tbest: 2.4361863 (686)\ttotal: 1m 31s\tremaining: 6m 13s\n",
            "687:\tlearn: 1.9518607\ttest: 2.4361627\tbest: 2.4361627 (687)\ttotal: 1m 31s\tremaining: 6m 13s\n",
            "688:\tlearn: 1.9516095\ttest: 2.4360345\tbest: 2.4360345 (688)\ttotal: 1m 31s\tremaining: 6m 13s\n",
            "689:\tlearn: 1.9511844\ttest: 2.4357507\tbest: 2.4357507 (689)\ttotal: 1m 31s\tremaining: 6m 13s\n",
            "690:\tlearn: 1.9504995\ttest: 2.4356309\tbest: 2.4356309 (690)\ttotal: 1m 31s\tremaining: 6m 13s\n",
            "691:\tlearn: 1.9499244\ttest: 2.4351128\tbest: 2.4351128 (691)\ttotal: 1m 32s\tremaining: 6m 13s\n",
            "692:\tlearn: 1.9484986\ttest: 2.4350432\tbest: 2.4350432 (692)\ttotal: 1m 32s\tremaining: 6m 13s\n",
            "693:\tlearn: 1.9475053\ttest: 2.4348054\tbest: 2.4348054 (693)\ttotal: 1m 32s\tremaining: 6m 13s\n",
            "694:\tlearn: 1.9470199\ttest: 2.4347446\tbest: 2.4347446 (694)\ttotal: 1m 32s\tremaining: 6m 13s\n",
            "695:\tlearn: 1.9467256\ttest: 2.4345221\tbest: 2.4345221 (695)\ttotal: 1m 32s\tremaining: 6m 13s\n",
            "696:\tlearn: 1.9463107\ttest: 2.4343074\tbest: 2.4343074 (696)\ttotal: 1m 32s\tremaining: 6m 12s\n",
            "697:\tlearn: 1.9456385\ttest: 2.4339617\tbest: 2.4339617 (697)\ttotal: 1m 32s\tremaining: 6m 12s\n",
            "698:\tlearn: 1.9452586\ttest: 2.4341720\tbest: 2.4339617 (697)\ttotal: 1m 32s\tremaining: 6m 12s\n",
            "699:\tlearn: 1.9447311\ttest: 2.4338514\tbest: 2.4338514 (699)\ttotal: 1m 33s\tremaining: 6m 12s\n",
            "700:\tlearn: 1.9443138\ttest: 2.4335727\tbest: 2.4335727 (700)\ttotal: 1m 33s\tremaining: 6m 12s\n",
            "701:\tlearn: 1.9436772\ttest: 2.4335622\tbest: 2.4335622 (701)\ttotal: 1m 33s\tremaining: 6m 12s\n",
            "702:\tlearn: 1.9430756\ttest: 2.4333769\tbest: 2.4333769 (702)\ttotal: 1m 33s\tremaining: 6m 12s\n",
            "703:\tlearn: 1.9420748\ttest: 2.4328191\tbest: 2.4328191 (703)\ttotal: 1m 33s\tremaining: 6m 11s\n",
            "704:\tlearn: 1.9412778\ttest: 2.4326532\tbest: 2.4326532 (704)\ttotal: 1m 33s\tremaining: 6m 11s\n",
            "705:\tlearn: 1.9407021\ttest: 2.4323270\tbest: 2.4323270 (705)\ttotal: 1m 33s\tremaining: 6m 11s\n",
            "706:\tlearn: 1.9403481\ttest: 2.4318689\tbest: 2.4318689 (706)\ttotal: 1m 34s\tremaining: 6m 11s\n",
            "707:\tlearn: 1.9398058\ttest: 2.4316150\tbest: 2.4316150 (707)\ttotal: 1m 34s\tremaining: 6m 11s\n",
            "708:\tlearn: 1.9393071\ttest: 2.4315221\tbest: 2.4315221 (708)\ttotal: 1m 34s\tremaining: 6m 11s\n",
            "709:\tlearn: 1.9386917\ttest: 2.4312393\tbest: 2.4312393 (709)\ttotal: 1m 34s\tremaining: 6m 11s\n",
            "710:\tlearn: 1.9382618\ttest: 2.4310406\tbest: 2.4310406 (710)\ttotal: 1m 34s\tremaining: 6m 11s\n",
            "711:\tlearn: 1.9377310\ttest: 2.4309958\tbest: 2.4309958 (711)\ttotal: 1m 34s\tremaining: 6m 10s\n",
            "712:\tlearn: 1.9367345\ttest: 2.4304780\tbest: 2.4304780 (712)\ttotal: 1m 34s\tremaining: 6m 10s\n",
            "713:\tlearn: 1.9363105\ttest: 2.4304900\tbest: 2.4304780 (712)\ttotal: 1m 34s\tremaining: 6m 10s\n",
            "714:\tlearn: 1.9357502\ttest: 2.4303783\tbest: 2.4303783 (714)\ttotal: 1m 35s\tremaining: 6m 10s\n",
            "715:\tlearn: 1.9354175\ttest: 2.4303129\tbest: 2.4303129 (715)\ttotal: 1m 35s\tremaining: 6m 10s\n",
            "716:\tlearn: 1.9345953\ttest: 2.4300248\tbest: 2.4300248 (716)\ttotal: 1m 35s\tremaining: 6m 10s\n",
            "717:\tlearn: 1.9343099\ttest: 2.4297519\tbest: 2.4297519 (717)\ttotal: 1m 35s\tremaining: 6m 10s\n",
            "718:\tlearn: 1.9335071\ttest: 2.4297035\tbest: 2.4297035 (718)\ttotal: 1m 35s\tremaining: 6m 10s\n",
            "719:\tlearn: 1.9330078\ttest: 2.4295245\tbest: 2.4295245 (719)\ttotal: 1m 35s\tremaining: 6m 9s\n",
            "720:\tlearn: 1.9325975\ttest: 2.4295818\tbest: 2.4295245 (719)\ttotal: 1m 35s\tremaining: 6m 9s\n",
            "721:\tlearn: 1.9321703\ttest: 2.4294802\tbest: 2.4294802 (721)\ttotal: 1m 36s\tremaining: 6m 9s\n",
            "722:\tlearn: 1.9321253\ttest: 2.4294702\tbest: 2.4294702 (722)\ttotal: 1m 36s\tremaining: 6m 9s\n",
            "723:\tlearn: 1.9316682\ttest: 2.4294223\tbest: 2.4294223 (723)\ttotal: 1m 36s\tremaining: 6m 9s\n",
            "724:\tlearn: 1.9309595\ttest: 2.4292000\tbest: 2.4292000 (724)\ttotal: 1m 36s\tremaining: 6m 9s\n",
            "725:\tlearn: 1.9308081\ttest: 2.4290807\tbest: 2.4290807 (725)\ttotal: 1m 36s\tremaining: 6m 9s\n",
            "726:\tlearn: 1.9298055\ttest: 2.4285023\tbest: 2.4285023 (726)\ttotal: 1m 36s\tremaining: 6m 8s\n",
            "727:\tlearn: 1.9293411\ttest: 2.4285234\tbest: 2.4285023 (726)\ttotal: 1m 36s\tremaining: 6m 8s\n",
            "728:\tlearn: 1.9289674\ttest: 2.4284122\tbest: 2.4284122 (728)\ttotal: 1m 37s\tremaining: 6m 8s\n",
            "729:\tlearn: 1.9285831\ttest: 2.4282682\tbest: 2.4282682 (729)\ttotal: 1m 37s\tremaining: 6m 8s\n",
            "730:\tlearn: 1.9280847\ttest: 2.4281784\tbest: 2.4281784 (730)\ttotal: 1m 37s\tremaining: 6m 8s\n",
            "731:\tlearn: 1.9279783\ttest: 2.4281883\tbest: 2.4281784 (730)\ttotal: 1m 37s\tremaining: 6m 8s\n",
            "732:\tlearn: 1.9272375\ttest: 2.4277399\tbest: 2.4277399 (732)\ttotal: 1m 37s\tremaining: 6m 8s\n",
            "733:\tlearn: 1.9265521\ttest: 2.4270735\tbest: 2.4270735 (733)\ttotal: 1m 37s\tremaining: 6m 8s\n",
            "734:\tlearn: 1.9262259\ttest: 2.4267942\tbest: 2.4267942 (734)\ttotal: 1m 37s\tremaining: 6m 7s\n",
            "735:\tlearn: 1.9256834\ttest: 2.4271364\tbest: 2.4267942 (734)\ttotal: 1m 37s\tremaining: 6m 7s\n",
            "736:\tlearn: 1.9250893\ttest: 2.4269106\tbest: 2.4267942 (734)\ttotal: 1m 38s\tremaining: 6m 7s\n",
            "737:\tlearn: 1.9241296\ttest: 2.4268481\tbest: 2.4267942 (734)\ttotal: 1m 38s\tremaining: 6m 7s\n",
            "738:\tlearn: 1.9238253\ttest: 2.4268064\tbest: 2.4267942 (734)\ttotal: 1m 38s\tremaining: 6m 7s\n",
            "739:\tlearn: 1.9236391\ttest: 2.4270316\tbest: 2.4267942 (734)\ttotal: 1m 38s\tremaining: 6m 7s\n",
            "740:\tlearn: 1.9233020\ttest: 2.4269597\tbest: 2.4267942 (734)\ttotal: 1m 38s\tremaining: 6m 7s\n",
            "741:\tlearn: 1.9226725\ttest: 2.4268671\tbest: 2.4267942 (734)\ttotal: 1m 38s\tremaining: 6m 7s\n",
            "742:\tlearn: 1.9218175\ttest: 2.4262932\tbest: 2.4262932 (742)\ttotal: 1m 38s\tremaining: 6m 7s\n",
            "743:\tlearn: 1.9209824\ttest: 2.4262432\tbest: 2.4262432 (743)\ttotal: 1m 39s\tremaining: 6m 6s\n",
            "744:\tlearn: 1.9202532\ttest: 2.4260112\tbest: 2.4260112 (744)\ttotal: 1m 39s\tremaining: 6m 6s\n",
            "745:\tlearn: 1.9198538\ttest: 2.4257029\tbest: 2.4257029 (745)\ttotal: 1m 39s\tremaining: 6m 6s\n",
            "746:\tlearn: 1.9193014\ttest: 2.4255141\tbest: 2.4255141 (746)\ttotal: 1m 39s\tremaining: 6m 6s\n",
            "747:\tlearn: 1.9186457\ttest: 2.4252783\tbest: 2.4252783 (747)\ttotal: 1m 39s\tremaining: 6m 6s\n",
            "748:\tlearn: 1.9182381\ttest: 2.4253129\tbest: 2.4252783 (747)\ttotal: 1m 39s\tremaining: 6m 6s\n",
            "749:\tlearn: 1.9171918\ttest: 2.4250033\tbest: 2.4250033 (749)\ttotal: 1m 39s\tremaining: 6m 6s\n",
            "750:\tlearn: 1.9160571\ttest: 2.4249802\tbest: 2.4249802 (750)\ttotal: 1m 39s\tremaining: 6m 5s\n",
            "751:\tlearn: 1.9154600\ttest: 2.4249223\tbest: 2.4249223 (751)\ttotal: 1m 40s\tremaining: 6m 5s\n",
            "752:\tlearn: 1.9150432\ttest: 2.4247935\tbest: 2.4247935 (752)\ttotal: 1m 40s\tremaining: 6m 5s\n",
            "753:\tlearn: 1.9145147\ttest: 2.4245558\tbest: 2.4245558 (753)\ttotal: 1m 40s\tremaining: 6m 5s\n",
            "754:\tlearn: 1.9138182\ttest: 2.4242560\tbest: 2.4242560 (754)\ttotal: 1m 40s\tremaining: 6m 5s\n",
            "755:\tlearn: 1.9137368\ttest: 2.4242375\tbest: 2.4242375 (755)\ttotal: 1m 40s\tremaining: 6m 5s\n",
            "756:\tlearn: 1.9134348\ttest: 2.4242625\tbest: 2.4242375 (755)\ttotal: 1m 40s\tremaining: 6m 5s\n",
            "757:\tlearn: 1.9130137\ttest: 2.4242181\tbest: 2.4242181 (757)\ttotal: 1m 40s\tremaining: 6m 5s\n",
            "758:\tlearn: 1.9121730\ttest: 2.4244355\tbest: 2.4242181 (757)\ttotal: 1m 41s\tremaining: 6m 4s\n",
            "759:\tlearn: 1.9117291\ttest: 2.4242007\tbest: 2.4242007 (759)\ttotal: 1m 41s\tremaining: 6m 4s\n",
            "760:\tlearn: 1.9112270\ttest: 2.4240813\tbest: 2.4240813 (760)\ttotal: 1m 41s\tremaining: 6m 4s\n",
            "761:\tlearn: 1.9106073\ttest: 2.4237823\tbest: 2.4237823 (761)\ttotal: 1m 41s\tremaining: 6m 4s\n",
            "762:\tlearn: 1.9101893\ttest: 2.4238313\tbest: 2.4237823 (761)\ttotal: 1m 41s\tremaining: 6m 4s\n",
            "763:\tlearn: 1.9098868\ttest: 2.4236655\tbest: 2.4236655 (763)\ttotal: 1m 41s\tremaining: 6m 4s\n",
            "764:\tlearn: 1.9095048\ttest: 2.4236355\tbest: 2.4236355 (764)\ttotal: 1m 41s\tremaining: 6m 4s\n",
            "765:\tlearn: 1.9090358\ttest: 2.4234419\tbest: 2.4234419 (765)\ttotal: 1m 41s\tremaining: 6m 3s\n",
            "766:\tlearn: 1.9083997\ttest: 2.4232578\tbest: 2.4232578 (766)\ttotal: 1m 42s\tremaining: 6m 3s\n",
            "767:\tlearn: 1.9080434\ttest: 2.4238503\tbest: 2.4232578 (766)\ttotal: 1m 42s\tremaining: 6m 3s\n",
            "768:\tlearn: 1.9074893\ttest: 2.4240210\tbest: 2.4232578 (766)\ttotal: 1m 42s\tremaining: 6m 3s\n",
            "769:\tlearn: 1.9071228\ttest: 2.4239271\tbest: 2.4232578 (766)\ttotal: 1m 42s\tremaining: 6m 3s\n",
            "770:\tlearn: 1.9065731\ttest: 2.4236580\tbest: 2.4232578 (766)\ttotal: 1m 42s\tremaining: 6m 3s\n",
            "771:\tlearn: 1.9059395\ttest: 2.4234376\tbest: 2.4232578 (766)\ttotal: 1m 42s\tremaining: 6m 3s\n",
            "772:\tlearn: 1.9053526\ttest: 2.4232531\tbest: 2.4232531 (772)\ttotal: 1m 42s\tremaining: 6m 2s\n",
            "773:\tlearn: 1.9050507\ttest: 2.4232282\tbest: 2.4232282 (773)\ttotal: 1m 43s\tremaining: 6m 2s\n",
            "774:\tlearn: 1.9044347\ttest: 2.4230286\tbest: 2.4230286 (774)\ttotal: 1m 43s\tremaining: 6m 2s\n",
            "775:\tlearn: 1.9039417\ttest: 2.4227054\tbest: 2.4227054 (775)\ttotal: 1m 43s\tremaining: 6m 2s\n",
            "776:\tlearn: 1.9030030\ttest: 2.4223268\tbest: 2.4223268 (776)\ttotal: 1m 43s\tremaining: 6m 2s\n",
            "777:\tlearn: 1.9022404\ttest: 2.4220058\tbest: 2.4220058 (777)\ttotal: 1m 43s\tremaining: 6m 2s\n",
            "778:\tlearn: 1.9017707\ttest: 2.4218434\tbest: 2.4218434 (778)\ttotal: 1m 43s\tremaining: 6m 2s\n",
            "779:\tlearn: 1.9014446\ttest: 2.4219597\tbest: 2.4218434 (778)\ttotal: 1m 43s\tremaining: 6m 2s\n",
            "780:\tlearn: 1.9009784\ttest: 2.4218452\tbest: 2.4218434 (778)\ttotal: 1m 43s\tremaining: 6m 1s\n",
            "781:\tlearn: 1.9003723\ttest: 2.4215470\tbest: 2.4215470 (781)\ttotal: 1m 44s\tremaining: 6m 1s\n",
            "782:\tlearn: 1.8998177\ttest: 2.4214428\tbest: 2.4214428 (782)\ttotal: 1m 44s\tremaining: 6m 1s\n",
            "783:\tlearn: 1.8995108\ttest: 2.4216819\tbest: 2.4214428 (782)\ttotal: 1m 44s\tremaining: 6m 1s\n",
            "784:\tlearn: 1.8988362\ttest: 2.4216619\tbest: 2.4214428 (782)\ttotal: 1m 44s\tremaining: 6m 1s\n",
            "785:\tlearn: 1.8980719\ttest: 2.4212063\tbest: 2.4212063 (785)\ttotal: 1m 44s\tremaining: 6m 1s\n",
            "786:\tlearn: 1.8974384\ttest: 2.4202800\tbest: 2.4202800 (786)\ttotal: 1m 44s\tremaining: 6m 1s\n",
            "787:\tlearn: 1.8965098\ttest: 2.4198583\tbest: 2.4198583 (787)\ttotal: 1m 44s\tremaining: 6m\n",
            "788:\tlearn: 1.8956277\ttest: 2.4197596\tbest: 2.4197596 (788)\ttotal: 1m 45s\tremaining: 6m\n",
            "789:\tlearn: 1.8949659\ttest: 2.4196703\tbest: 2.4196703 (789)\ttotal: 1m 45s\tremaining: 6m\n",
            "790:\tlearn: 1.8946388\ttest: 2.4199544\tbest: 2.4196703 (789)\ttotal: 1m 45s\tremaining: 6m\n",
            "791:\tlearn: 1.8939288\ttest: 2.4200096\tbest: 2.4196703 (789)\ttotal: 1m 45s\tremaining: 6m\n",
            "792:\tlearn: 1.8929854\ttest: 2.4197919\tbest: 2.4196703 (789)\ttotal: 1m 45s\tremaining: 6m\n",
            "793:\tlearn: 1.8925056\ttest: 2.4198674\tbest: 2.4196703 (789)\ttotal: 1m 45s\tremaining: 6m\n",
            "794:\tlearn: 1.8922340\ttest: 2.4198506\tbest: 2.4196703 (789)\ttotal: 1m 45s\tremaining: 6m\n",
            "795:\tlearn: 1.8918054\ttest: 2.4196277\tbest: 2.4196277 (795)\ttotal: 1m 45s\tremaining: 5m 59s\n",
            "796:\tlearn: 1.8916580\ttest: 2.4195710\tbest: 2.4195710 (796)\ttotal: 1m 46s\tremaining: 5m 59s\n",
            "797:\tlearn: 1.8914152\ttest: 2.4193206\tbest: 2.4193206 (797)\ttotal: 1m 46s\tremaining: 5m 59s\n",
            "798:\tlearn: 1.8910270\ttest: 2.4193556\tbest: 2.4193206 (797)\ttotal: 1m 46s\tremaining: 5m 59s\n",
            "799:\tlearn: 1.8906919\ttest: 2.4191891\tbest: 2.4191891 (799)\ttotal: 1m 46s\tremaining: 5m 59s\n",
            "800:\tlearn: 1.8903979\ttest: 2.4191476\tbest: 2.4191476 (800)\ttotal: 1m 46s\tremaining: 5m 59s\n",
            "801:\tlearn: 1.8902329\ttest: 2.4191778\tbest: 2.4191476 (800)\ttotal: 1m 46s\tremaining: 5m 59s\n",
            "802:\tlearn: 1.8896298\ttest: 2.4190287\tbest: 2.4190287 (802)\ttotal: 1m 46s\tremaining: 5m 59s\n",
            "803:\tlearn: 1.8895427\ttest: 2.4190747\tbest: 2.4190287 (802)\ttotal: 1m 47s\tremaining: 5m 58s\n",
            "804:\tlearn: 1.8892145\ttest: 2.4189460\tbest: 2.4189460 (804)\ttotal: 1m 47s\tremaining: 5m 58s\n",
            "805:\tlearn: 1.8888319\ttest: 2.4188805\tbest: 2.4188805 (805)\ttotal: 1m 47s\tremaining: 5m 58s\n",
            "806:\tlearn: 1.8883434\ttest: 2.4185075\tbest: 2.4185075 (806)\ttotal: 1m 47s\tremaining: 5m 58s\n",
            "807:\tlearn: 1.8878526\ttest: 2.4184155\tbest: 2.4184155 (807)\ttotal: 1m 47s\tremaining: 5m 58s\n",
            "808:\tlearn: 1.8873103\ttest: 2.4182718\tbest: 2.4182718 (808)\ttotal: 1m 47s\tremaining: 5m 58s\n",
            "809:\tlearn: 1.8872576\ttest: 2.4183009\tbest: 2.4182718 (808)\ttotal: 1m 47s\tremaining: 5m 58s\n",
            "810:\tlearn: 1.8868876\ttest: 2.4181047\tbest: 2.4181047 (810)\ttotal: 1m 47s\tremaining: 5m 57s\n",
            "811:\tlearn: 1.8865562\ttest: 2.4179663\tbest: 2.4179663 (811)\ttotal: 1m 48s\tremaining: 5m 57s\n",
            "812:\tlearn: 1.8860448\ttest: 2.4179963\tbest: 2.4179663 (811)\ttotal: 1m 48s\tremaining: 5m 57s\n",
            "813:\tlearn: 1.8853359\ttest: 2.4177812\tbest: 2.4177812 (813)\ttotal: 1m 48s\tremaining: 5m 57s\n",
            "814:\tlearn: 1.8849378\ttest: 2.4176547\tbest: 2.4176547 (814)\ttotal: 1m 48s\tremaining: 5m 57s\n",
            "815:\tlearn: 1.8844423\ttest: 2.4173137\tbest: 2.4173137 (815)\ttotal: 1m 48s\tremaining: 5m 57s\n",
            "816:\tlearn: 1.8839264\ttest: 2.4172131\tbest: 2.4172131 (816)\ttotal: 1m 48s\tremaining: 5m 57s\n",
            "817:\tlearn: 1.8834808\ttest: 2.4172067\tbest: 2.4172067 (817)\ttotal: 1m 48s\tremaining: 5m 56s\n",
            "818:\tlearn: 1.8832317\ttest: 2.4171151\tbest: 2.4171151 (818)\ttotal: 1m 49s\tremaining: 5m 56s\n",
            "819:\tlearn: 1.8826415\ttest: 2.4172041\tbest: 2.4171151 (818)\ttotal: 1m 49s\tremaining: 5m 56s\n",
            "820:\tlearn: 1.8822282\ttest: 2.4170120\tbest: 2.4170120 (820)\ttotal: 1m 49s\tremaining: 5m 56s\n",
            "821:\tlearn: 1.8816672\ttest: 2.4167618\tbest: 2.4167618 (821)\ttotal: 1m 49s\tremaining: 5m 56s\n",
            "822:\tlearn: 1.8813080\ttest: 2.4166112\tbest: 2.4166112 (822)\ttotal: 1m 49s\tremaining: 5m 56s\n",
            "823:\tlearn: 1.8810409\ttest: 2.4163481\tbest: 2.4163481 (823)\ttotal: 1m 49s\tremaining: 5m 56s\n",
            "824:\tlearn: 1.8807490\ttest: 2.4163049\tbest: 2.4163049 (824)\ttotal: 1m 49s\tremaining: 5m 56s\n",
            "825:\tlearn: 1.8804635\ttest: 2.4162473\tbest: 2.4162473 (825)\ttotal: 1m 49s\tremaining: 5m 56s\n",
            "826:\tlearn: 1.8799209\ttest: 2.4160944\tbest: 2.4160944 (826)\ttotal: 1m 50s\tremaining: 5m 55s\n",
            "827:\tlearn: 1.8795245\ttest: 2.4160264\tbest: 2.4160264 (827)\ttotal: 1m 50s\tremaining: 5m 55s\n",
            "828:\tlearn: 1.8791056\ttest: 2.4160131\tbest: 2.4160131 (828)\ttotal: 1m 50s\tremaining: 5m 55s\n",
            "829:\tlearn: 1.8787845\ttest: 2.4159486\tbest: 2.4159486 (829)\ttotal: 1m 50s\tremaining: 5m 55s\n",
            "830:\tlearn: 1.8782851\ttest: 2.4157873\tbest: 2.4157873 (830)\ttotal: 1m 50s\tremaining: 5m 55s\n",
            "831:\tlearn: 1.8782014\ttest: 2.4159121\tbest: 2.4157873 (830)\ttotal: 1m 50s\tremaining: 5m 55s\n",
            "832:\tlearn: 1.8777367\ttest: 2.4159468\tbest: 2.4157873 (830)\ttotal: 1m 50s\tremaining: 5m 55s\n",
            "833:\tlearn: 1.8770766\ttest: 2.4158559\tbest: 2.4157873 (830)\ttotal: 1m 51s\tremaining: 5m 54s\n",
            "834:\tlearn: 1.8766663\ttest: 2.4155002\tbest: 2.4155002 (834)\ttotal: 1m 51s\tremaining: 5m 54s\n",
            "835:\tlearn: 1.8761170\ttest: 2.4152247\tbest: 2.4152247 (835)\ttotal: 1m 51s\tremaining: 5m 54s\n",
            "836:\tlearn: 1.8759636\ttest: 2.4152751\tbest: 2.4152247 (835)\ttotal: 1m 51s\tremaining: 5m 54s\n",
            "837:\tlearn: 1.8755083\ttest: 2.4150032\tbest: 2.4150032 (837)\ttotal: 1m 51s\tremaining: 5m 54s\n",
            "838:\tlearn: 1.8749599\ttest: 2.4147616\tbest: 2.4147616 (838)\ttotal: 1m 51s\tremaining: 5m 54s\n",
            "839:\tlearn: 1.8742683\ttest: 2.4142892\tbest: 2.4142892 (839)\ttotal: 1m 51s\tremaining: 5m 54s\n",
            "840:\tlearn: 1.8739368\ttest: 2.4142280\tbest: 2.4142280 (840)\ttotal: 1m 51s\tremaining: 5m 53s\n",
            "841:\tlearn: 1.8735217\ttest: 2.4143270\tbest: 2.4142280 (840)\ttotal: 1m 52s\tremaining: 5m 53s\n",
            "842:\tlearn: 1.8728746\ttest: 2.4142346\tbest: 2.4142280 (840)\ttotal: 1m 52s\tremaining: 5m 53s\n",
            "843:\tlearn: 1.8720754\ttest: 2.4139658\tbest: 2.4139658 (843)\ttotal: 1m 52s\tremaining: 5m 53s\n",
            "844:\tlearn: 1.8715006\ttest: 2.4137512\tbest: 2.4137512 (844)\ttotal: 1m 52s\tremaining: 5m 53s\n",
            "845:\tlearn: 1.8706783\ttest: 2.4134467\tbest: 2.4134467 (845)\ttotal: 1m 52s\tremaining: 5m 53s\n",
            "846:\tlearn: 1.8701379\ttest: 2.4133044\tbest: 2.4133044 (846)\ttotal: 1m 52s\tremaining: 5m 53s\n",
            "847:\tlearn: 1.8696671\ttest: 2.4128842\tbest: 2.4128842 (847)\ttotal: 1m 52s\tremaining: 5m 53s\n",
            "848:\tlearn: 1.8693512\ttest: 2.4127997\tbest: 2.4127997 (848)\ttotal: 1m 53s\tremaining: 5m 52s\n",
            "849:\tlearn: 1.8688170\ttest: 2.4125953\tbest: 2.4125953 (849)\ttotal: 1m 53s\tremaining: 5m 52s\n",
            "850:\tlearn: 1.8685420\ttest: 2.4126693\tbest: 2.4125953 (849)\ttotal: 1m 53s\tremaining: 5m 52s\n",
            "851:\tlearn: 1.8682290\ttest: 2.4127415\tbest: 2.4125953 (849)\ttotal: 1m 53s\tremaining: 5m 52s\n",
            "852:\tlearn: 1.8675919\ttest: 2.4122411\tbest: 2.4122411 (852)\ttotal: 1m 53s\tremaining: 5m 52s\n",
            "853:\tlearn: 1.8674535\ttest: 2.4119221\tbest: 2.4119221 (853)\ttotal: 1m 53s\tremaining: 5m 52s\n",
            "854:\tlearn: 1.8671953\ttest: 2.4118339\tbest: 2.4118339 (854)\ttotal: 1m 53s\tremaining: 5m 52s\n",
            "855:\tlearn: 1.8668844\ttest: 2.4117155\tbest: 2.4117155 (855)\ttotal: 1m 53s\tremaining: 5m 51s\n",
            "856:\tlearn: 1.8664597\ttest: 2.4117355\tbest: 2.4117155 (855)\ttotal: 1m 54s\tremaining: 5m 51s\n",
            "857:\tlearn: 1.8661897\ttest: 2.4115406\tbest: 2.4115406 (857)\ttotal: 1m 54s\tremaining: 5m 51s\n",
            "858:\tlearn: 1.8660676\ttest: 2.4112469\tbest: 2.4112469 (858)\ttotal: 1m 54s\tremaining: 5m 51s\n",
            "859:\tlearn: 1.8656478\ttest: 2.4111128\tbest: 2.4111128 (859)\ttotal: 1m 54s\tremaining: 5m 51s\n",
            "860:\tlearn: 1.8653164\ttest: 2.4110861\tbest: 2.4110861 (860)\ttotal: 1m 54s\tremaining: 5m 51s\n",
            "861:\tlearn: 1.8650897\ttest: 2.4109797\tbest: 2.4109797 (861)\ttotal: 1m 54s\tremaining: 5m 51s\n",
            "862:\tlearn: 1.8646300\ttest: 2.4107086\tbest: 2.4107086 (862)\ttotal: 1m 54s\tremaining: 5m 50s\n",
            "863:\tlearn: 1.8642438\ttest: 2.4103758\tbest: 2.4103758 (863)\ttotal: 1m 54s\tremaining: 5m 50s\n",
            "864:\tlearn: 1.8638716\ttest: 2.4104192\tbest: 2.4103758 (863)\ttotal: 1m 55s\tremaining: 5m 50s\n",
            "865:\tlearn: 1.8633372\ttest: 2.4105527\tbest: 2.4103758 (863)\ttotal: 1m 55s\tremaining: 5m 50s\n",
            "866:\tlearn: 1.8632040\ttest: 2.4106170\tbest: 2.4103758 (863)\ttotal: 1m 55s\tremaining: 5m 50s\n",
            "867:\tlearn: 1.8629151\ttest: 2.4105141\tbest: 2.4103758 (863)\ttotal: 1m 55s\tremaining: 5m 50s\n",
            "868:\tlearn: 1.8624432\ttest: 2.4103234\tbest: 2.4103234 (868)\ttotal: 1m 55s\tremaining: 5m 50s\n",
            "869:\tlearn: 1.8619582\ttest: 2.4102346\tbest: 2.4102346 (869)\ttotal: 1m 55s\tremaining: 5m 49s\n",
            "870:\tlearn: 1.8615390\ttest: 2.4100922\tbest: 2.4100922 (870)\ttotal: 1m 55s\tremaining: 5m 49s\n",
            "871:\tlearn: 1.8609077\ttest: 2.4099338\tbest: 2.4099338 (871)\ttotal: 1m 56s\tremaining: 5m 49s\n",
            "872:\tlearn: 1.8605043\ttest: 2.4096171\tbest: 2.4096171 (872)\ttotal: 1m 56s\tremaining: 5m 49s\n",
            "873:\tlearn: 1.8600444\ttest: 2.4097007\tbest: 2.4096171 (872)\ttotal: 1m 56s\tremaining: 5m 49s\n",
            "874:\tlearn: 1.8595281\ttest: 2.4096470\tbest: 2.4096171 (872)\ttotal: 1m 56s\tremaining: 5m 49s\n",
            "875:\tlearn: 1.8592282\ttest: 2.4093606\tbest: 2.4093606 (875)\ttotal: 1m 56s\tremaining: 5m 49s\n",
            "876:\tlearn: 1.8586720\ttest: 2.4094803\tbest: 2.4093606 (875)\ttotal: 1m 56s\tremaining: 5m 49s\n",
            "877:\tlearn: 1.8581600\ttest: 2.4096291\tbest: 2.4093606 (875)\ttotal: 1m 56s\tremaining: 5m 48s\n",
            "878:\tlearn: 1.8576393\ttest: 2.4095324\tbest: 2.4093606 (875)\ttotal: 1m 56s\tremaining: 5m 48s\n",
            "879:\tlearn: 1.8573901\ttest: 2.4093206\tbest: 2.4093206 (879)\ttotal: 1m 57s\tremaining: 5m 48s\n",
            "880:\tlearn: 1.8569484\ttest: 2.4091849\tbest: 2.4091849 (880)\ttotal: 1m 57s\tremaining: 5m 48s\n",
            "881:\tlearn: 1.8566989\ttest: 2.4092053\tbest: 2.4091849 (880)\ttotal: 1m 57s\tremaining: 5m 48s\n",
            "882:\tlearn: 1.8561810\ttest: 2.4091332\tbest: 2.4091332 (882)\ttotal: 1m 57s\tremaining: 5m 48s\n",
            "883:\tlearn: 1.8553476\ttest: 2.4087286\tbest: 2.4087286 (883)\ttotal: 1m 57s\tremaining: 5m 48s\n",
            "884:\tlearn: 1.8550895\ttest: 2.4085874\tbest: 2.4085874 (884)\ttotal: 1m 57s\tremaining: 5m 47s\n",
            "885:\tlearn: 1.8549490\ttest: 2.4087060\tbest: 2.4085874 (884)\ttotal: 1m 57s\tremaining: 5m 47s\n",
            "886:\tlearn: 1.8547683\ttest: 2.4088911\tbest: 2.4085874 (884)\ttotal: 1m 58s\tremaining: 5m 47s\n",
            "887:\tlearn: 1.8543337\ttest: 2.4088660\tbest: 2.4085874 (884)\ttotal: 1m 58s\tremaining: 5m 47s\n",
            "888:\tlearn: 1.8538687\ttest: 2.4090897\tbest: 2.4085874 (884)\ttotal: 1m 58s\tremaining: 5m 47s\n",
            "889:\tlearn: 1.8536514\ttest: 2.4089105\tbest: 2.4085874 (884)\ttotal: 1m 58s\tremaining: 5m 47s\n",
            "890:\tlearn: 1.8529013\ttest: 2.4086089\tbest: 2.4085874 (884)\ttotal: 1m 58s\tremaining: 5m 47s\n",
            "891:\tlearn: 1.8523566\ttest: 2.4084664\tbest: 2.4084664 (891)\ttotal: 1m 58s\tremaining: 5m 47s\n",
            "892:\tlearn: 1.8521139\ttest: 2.4084361\tbest: 2.4084361 (892)\ttotal: 1m 58s\tremaining: 5m 46s\n",
            "893:\tlearn: 1.8519139\ttest: 2.4084577\tbest: 2.4084361 (892)\ttotal: 1m 58s\tremaining: 5m 46s\n",
            "894:\tlearn: 1.8517323\ttest: 2.4086347\tbest: 2.4084361 (892)\ttotal: 1m 59s\tremaining: 5m 46s\n",
            "895:\tlearn: 1.8515482\ttest: 2.4086692\tbest: 2.4084361 (892)\ttotal: 1m 59s\tremaining: 5m 46s\n",
            "896:\tlearn: 1.8512922\ttest: 2.4088265\tbest: 2.4084361 (892)\ttotal: 1m 59s\tremaining: 5m 46s\n",
            "897:\tlearn: 1.8510921\ttest: 2.4087533\tbest: 2.4084361 (892)\ttotal: 1m 59s\tremaining: 5m 46s\n",
            "898:\tlearn: 1.8508604\ttest: 2.4084364\tbest: 2.4084361 (892)\ttotal: 1m 59s\tremaining: 5m 46s\n",
            "899:\tlearn: 1.8506736\ttest: 2.4082728\tbest: 2.4082728 (899)\ttotal: 1m 59s\tremaining: 5m 46s\n",
            "900:\tlearn: 1.8503850\ttest: 2.4082357\tbest: 2.4082357 (900)\ttotal: 1m 59s\tremaining: 5m 45s\n",
            "901:\tlearn: 1.8499427\ttest: 2.4080197\tbest: 2.4080197 (901)\ttotal: 2m\tremaining: 5m 45s\n",
            "902:\tlearn: 1.8494668\ttest: 2.4078216\tbest: 2.4078216 (902)\ttotal: 2m\tremaining: 5m 45s\n",
            "903:\tlearn: 1.8490899\ttest: 2.4076068\tbest: 2.4076068 (903)\ttotal: 2m\tremaining: 5m 45s\n",
            "904:\tlearn: 1.8488866\ttest: 2.4074894\tbest: 2.4074894 (904)\ttotal: 2m\tremaining: 5m 45s\n",
            "905:\tlearn: 1.8488081\ttest: 2.4075356\tbest: 2.4074894 (904)\ttotal: 2m\tremaining: 5m 45s\n",
            "906:\tlearn: 1.8485702\ttest: 2.4075244\tbest: 2.4074894 (904)\ttotal: 2m\tremaining: 5m 45s\n",
            "907:\tlearn: 1.8480748\ttest: 2.4073679\tbest: 2.4073679 (907)\ttotal: 2m\tremaining: 5m 44s\n",
            "908:\tlearn: 1.8480255\ttest: 2.4073910\tbest: 2.4073679 (907)\ttotal: 2m\tremaining: 5m 44s\n",
            "909:\tlearn: 1.8474980\ttest: 2.4072413\tbest: 2.4072413 (909)\ttotal: 2m 1s\tremaining: 5m 44s\n",
            "910:\tlearn: 1.8471101\ttest: 2.4070851\tbest: 2.4070851 (910)\ttotal: 2m 1s\tremaining: 5m 44s\n",
            "911:\tlearn: 1.8467496\ttest: 2.4069542\tbest: 2.4069542 (911)\ttotal: 2m 1s\tremaining: 5m 44s\n",
            "912:\tlearn: 1.8465120\ttest: 2.4069492\tbest: 2.4069492 (912)\ttotal: 2m 1s\tremaining: 5m 44s\n",
            "913:\tlearn: 1.8460479\ttest: 2.4067635\tbest: 2.4067635 (913)\ttotal: 2m 1s\tremaining: 5m 44s\n",
            "914:\tlearn: 1.8457982\ttest: 2.4067246\tbest: 2.4067246 (914)\ttotal: 2m 1s\tremaining: 5m 43s\n",
            "915:\tlearn: 1.8453465\ttest: 2.4065274\tbest: 2.4065274 (915)\ttotal: 2m 1s\tremaining: 5m 43s\n",
            "916:\tlearn: 1.8451517\ttest: 2.4064300\tbest: 2.4064300 (916)\ttotal: 2m 2s\tremaining: 5m 43s\n",
            "917:\tlearn: 1.8446385\ttest: 2.4063269\tbest: 2.4063269 (917)\ttotal: 2m 2s\tremaining: 5m 43s\n",
            "918:\tlearn: 1.8440819\ttest: 2.4061421\tbest: 2.4061421 (918)\ttotal: 2m 2s\tremaining: 5m 43s\n",
            "919:\tlearn: 1.8435591\ttest: 2.4058123\tbest: 2.4058123 (919)\ttotal: 2m 2s\tremaining: 5m 43s\n",
            "920:\tlearn: 1.8432715\ttest: 2.4056774\tbest: 2.4056774 (920)\ttotal: 2m 2s\tremaining: 5m 43s\n",
            "921:\tlearn: 1.8428592\ttest: 2.4055920\tbest: 2.4055920 (921)\ttotal: 2m 2s\tremaining: 5m 43s\n",
            "922:\tlearn: 1.8425290\ttest: 2.4055138\tbest: 2.4055138 (922)\ttotal: 2m 2s\tremaining: 5m 42s\n",
            "923:\tlearn: 1.8423237\ttest: 2.4057854\tbest: 2.4055138 (922)\ttotal: 2m 2s\tremaining: 5m 42s\n",
            "924:\tlearn: 1.8419731\ttest: 2.4058425\tbest: 2.4055138 (922)\ttotal: 2m 3s\tremaining: 5m 42s\n",
            "925:\tlearn: 1.8416549\ttest: 2.4058489\tbest: 2.4055138 (922)\ttotal: 2m 3s\tremaining: 5m 42s\n",
            "926:\tlearn: 1.8409763\ttest: 2.4056244\tbest: 2.4055138 (922)\ttotal: 2m 3s\tremaining: 5m 42s\n",
            "927:\tlearn: 1.8405797\ttest: 2.4058494\tbest: 2.4055138 (922)\ttotal: 2m 3s\tremaining: 5m 42s\n",
            "928:\tlearn: 1.8397245\ttest: 2.4056690\tbest: 2.4055138 (922)\ttotal: 2m 3s\tremaining: 5m 42s\n",
            "929:\tlearn: 1.8394371\ttest: 2.4055403\tbest: 2.4055138 (922)\ttotal: 2m 3s\tremaining: 5m 41s\n",
            "930:\tlearn: 1.8390661\ttest: 2.4054118\tbest: 2.4054118 (930)\ttotal: 2m 3s\tremaining: 5m 41s\n",
            "931:\tlearn: 1.8386517\ttest: 2.4052937\tbest: 2.4052937 (931)\ttotal: 2m 4s\tremaining: 5m 41s\n",
            "932:\tlearn: 1.8381326\ttest: 2.4050762\tbest: 2.4050762 (932)\ttotal: 2m 4s\tremaining: 5m 41s\n",
            "933:\tlearn: 1.8380726\ttest: 2.4051705\tbest: 2.4050762 (932)\ttotal: 2m 4s\tremaining: 5m 41s\n",
            "934:\tlearn: 1.8377872\ttest: 2.4048679\tbest: 2.4048679 (934)\ttotal: 2m 4s\tremaining: 5m 41s\n",
            "935:\tlearn: 1.8375116\ttest: 2.4048493\tbest: 2.4048493 (935)\ttotal: 2m 4s\tremaining: 5m 41s\n",
            "936:\tlearn: 1.8372327\ttest: 2.4047288\tbest: 2.4047288 (936)\ttotal: 2m 4s\tremaining: 5m 41s\n",
            "937:\tlearn: 1.8368130\ttest: 2.4047561\tbest: 2.4047288 (936)\ttotal: 2m 4s\tremaining: 5m 40s\n",
            "938:\tlearn: 1.8364479\ttest: 2.4046268\tbest: 2.4046268 (938)\ttotal: 2m 4s\tremaining: 5m 40s\n",
            "939:\tlearn: 1.8360914\ttest: 2.4045680\tbest: 2.4045680 (939)\ttotal: 2m 5s\tremaining: 5m 40s\n",
            "940:\tlearn: 1.8356644\ttest: 2.4044150\tbest: 2.4044150 (940)\ttotal: 2m 5s\tremaining: 5m 40s\n",
            "941:\tlearn: 1.8349277\ttest: 2.4042616\tbest: 2.4042616 (941)\ttotal: 2m 5s\tremaining: 5m 40s\n",
            "942:\tlearn: 1.8347184\ttest: 2.4041354\tbest: 2.4041354 (942)\ttotal: 2m 5s\tremaining: 5m 40s\n",
            "943:\tlearn: 1.8343054\ttest: 2.4040280\tbest: 2.4040280 (943)\ttotal: 2m 5s\tremaining: 5m 40s\n",
            "944:\tlearn: 1.8340797\ttest: 2.4038821\tbest: 2.4038821 (944)\ttotal: 2m 5s\tremaining: 5m 39s\n",
            "945:\tlearn: 1.8337856\ttest: 2.4037659\tbest: 2.4037659 (945)\ttotal: 2m 5s\tremaining: 5m 39s\n",
            "946:\tlearn: 1.8334364\ttest: 2.4038353\tbest: 2.4037659 (945)\ttotal: 2m 6s\tremaining: 5m 39s\n",
            "947:\tlearn: 1.8330488\ttest: 2.4038736\tbest: 2.4037659 (945)\ttotal: 2m 6s\tremaining: 5m 39s\n",
            "948:\tlearn: 1.8326909\ttest: 2.4038263\tbest: 2.4037659 (945)\ttotal: 2m 6s\tremaining: 5m 39s\n",
            "949:\tlearn: 1.8326209\ttest: 2.4038653\tbest: 2.4037659 (945)\ttotal: 2m 6s\tremaining: 5m 39s\n",
            "950:\tlearn: 1.8323509\ttest: 2.4038244\tbest: 2.4037659 (945)\ttotal: 2m 6s\tremaining: 5m 39s\n",
            "951:\tlearn: 1.8321010\ttest: 2.4037096\tbest: 2.4037096 (951)\ttotal: 2m 6s\tremaining: 5m 39s\n",
            "952:\tlearn: 1.8313908\ttest: 2.4035426\tbest: 2.4035426 (952)\ttotal: 2m 6s\tremaining: 5m 38s\n",
            "953:\tlearn: 1.8313002\ttest: 2.4034852\tbest: 2.4034852 (953)\ttotal: 2m 6s\tremaining: 5m 38s\n",
            "954:\tlearn: 1.8312414\ttest: 2.4035066\tbest: 2.4034852 (953)\ttotal: 2m 7s\tremaining: 5m 38s\n",
            "955:\tlearn: 1.8311473\ttest: 2.4036136\tbest: 2.4034852 (953)\ttotal: 2m 7s\tremaining: 5m 38s\n"
          ]
        },
        {
          "output_type": "error",
          "ename": "KeyboardInterrupt",
          "evalue": "ignored",
          "traceback": [
            "\u001b[0;31m---------------------------------------------------------------------------\u001b[0m",
            "\u001b[0;31mKeyboardInterrupt\u001b[0m                         Traceback (most recent call last)",
            "\u001b[0;32m<ipython-input-390-4817d8c925b9>\u001b[0m in \u001b[0;36m<module>\u001b[0;34m()\u001b[0m\n\u001b[1;32m      3\u001b[0m                           \"depth\":10}\n\u001b[1;32m      4\u001b[0m \u001b[0mcat_bst\u001b[0m\u001b[0;34m=\u001b[0m\u001b[0mCatBoostRegressor\u001b[0m\u001b[0;34m(\u001b[0m\u001b[0;34m**\u001b[0m\u001b[0mparams\u001b[0m\u001b[0;34m,\u001b[0m\u001b[0mrandom_state\u001b[0m\u001b[0;34m=\u001b[0m\u001b[0;36m42\u001b[0m\u001b[0;34m)\u001b[0m\u001b[0;34m\u001b[0m\u001b[0;34m\u001b[0m\u001b[0m\n\u001b[0;32m----> 5\u001b[0;31m \u001b[0mcat_bst\u001b[0m\u001b[0;34m.\u001b[0m\u001b[0mfit\u001b[0m\u001b[0;34m(\u001b[0m\u001b[0mx_train\u001b[0m\u001b[0;34m,\u001b[0m\u001b[0mx_labels\u001b[0m\u001b[0;34m,\u001b[0m\u001b[0meval_set\u001b[0m\u001b[0;34m=\u001b[0m\u001b[0;34m(\u001b[0m\u001b[0my_train\u001b[0m\u001b[0;34m,\u001b[0m\u001b[0my_labels\u001b[0m\u001b[0;34m)\u001b[0m\u001b[0;34m)\u001b[0m\u001b[0;34m\u001b[0m\u001b[0;34m\u001b[0m\u001b[0m\n\u001b[0m",
            "\u001b[0;32m/usr/local/lib/python3.7/dist-packages/catboost/core.py\u001b[0m in \u001b[0;36mfit\u001b[0;34m(self, X, y, cat_features, sample_weight, baseline, use_best_model, eval_set, verbose, logging_level, plot, column_description, verbose_eval, metric_period, silent, early_stopping_rounds, save_snapshot, snapshot_file, snapshot_interval, init_model, callbacks, log_cout, log_cerr)\u001b[0m\n\u001b[1;32m   5300\u001b[0m                          \u001b[0muse_best_model\u001b[0m\u001b[0;34m,\u001b[0m \u001b[0meval_set\u001b[0m\u001b[0;34m,\u001b[0m \u001b[0mverbose\u001b[0m\u001b[0;34m,\u001b[0m \u001b[0mlogging_level\u001b[0m\u001b[0;34m,\u001b[0m \u001b[0mplot\u001b[0m\u001b[0;34m,\u001b[0m \u001b[0mcolumn_description\u001b[0m\u001b[0;34m,\u001b[0m\u001b[0;34m\u001b[0m\u001b[0;34m\u001b[0m\u001b[0m\n\u001b[1;32m   5301\u001b[0m                          \u001b[0mverbose_eval\u001b[0m\u001b[0;34m,\u001b[0m \u001b[0mmetric_period\u001b[0m\u001b[0;34m,\u001b[0m \u001b[0msilent\u001b[0m\u001b[0;34m,\u001b[0m \u001b[0mearly_stopping_rounds\u001b[0m\u001b[0;34m,\u001b[0m\u001b[0;34m\u001b[0m\u001b[0;34m\u001b[0m\u001b[0m\n\u001b[0;32m-> 5302\u001b[0;31m                          save_snapshot, snapshot_file, snapshot_interval, init_model, callbacks, log_cout, log_cerr)\n\u001b[0m\u001b[1;32m   5303\u001b[0m \u001b[0;34m\u001b[0m\u001b[0m\n\u001b[1;32m   5304\u001b[0m     \u001b[0;32mdef\u001b[0m \u001b[0mpredict\u001b[0m\u001b[0;34m(\u001b[0m\u001b[0mself\u001b[0m\u001b[0;34m,\u001b[0m \u001b[0mdata\u001b[0m\u001b[0;34m,\u001b[0m \u001b[0mprediction_type\u001b[0m\u001b[0;34m=\u001b[0m\u001b[0;32mNone\u001b[0m\u001b[0;34m,\u001b[0m \u001b[0mntree_start\u001b[0m\u001b[0;34m=\u001b[0m\u001b[0;36m0\u001b[0m\u001b[0;34m,\u001b[0m \u001b[0mntree_end\u001b[0m\u001b[0;34m=\u001b[0m\u001b[0;36m0\u001b[0m\u001b[0;34m,\u001b[0m \u001b[0mthread_count\u001b[0m\u001b[0;34m=\u001b[0m\u001b[0;34m-\u001b[0m\u001b[0;36m1\u001b[0m\u001b[0;34m,\u001b[0m \u001b[0mverbose\u001b[0m\u001b[0;34m=\u001b[0m\u001b[0;32mNone\u001b[0m\u001b[0;34m,\u001b[0m \u001b[0mtask_type\u001b[0m\u001b[0;34m=\u001b[0m\u001b[0;34m\"CPU\"\u001b[0m\u001b[0;34m)\u001b[0m\u001b[0;34m:\u001b[0m\u001b[0;34m\u001b[0m\u001b[0;34m\u001b[0m\u001b[0m\n",
            "\u001b[0;32m/usr/local/lib/python3.7/dist-packages/catboost/core.py\u001b[0m in \u001b[0;36m_fit\u001b[0;34m(self, X, y, cat_features, text_features, embedding_features, pairs, sample_weight, group_id, group_weight, subgroup_id, pairs_weight, baseline, use_best_model, eval_set, verbose, logging_level, plot, column_description, verbose_eval, metric_period, silent, early_stopping_rounds, save_snapshot, snapshot_file, snapshot_interval, init_model, callbacks, log_cout, log_cerr)\u001b[0m\n\u001b[1;32m   2040\u001b[0m                 \u001b[0mparams\u001b[0m\u001b[0;34m,\u001b[0m\u001b[0;34m\u001b[0m\u001b[0;34m\u001b[0m\u001b[0m\n\u001b[1;32m   2041\u001b[0m                 \u001b[0mallow_clear_pool\u001b[0m\u001b[0;34m,\u001b[0m\u001b[0;34m\u001b[0m\u001b[0;34m\u001b[0m\u001b[0m\n\u001b[0;32m-> 2042\u001b[0;31m                 \u001b[0mtrain_params\u001b[0m\u001b[0;34m[\u001b[0m\u001b[0;34m\"init_model\"\u001b[0m\u001b[0;34m]\u001b[0m\u001b[0;34m\u001b[0m\u001b[0;34m\u001b[0m\u001b[0m\n\u001b[0m\u001b[1;32m   2043\u001b[0m             )\n\u001b[1;32m   2044\u001b[0m \u001b[0;34m\u001b[0m\u001b[0m\n",
            "\u001b[0;32m/usr/local/lib/python3.7/dist-packages/catboost/core.py\u001b[0m in \u001b[0;36m_train\u001b[0;34m(self, train_pool, test_pool, params, allow_clear_pool, init_model)\u001b[0m\n\u001b[1;32m   1462\u001b[0m \u001b[0;34m\u001b[0m\u001b[0m\n\u001b[1;32m   1463\u001b[0m     \u001b[0;32mdef\u001b[0m \u001b[0m_train\u001b[0m\u001b[0;34m(\u001b[0m\u001b[0mself\u001b[0m\u001b[0;34m,\u001b[0m \u001b[0mtrain_pool\u001b[0m\u001b[0;34m,\u001b[0m \u001b[0mtest_pool\u001b[0m\u001b[0;34m,\u001b[0m \u001b[0mparams\u001b[0m\u001b[0;34m,\u001b[0m \u001b[0mallow_clear_pool\u001b[0m\u001b[0;34m,\u001b[0m \u001b[0minit_model\u001b[0m\u001b[0;34m)\u001b[0m\u001b[0;34m:\u001b[0m\u001b[0;34m\u001b[0m\u001b[0;34m\u001b[0m\u001b[0m\n\u001b[0;32m-> 1464\u001b[0;31m         \u001b[0mself\u001b[0m\u001b[0;34m.\u001b[0m\u001b[0m_object\u001b[0m\u001b[0;34m.\u001b[0m\u001b[0m_train\u001b[0m\u001b[0;34m(\u001b[0m\u001b[0mtrain_pool\u001b[0m\u001b[0;34m,\u001b[0m \u001b[0mtest_pool\u001b[0m\u001b[0;34m,\u001b[0m \u001b[0mparams\u001b[0m\u001b[0;34m,\u001b[0m \u001b[0mallow_clear_pool\u001b[0m\u001b[0;34m,\u001b[0m \u001b[0minit_model\u001b[0m\u001b[0;34m.\u001b[0m\u001b[0m_object\u001b[0m \u001b[0;32mif\u001b[0m \u001b[0minit_model\u001b[0m \u001b[0;32melse\u001b[0m \u001b[0;32mNone\u001b[0m\u001b[0;34m)\u001b[0m\u001b[0;34m\u001b[0m\u001b[0;34m\u001b[0m\u001b[0m\n\u001b[0m\u001b[1;32m   1465\u001b[0m         \u001b[0mself\u001b[0m\u001b[0;34m.\u001b[0m\u001b[0m_set_trained_model_attributes\u001b[0m\u001b[0;34m(\u001b[0m\u001b[0;34m)\u001b[0m\u001b[0;34m\u001b[0m\u001b[0;34m\u001b[0m\u001b[0m\n\u001b[1;32m   1466\u001b[0m \u001b[0;34m\u001b[0m\u001b[0m\n",
            "\u001b[0;32m_catboost.pyx\u001b[0m in \u001b[0;36m_catboost._CatBoost._train\u001b[0;34m()\u001b[0m\n",
            "\u001b[0;32m_catboost.pyx\u001b[0m in \u001b[0;36m_catboost._CatBoost._train\u001b[0;34m()\u001b[0m\n",
            "\u001b[0;31mKeyboardInterrupt\u001b[0m: "
          ]
        }
      ]
    },
    {
      "cell_type": "markdown",
      "source": [
        "### 특성의 중요도"
      ],
      "metadata": {
        "id": "_r5GC7z9HKI9"
      },
      "id": "_r5GC7z9HKI9"
    },
    {
      "cell_type": "code",
      "source": [
        "# Plot feature importance\n",
        "feature_importance = cat_bst.feature_importances_\n",
        "feature_importance = 100.0 * (feature_importance / feature_importance.max())\n",
        "sorted_idx = np.argsort(feature_importance)\n",
        "pos = np.arange(sorted_idx.shape[0]) + .5\n",
        "\n",
        "plt.figure(figsize=(6,6))\n",
        "plt.barh(pos, feature_importance[sorted_idx], align='center')\n",
        "plt.yticks(pos, x_train.columns[sorted_idx])\n",
        "plt.xlabel('Relative Importance')\n",
        "plt.title('Variable Importance')\n",
        "plt.show()"
      ],
      "metadata": {
        "id": "XGuCxEcBHTJZ"
      },
      "id": "XGuCxEcBHTJZ",
      "execution_count": null,
      "outputs": []
    },
    {
      "cell_type": "markdown",
      "source": [
        "### 실제값과 에측값 차이 비교하기"
      ],
      "metadata": {
        "id": "L84i8-AhHWsQ"
      },
      "id": "L84i8-AhHWsQ"
    },
    {
      "cell_type": "code",
      "source": [
        "#실제값\n",
        "x= train_date['18~20_ride']\n",
        "#예측값\n",
        "y= cat_bst.predict(x_train)"
      ],
      "metadata": {
        "id": "si7zXOxUHb-k"
      },
      "id": "si7zXOxUHb-k",
      "execution_count": null,
      "outputs": []
    },
    {
      "cell_type": "code",
      "source": [
        "plt.plot(x,c='red')\n",
        "plt.plot(y,c='blue')\n",
        "# 범위\n",
        "plt.xlim(0, 10)\n",
        "plt.ylim(0, 55)\n",
        "plt.legend(['original','predict' ])\n",
        "plt.title('Compare original predict')"
      ],
      "metadata": {
        "id": "DYlY_k83H90T"
      },
      "id": "DYlY_k83H90T",
      "execution_count": null,
      "outputs": []
    },
    {
      "cell_type": "markdown",
      "metadata": {
        "id": "b7216afb"
      },
      "source": [
        "\n",
        "## predict값을 test의 target값에 넣기"
      ],
      "id": "b7216afb"
    },
    {
      "cell_type": "code",
      "execution_count": null,
      "metadata": {
        "id": "4f0717bf"
      },
      "outputs": [],
      "source": [
        "test['18~20_ride']=model_lgb.predict(test_date)"
      ],
      "id": "4f0717bf"
    },
    {
      "cell_type": "markdown",
      "metadata": {
        "id": "11b7d50c"
      },
      "source": [
        "## 결과를 csv파일로 변환후 제출"
      ],
      "id": "11b7d50c"
    },
    {
      "cell_type": "code",
      "execution_count": null,
      "metadata": {
        "id": "159f9f9f"
      },
      "outputs": [],
      "source": [
        "test[['id','18~20_ride']].to_csv(\"jhlgb_score.csv\",index=False)"
      ],
      "id": "159f9f9f"
    }
  ],
  "metadata": {
    "colab": {
      "provenance": []
    },
    "kernelspec": {
      "display_name": "Python 3 (ipykernel)",
      "language": "python",
      "name": "python3"
    },
    "language_info": {
      "codemirror_mode": {
        "name": "ipython",
        "version": 3
      },
      "file_extension": ".py",
      "mimetype": "text/x-python",
      "name": "python",
      "nbconvert_exporter": "python",
      "pygments_lexer": "ipython3",
      "version": "3.7.12"
    }
  },
  "nbformat": 4,
  "nbformat_minor": 5
}